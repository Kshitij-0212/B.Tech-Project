{
 "cells": [
  {
   "cell_type": "code",
   "execution_count": 1,
   "metadata": {
    "id": "iZaQZGB2Y8F3"
   },
   "outputs": [
    {
     "name": "stderr",
     "output_type": "stream",
     "text": [
      "2023-03-20 04:47:38.759172: I tensorflow/core/platform/cpu_feature_guard.cc:193] This TensorFlow binary is optimized with oneAPI Deep Neural Network Library (oneDNN) to use the following CPU instructions in performance-critical operations:  AVX2 FMA\n",
      "To enable them in other operations, rebuild TensorFlow with the appropriate compiler flags.\n",
      "2023-03-20 04:47:38.929904: W tensorflow/compiler/xla/stream_executor/platform/default/dso_loader.cc:64] Could not load dynamic library 'libcudart.so.11.0'; dlerror: libcudart.so.11.0: cannot open shared object file: No such file or directory\n",
      "2023-03-20 04:47:38.929945: I tensorflow/compiler/xla/stream_executor/cuda/cudart_stub.cc:29] Ignore above cudart dlerror if you do not have a GPU set up on your machine.\n",
      "2023-03-20 04:47:39.710769: W tensorflow/compiler/xla/stream_executor/platform/default/dso_loader.cc:64] Could not load dynamic library 'libnvinfer.so.7'; dlerror: libnvinfer.so.7: cannot open shared object file: No such file or directory\n",
      "2023-03-20 04:47:39.710847: W tensorflow/compiler/xla/stream_executor/platform/default/dso_loader.cc:64] Could not load dynamic library 'libnvinfer_plugin.so.7'; dlerror: libnvinfer_plugin.so.7: cannot open shared object file: No such file or directory\n",
      "2023-03-20 04:47:39.710858: W tensorflow/compiler/tf2tensorrt/utils/py_utils.cc:38] TF-TRT Warning: Cannot dlopen some TensorRT libraries. If you would like to use Nvidia GPU with TensorRT, please make sure the missing libraries mentioned above are installed properly.\n",
      "/usr/lib/python3/dist-packages/requests/__init__.py:89: RequestsDependencyWarning: urllib3 (1.26.12) or chardet (3.0.4) doesn't match a supported version!\n",
      "  warnings.warn(\"urllib3 ({}) or chardet ({}) doesn't match a supported \"\n"
     ]
    },
    {
     "name": "stdout",
     "output_type": "stream",
     "text": [
      "WARNING:tensorflow:From /home/kshitij/.local/lib/python3.8/site-packages/tensorflow/python/compat/v2_compat.py:107: disable_resource_variables (from tensorflow.python.ops.variable_scope) is deprecated and will be removed in a future version.\n",
      "Instructions for updating:\n",
      "non-resource variables are not supported in the long term\n"
     ]
    }
   ],
   "source": [
    "import numpy as np\n",
    "import tensorflow.compat.v1 as tf \n",
    "import recsim\n",
    "tf.disable_v2_behavior()          \n",
    "\n",
    "from recsim.environments import interest_evolution\n",
    "from recsim.agents import full_slate_q_agent, slate_decomp_q_agent\n",
    "from recsim.simulator import runner_lib"
   ]
  },
  {
   "cell_type": "code",
   "execution_count": 2,
   "metadata": {
    "id": "4AUL1O7WZPv_"
   },
   "outputs": [],
   "source": [
    "# Declare standard Full Slate Q-Agent and SlateQ agent\n",
    "\n",
    "def create_q_agent(sess, environment, eval_mode, summary_writer=None):\n",
    "    \"\"\"\n",
    "    Standard, non-decomposed Q-learning\n",
    "    \"\"\"\n",
    "    kwargs = {\n",
    "      'observation_space': environment.observation_space,\n",
    "      'action_space': environment.action_space,\n",
    "      'summary_writer': summary_writer,\n",
    "      'eval_mode': eval_mode,\n",
    "    }\n",
    "    return full_slate_q_agent.FullSlateQAgent(sess, **kwargs)\n",
    "\n",
    "\n",
    "\n",
    "def create_decomp_q_agent(sess, environment, eval_mode, summary_writer=None):\n",
    "    \"\"\"\n",
    "    This is one variant of the agent featured in SlateQ paper\n",
    "    \"\"\"\n",
    "    kwargs = {\n",
    "      'observation_space': environment.observation_space,\n",
    "      'action_space': environment.action_space,\n",
    "      'summary_writer': summary_writer,\n",
    "      'eval_mode': eval_mode,\n",
    "    }\n",
    "    return slate_decomp_q_agent.create_agent(agent_name= 'slate_optimal_optimal_q', sess=sess, **kwargs)"
   ]
  },
  {
   "cell_type": "code",
   "execution_count": 3,
   "metadata": {
    "id": "2J8uWTkMZfQC"
   },
   "outputs": [],
   "source": [
    "# environment config\n",
    "\n",
    "seed = 0\n",
    "np.random.seed(seed)\n",
    "env_config = {\n",
    "  'num_candidates': 10,\n",
    "  'slate_size': 2,\n",
    "  'resample_documents': True,\n",
    "  'seed': seed,\n",
    "  }"
   ]
  },
  {
   "cell_type": "code",
   "execution_count": 4,
   "metadata": {
    "id": "1So1ZpVTZiwM",
    "scrolled": true
   },
   "outputs": [
    {
     "name": "stdout",
     "output_type": "stream",
     "text": [
      "INFO:tensorflow:max_training_steps = 50, number_iterations = 10,checkpoint frequency = 1 iterations.\n"
     ]
    },
    {
     "name": "stderr",
     "output_type": "stream",
     "text": [
      "INFO:tensorflow:max_training_steps = 50, number_iterations = 10,checkpoint frequency = 1 iterations.\n"
     ]
    },
    {
     "name": "stdout",
     "output_type": "stream",
     "text": [
      "INFO:tensorflow:max_steps_per_episode = 27000\n"
     ]
    },
    {
     "name": "stderr",
     "output_type": "stream",
     "text": [
      "INFO:tensorflow:max_steps_per_episode = 27000\n",
      "2023-03-20 04:47:41.800262: I tensorflow/core/platform/cpu_feature_guard.cc:193] This TensorFlow binary is optimized with oneAPI Deep Neural Network Library (oneDNN) to use the following CPU instructions in performance-critical operations:  AVX2 FMA\n",
      "To enable them in other operations, rebuild TensorFlow with the appropriate compiler flags.\n",
      "2023-03-20 04:47:41.834923: E tensorflow/compiler/xla/stream_executor/cuda/cuda_driver.cc:267] failed call to cuInit: CUDA_ERROR_NO_DEVICE: no CUDA-capable device is detected\n",
      "2023-03-20 04:47:41.834953: I tensorflow/compiler/xla/stream_executor/cuda/cuda_diagnostics.cc:156] kernel driver does not appear to be running on this host (kshitij-Inspiron-5570): /proc/driver/nvidia/version does not exist\n"
     ]
    },
    {
     "name": "stdout",
     "output_type": "stream",
     "text": [
      "WARNING:tensorflow:From /home/kshitij/.local/lib/python3.8/site-packages/tensorflow/python/training/rmsprop.py:188: calling Ones.__init__ (from tensorflow.python.ops.init_ops) with dtype is deprecated and will be removed in a future version.\n",
      "Instructions for updating:\n",
      "Call initializer instance with the dtype argument instead of passing it to the constructor\n"
     ]
    },
    {
     "name": "stderr",
     "output_type": "stream",
     "text": [
      "WARNING:tensorflow:From /home/kshitij/.local/lib/python3.8/site-packages/tensorflow/python/training/rmsprop.py:188: calling Ones.__init__ (from tensorflow.python.ops.init_ops) with dtype is deprecated and will be removed in a future version.\n",
      "Instructions for updating:\n",
      "Call initializer instance with the dtype argument instead of passing it to the constructor\n",
      "2023-03-20 04:48:07.616365: I tensorflow/compiler/mlir/mlir_graph_optimization_pass.cc:357] MLIR V1 optimization pass is not enabled\n",
      "2023-03-20 04:48:15.743392: W tensorflow/c/c_api.cc:291] Operation '{name:'networks/network/Online_89/output/bias/RMSProp_2/Assign' id:34000 op device:{requested: '/device:CPU:*', assigned: ''} def:{{{node networks/network/Online_89/output/bias/RMSProp_2/Assign}} = AssignVariableOp[_has_manual_control_dependencies=true, dtype=DT_FLOAT, validate_shape=false, _device=\"/device:CPU:*\"](networks/network/Online_89/output/bias/RMSProp_2, networks/network/Online_89/output/bias/RMSProp_2/Initializer/zeros)}}' was changed by setting attribute after it was run by a session. This mutation will have no effect, and will trigger an error in the future. Either don't modify nodes after running them or create a new session.\n"
     ]
    },
    {
     "name": "stdout",
     "output_type": "stream",
     "text": [
      "INFO:tensorflow:Beginning training...\n"
     ]
    },
    {
     "name": "stderr",
     "output_type": "stream",
     "text": [
      "INFO:tensorflow:Beginning training...\n"
     ]
    },
    {
     "name": "stdout",
     "output_type": "stream",
     "text": [
      "INFO:tensorflow:Starting iteration 0\n"
     ]
    },
    {
     "name": "stderr",
     "output_type": "stream",
     "text": [
      "INFO:tensorflow:Starting iteration 0\n"
     ]
    },
    {
     "name": "stdout",
     "output_type": "stream",
     "text": [
      "INFO:tensorflow:Starting iteration 1\n"
     ]
    },
    {
     "name": "stderr",
     "output_type": "stream",
     "text": [
      "INFO:tensorflow:Starting iteration 1\n"
     ]
    },
    {
     "name": "stdout",
     "output_type": "stream",
     "text": [
      "INFO:tensorflow:Starting iteration 2\n"
     ]
    },
    {
     "name": "stderr",
     "output_type": "stream",
     "text": [
      "INFO:tensorflow:Starting iteration 2\n"
     ]
    },
    {
     "name": "stdout",
     "output_type": "stream",
     "text": [
      "INFO:tensorflow:Starting iteration 3\n"
     ]
    },
    {
     "name": "stderr",
     "output_type": "stream",
     "text": [
      "INFO:tensorflow:Starting iteration 3\n"
     ]
    },
    {
     "name": "stdout",
     "output_type": "stream",
     "text": [
      "INFO:tensorflow:Starting iteration 4\n"
     ]
    },
    {
     "name": "stderr",
     "output_type": "stream",
     "text": [
      "INFO:tensorflow:Starting iteration 4\n"
     ]
    },
    {
     "name": "stdout",
     "output_type": "stream",
     "text": [
      "WARNING:tensorflow:From /home/kshitij/.local/lib/python3.8/site-packages/tensorflow/python/training/saver.py:1064: remove_checkpoint (from tensorflow.python.checkpoint.checkpoint_management) is deprecated and will be removed in a future version.\n",
      "Instructions for updating:\n",
      "Use standard file APIs to delete files with this prefix.\n"
     ]
    },
    {
     "name": "stderr",
     "output_type": "stream",
     "text": [
      "WARNING:tensorflow:From /home/kshitij/.local/lib/python3.8/site-packages/tensorflow/python/training/saver.py:1064: remove_checkpoint (from tensorflow.python.checkpoint.checkpoint_management) is deprecated and will be removed in a future version.\n",
      "Instructions for updating:\n",
      "Use standard file APIs to delete files with this prefix.\n"
     ]
    },
    {
     "name": "stdout",
     "output_type": "stream",
     "text": [
      "INFO:tensorflow:Starting iteration 5\n"
     ]
    },
    {
     "name": "stderr",
     "output_type": "stream",
     "text": [
      "INFO:tensorflow:Starting iteration 5\n"
     ]
    },
    {
     "name": "stdout",
     "output_type": "stream",
     "text": [
      "INFO:tensorflow:Starting iteration 6\n"
     ]
    },
    {
     "name": "stderr",
     "output_type": "stream",
     "text": [
      "INFO:tensorflow:Starting iteration 6\n"
     ]
    },
    {
     "name": "stdout",
     "output_type": "stream",
     "text": [
      "INFO:tensorflow:Starting iteration 7\n"
     ]
    },
    {
     "name": "stderr",
     "output_type": "stream",
     "text": [
      "INFO:tensorflow:Starting iteration 7\n"
     ]
    },
    {
     "name": "stdout",
     "output_type": "stream",
     "text": [
      "INFO:tensorflow:Starting iteration 8\n"
     ]
    },
    {
     "name": "stderr",
     "output_type": "stream",
     "text": [
      "INFO:tensorflow:Starting iteration 8\n"
     ]
    },
    {
     "name": "stdout",
     "output_type": "stream",
     "text": [
      "INFO:tensorflow:Starting iteration 9\n"
     ]
    },
    {
     "name": "stderr",
     "output_type": "stream",
     "text": [
      "INFO:tensorflow:Starting iteration 9\n"
     ]
    }
   ],
   "source": [
    "# training\n",
    "\n",
    "tmp_q_dir = './results/fullslate_q/'\n",
    "runner = runner_lib.TrainRunner(\n",
    "    base_dir=tmp_q_dir,\n",
    "    create_agent_fn=create_q_agent,\n",
    "    env=interest_evolution.create_environment(env_config),\n",
    "    episode_log_file=\"\",\n",
    "    max_training_steps=50,\n",
    "    num_iterations=10)\n",
    "runner.run_experiment()"
   ]
  },
  {
   "cell_type": "code",
   "execution_count": 5,
   "metadata": {},
   "outputs": [
    {
     "name": "stdout",
     "output_type": "stream",
     "text": [
      "INFO:tensorflow:max_eval_episodes = 5\n"
     ]
    },
    {
     "name": "stderr",
     "output_type": "stream",
     "text": [
      "INFO:tensorflow:max_eval_episodes = 5\n"
     ]
    },
    {
     "name": "stdout",
     "output_type": "stream",
     "text": [
      "INFO:tensorflow:max_steps_per_episode = 27000\n"
     ]
    },
    {
     "name": "stderr",
     "output_type": "stream",
     "text": [
      "INFO:tensorflow:max_steps_per_episode = 27000\n",
      "2023-03-20 04:50:12.650321: W tensorflow/c/c_api.cc:291] Operation '{name:'networks/network/Online_89/output/bias/RMSProp_2/Assign' id:34000 op device:{requested: '/device:CPU:*', assigned: ''} def:{{{node networks/network/Online_89/output/bias/RMSProp_2/Assign}} = AssignVariableOp[_has_manual_control_dependencies=true, dtype=DT_FLOAT, validate_shape=false, _device=\"/device:CPU:*\"](networks/network/Online_89/output/bias/RMSProp_2, networks/network/Online_89/output/bias/RMSProp_2/Initializer/zeros)}}' was changed by setting attribute after it was run by a session. This mutation will have no effect, and will trigger an error in the future. Either don't modify nodes after running them or create a new session.\n"
     ]
    },
    {
     "name": "stdout",
     "output_type": "stream",
     "text": [
      "INFO:tensorflow:Beginning evaluation...\n"
     ]
    },
    {
     "name": "stderr",
     "output_type": "stream",
     "text": [
      "INFO:tensorflow:Beginning evaluation...\n"
     ]
    },
    {
     "name": "stdout",
     "output_type": "stream",
     "text": [
      "INFO:tensorflow:Restoring parameters from ./results/fullslate_q/train/checkpoints/tf_ckpt-9\n"
     ]
    },
    {
     "name": "stderr",
     "output_type": "stream",
     "text": [
      "INFO:tensorflow:Restoring parameters from ./results/fullslate_q/train/checkpoints/tf_ckpt-9\n"
     ]
    },
    {
     "name": "stdout",
     "output_type": "stream",
     "text": [
      "INFO:tensorflow:eval_file: ./results/fullslate_q/eval_5/returns_807\n"
     ]
    },
    {
     "name": "stderr",
     "output_type": "stream",
     "text": [
      "INFO:tensorflow:eval_file: ./results/fullslate_q/eval_5/returns_807\n"
     ]
    }
   ],
   "source": [
    "# evaluating\n",
    "\n",
    "runner = runner_lib.EvalRunner(\n",
    "      base_dir=tmp_q_dir,\n",
    "      create_agent_fn=create_q_agent,\n",
    "      env=interest_evolution.create_environment(env_config),\n",
    "      max_eval_episodes=5,\n",
    "      test_mode=True)\n",
    "runner.run_experiment()"
   ]
  },
  {
   "cell_type": "code",
   "execution_count": 6,
   "metadata": {},
   "outputs": [
    {
     "name": "stdout",
     "output_type": "stream",
     "text": [
      "INFO:tensorflow:max_training_steps = 50, number_iterations = 10,checkpoint frequency = 1 iterations.\n"
     ]
    },
    {
     "name": "stderr",
     "output_type": "stream",
     "text": [
      "INFO:tensorflow:max_training_steps = 50, number_iterations = 10,checkpoint frequency = 1 iterations.\n"
     ]
    },
    {
     "name": "stdout",
     "output_type": "stream",
     "text": [
      "INFO:tensorflow:max_steps_per_episode = 27000\n"
     ]
    },
    {
     "name": "stderr",
     "output_type": "stream",
     "text": [
      "INFO:tensorflow:max_steps_per_episode = 27000\n"
     ]
    },
    {
     "name": "stdout",
     "output_type": "stream",
     "text": [
      "WARNING:tensorflow:From /home/kshitij/.local/lib/python3.8/site-packages/recsim/agents/slate_decomp_q_agent.py:203: calling map_fn (from tensorflow.python.ops.map_fn) with dtype is deprecated and will be removed in a future version.\n",
      "Instructions for updating:\n",
      "Use fn_output_signature instead\n"
     ]
    },
    {
     "name": "stderr",
     "output_type": "stream",
     "text": [
      "WARNING:tensorflow:From /home/kshitij/.local/lib/python3.8/site-packages/recsim/agents/slate_decomp_q_agent.py:203: calling map_fn (from tensorflow.python.ops.map_fn) with dtype is deprecated and will be removed in a future version.\n",
      "Instructions for updating:\n",
      "Use fn_output_signature instead\n"
     ]
    },
    {
     "name": "stdout",
     "output_type": "stream",
     "text": [
      "WARNING:tensorflow:From /home/kshitij/.local/lib/python3.8/site-packages/tensorflow/python/autograph/pyct/static_analysis/liveness.py:83: Analyzer.lamba_check (from tensorflow.python.autograph.pyct.static_analysis.liveness) is deprecated and will be removed after 2023-09-23.\n",
      "Instructions for updating:\n",
      "Lambda fuctions will be no more assumed to be used in the statement where they are used, or at least in the same block. https://github.com/tensorflow/tensorflow/issues/56089\n"
     ]
    },
    {
     "name": "stderr",
     "output_type": "stream",
     "text": [
      "WARNING:tensorflow:From /home/kshitij/.local/lib/python3.8/site-packages/tensorflow/python/autograph/pyct/static_analysis/liveness.py:83: Analyzer.lamba_check (from tensorflow.python.autograph.pyct.static_analysis.liveness) is deprecated and will be removed after 2023-09-23.\n",
      "Instructions for updating:\n",
      "Lambda fuctions will be no more assumed to be used in the statement where they are used, or at least in the same block. https://github.com/tensorflow/tensorflow/issues/56089\n"
     ]
    },
    {
     "name": "stdout",
     "output_type": "stream",
     "text": [
      "WARNING:tensorflow:From /home/kshitij/.local/lib/python3.8/site-packages/recsim/agents/slate_decomp_q_agent.py:618: Print (from tensorflow.python.ops.logging_ops) is deprecated and will be removed after 2018-08-20.\n",
      "Instructions for updating:\n",
      "Use tf.print instead of tf.Print. Note that tf.print returns a no-output operator that directly prints the output. Outside of defuns or eager mode, this operator will not be executed unless it is directly specified in session.run or used as a control dependency for other operators. This is only a concern in graph mode. Below is an example of how to ensure tf.print executes in graph mode:\n",
      "\n"
     ]
    },
    {
     "name": "stderr",
     "output_type": "stream",
     "text": [
      "WARNING:tensorflow:From /home/kshitij/.local/lib/python3.8/site-packages/recsim/agents/slate_decomp_q_agent.py:618: Print (from tensorflow.python.ops.logging_ops) is deprecated and will be removed after 2018-08-20.\n",
      "Instructions for updating:\n",
      "Use tf.print instead of tf.Print. Note that tf.print returns a no-output operator that directly prints the output. Outside of defuns or eager mode, this operator will not be executed unless it is directly specified in session.run or used as a control dependency for other operators. This is only a concern in graph mode. Below is an example of how to ensure tf.print executes in graph mode:\n",
      "\n"
     ]
    },
    {
     "name": "stdout",
     "output_type": "stream",
     "text": [
      "WARNING:tensorflow:From /home/kshitij/.local/lib/python3.8/site-packages/tensorflow/python/util/dispatch.py:1176: batch_gather (from tensorflow.python.ops.array_ops) is deprecated and will be removed after 2017-10-25.\n",
      "Instructions for updating:\n",
      "`tf.batch_gather` is deprecated, please use `tf.gather` with `batch_dims=tf.rank(indices) - 1` instead.\n"
     ]
    },
    {
     "name": "stderr",
     "output_type": "stream",
     "text": [
      "WARNING:tensorflow:From /home/kshitij/.local/lib/python3.8/site-packages/tensorflow/python/util/dispatch.py:1176: batch_gather (from tensorflow.python.ops.array_ops) is deprecated and will be removed after 2017-10-25.\n",
      "Instructions for updating:\n",
      "`tf.batch_gather` is deprecated, please use `tf.gather` with `batch_dims=tf.rank(indices) - 1` instead.\n",
      "2023-03-20 04:50:38.790075: W tensorflow/c/c_api.cc:291] Operation '{name:'networks/network/Online_9/output/bias/RMSProp_2/Assign' id:4911 op device:{requested: '/device:CPU:*', assigned: ''} def:{{{node networks/network/Online_9/output/bias/RMSProp_2/Assign}} = AssignVariableOp[_has_manual_control_dependencies=true, dtype=DT_FLOAT, validate_shape=false, _device=\"/device:CPU:*\"](networks/network/Online_9/output/bias/RMSProp_2, networks/network/Online_9/output/bias/RMSProp_2/Initializer/zeros)}}' was changed by setting attribute after it was run by a session. This mutation will have no effect, and will trigger an error in the future. Either don't modify nodes after running them or create a new session.\n"
     ]
    },
    {
     "name": "stdout",
     "output_type": "stream",
     "text": [
      "INFO:tensorflow:Beginning training...\n"
     ]
    },
    {
     "name": "stderr",
     "output_type": "stream",
     "text": [
      "INFO:tensorflow:Beginning training...\n"
     ]
    },
    {
     "name": "stdout",
     "output_type": "stream",
     "text": [
      "INFO:tensorflow:Starting iteration 0\n"
     ]
    },
    {
     "name": "stderr",
     "output_type": "stream",
     "text": [
      "INFO:tensorflow:Starting iteration 0\n"
     ]
    },
    {
     "name": "stdout",
     "output_type": "stream",
     "text": [
      "INFO:tensorflow:Starting iteration 1\n"
     ]
    },
    {
     "name": "stderr",
     "output_type": "stream",
     "text": [
      "INFO:tensorflow:Starting iteration 1\n"
     ]
    },
    {
     "name": "stdout",
     "output_type": "stream",
     "text": [
      "INFO:tensorflow:Starting iteration 2\n"
     ]
    },
    {
     "name": "stderr",
     "output_type": "stream",
     "text": [
      "INFO:tensorflow:Starting iteration 2\n"
     ]
    },
    {
     "name": "stdout",
     "output_type": "stream",
     "text": [
      "INFO:tensorflow:Starting iteration 3\n"
     ]
    },
    {
     "name": "stderr",
     "output_type": "stream",
     "text": [
      "INFO:tensorflow:Starting iteration 3\n"
     ]
    },
    {
     "name": "stdout",
     "output_type": "stream",
     "text": [
      "INFO:tensorflow:Starting iteration 4\n"
     ]
    },
    {
     "name": "stderr",
     "output_type": "stream",
     "text": [
      "INFO:tensorflow:Starting iteration 4\n"
     ]
    },
    {
     "name": "stdout",
     "output_type": "stream",
     "text": [
      "INFO:tensorflow:Starting iteration 5\n"
     ]
    },
    {
     "name": "stderr",
     "output_type": "stream",
     "text": [
      "INFO:tensorflow:Starting iteration 5\n"
     ]
    },
    {
     "name": "stdout",
     "output_type": "stream",
     "text": [
      "INFO:tensorflow:Starting iteration 6\n"
     ]
    },
    {
     "name": "stderr",
     "output_type": "stream",
     "text": [
      "INFO:tensorflow:Starting iteration 6\n"
     ]
    },
    {
     "name": "stdout",
     "output_type": "stream",
     "text": [
      "INFO:tensorflow:Starting iteration 7\n"
     ]
    },
    {
     "name": "stderr",
     "output_type": "stream",
     "text": [
      "INFO:tensorflow:Starting iteration 7\n"
     ]
    },
    {
     "name": "stdout",
     "output_type": "stream",
     "text": [
      "INFO:tensorflow:Starting iteration 8\n"
     ]
    },
    {
     "name": "stderr",
     "output_type": "stream",
     "text": [
      "INFO:tensorflow:Starting iteration 8\n"
     ]
    },
    {
     "name": "stdout",
     "output_type": "stream",
     "text": [
      "INFO:tensorflow:Starting iteration 9\n"
     ]
    },
    {
     "name": "stderr",
     "output_type": "stream",
     "text": [
      "INFO:tensorflow:Starting iteration 9\n"
     ]
    }
   ],
   "source": [
    "# training\n",
    "\n",
    "tmp_decomp_q_dir = './results/decomp_q/'\n",
    "runner = runner_lib.TrainRunner(\n",
    "    base_dir=tmp_decomp_q_dir,\n",
    "    create_agent_fn=create_decomp_q_agent,\n",
    "    env=interest_evolution.create_environment(env_config),\n",
    "    episode_log_file=\"\",\n",
    "    max_training_steps=50,\n",
    "    num_iterations=10)\n",
    "runner.run_experiment()"
   ]
  },
  {
   "cell_type": "code",
   "execution_count": 7,
   "metadata": {},
   "outputs": [
    {
     "name": "stdout",
     "output_type": "stream",
     "text": [
      "INFO:tensorflow:max_eval_episodes = 5\n"
     ]
    },
    {
     "name": "stderr",
     "output_type": "stream",
     "text": [
      "INFO:tensorflow:max_eval_episodes = 5\n"
     ]
    },
    {
     "name": "stdout",
     "output_type": "stream",
     "text": [
      "INFO:tensorflow:max_steps_per_episode = 27000\n"
     ]
    },
    {
     "name": "stderr",
     "output_type": "stream",
     "text": [
      "INFO:tensorflow:max_steps_per_episode = 27000\n",
      "2023-03-20 04:51:48.613623: W tensorflow/c/c_api.cc:291] Operation '{name:'networks/network/Online_9/output/bias/RMSProp_2/Assign' id:4911 op device:{requested: '/device:CPU:*', assigned: ''} def:{{{node networks/network/Online_9/output/bias/RMSProp_2/Assign}} = AssignVariableOp[_has_manual_control_dependencies=true, dtype=DT_FLOAT, validate_shape=false, _device=\"/device:CPU:*\"](networks/network/Online_9/output/bias/RMSProp_2, networks/network/Online_9/output/bias/RMSProp_2/Initializer/zeros)}}' was changed by setting attribute after it was run by a session. This mutation will have no effect, and will trigger an error in the future. Either don't modify nodes after running them or create a new session.\n"
     ]
    },
    {
     "name": "stdout",
     "output_type": "stream",
     "text": [
      "INFO:tensorflow:Beginning evaluation...\n"
     ]
    },
    {
     "name": "stderr",
     "output_type": "stream",
     "text": [
      "INFO:tensorflow:Beginning evaluation...\n"
     ]
    },
    {
     "name": "stdout",
     "output_type": "stream",
     "text": [
      "INFO:tensorflow:Restoring parameters from ./results/decomp_q/train/checkpoints/tf_ckpt-9\n"
     ]
    },
    {
     "name": "stderr",
     "output_type": "stream",
     "text": [
      "INFO:tensorflow:Restoring parameters from ./results/decomp_q/train/checkpoints/tf_ckpt-9\n",
      "[cp 1][7 0][1.13608909 1.08976638 1.78354597 0.847309589 0.875174403 1.43037868 0.875174403 1.66523969 1.29178822 1.74002433][0.11992012 0.0347252674 -0.0388753712 -0.124665059 -0.079767257 0.0676664487 0.105826005 0.250498235 0.0331752077 0.0637502819]\n",
      "[cp 1][7 6][0.0404367931 0.174258605 1.09762704 0.142072111 1.78354597 1.09762704 1.58345008 1.0577898 1.55631351 1.09762704][-0.0305368528 0.177585065 0.0711663142 -0.162075564 -0.143018827 0.0425811671 0.222593129 0.25732097 0.177007198 0.107350647]\n",
      "[cp 1][8 1][0.847309589 1.66523969 0.174258605 1.43037868 1.43037868 1.55631351 1.09762704 1.58345008 1.0577898 0.847309589][-0.0591401532 0.12945728 0.019478878 -0.318242073 -0.297987074 0.00737527572 0.0957317576 0.0443164781 0.156160489 0.157734141]\n",
      "[cp 1][9 7][1.92732549 0.174258605 1.85119331 1.29178822 0.766883 1.09762704 1.69885898 1.85119331 0.0404367931 1.09762704][-0.0210991297 0.177467406 0.0840383619 -0.308906764 -0.159470811 0.0406810082 0.0892916545 0.176109314 0.198088855 0.107412666]\n",
      "[cp 1][8 7][1.58345008 1.20552671 1.20552671 1.69885898 1.55631351 1.43037868 0.847309589 1.0577898 1.20552671 1.09762704][0.0326484926 0.0803307891 0.101685509 -0.279535443 -0.130169809 0.0666907951 0.183293298 0.257534 0.169503972 0.107412666]\n",
      "[cp 1][9 6][0.875174403 1.92732549 1.85119331 1.85119331 0.0404367931 1.92732549 1.20552671 0.142072111 1.09762704 1.85119331][0.134969354 0.144657716 0.138393149 -0.221029475 -0.284213096 -0.0425938554 0.203871965 0.0936448574 0.157687217 0.17732133]\n",
      "[cp 1][7 6][1.85783637 0.142072111 0.0404367931 1.74002433 1.43037868 0.875174403 1.85783637 0.766883 1.55631351 1.43037868][-0.00629463047 0.141439319 0.234748095 -0.243046343 -0.306027055 0.0427736305 0.160519734 0.227725953 0.157786638 0.0314346887]\n",
      "[cp 1][7 2][1.13608909 1.13608909 0.875174403 0.791461825 1.92732549 1.29178822 0.174258605 1.74002433 0.142072111 1.08976638][0.133898944 0.0347092077 0.217308521 -0.159283787 -0.206126332 0.0879887119 0.166326731 0.24384585 0.057976 0.0790278912]\n",
      "[cp 1][7 5][1.78354597 1.08976638 0.142072111 0.483186096 1.58345008 1.43037868 1.13608909 1.29178822 1.92732549 1.20552671][-0.148492485 0.0253806785 0.115259804 -0.220045343 -0.343584329 0.0754921287 0.0444808379 0.0714824349 0.0471901149 0.0698223785]\n",
      "[cp 1][8 7][1.4422574 1.69885898 0.0404367931 0.847309589 0.0404367931 1.08976638 1.55631351 1.55631351 1.69885898 1.4422574][-0.000576652586 0.103481963 0.296830744 -0.135859475 -0.268779755 0.125840575 0.0450617373 0.126641095 0.125929177 0.0476289615]\n",
      "[cp 1][7 1][1.4422574 1.78354597 1.78354597 0.875174403 1.78354597 1.69885898 0.483186096 0.483186096 0.791461825 0.0404367931][-0.000576652586 0.195918769 0.0141384639 -0.339323878 -0.119336896 -0.101705357 0.166924983 0.24189882 0.154841691 0.0794878751]\n",
      "[cp 1][8 7][1.58345008 1.08976638 1.74002433 0.142072111 1.09762704 1.85783637 1.69885898 0.791461825 0.847309589 0.847309589][0.0146739669 0.0170665607 0.0927313864 -0.214936748 -0.199612021 0.154395029 0.0950302258 0.248033285 0.242626429 0.158032775]\n",
      "[cp 1][8 7][1.08976638 1.85783637 1.4422574 0.791461825 1.14031529 1.58345008 0.142072111 0.483186096 1.55631351 0.791461825][-0.00505342754 -0.0251701195 0.0647712424 -0.140817285 -0.081403181 0.0600863546 0.0692439824 0.19346489 0.147538409 0.0912507176]\n",
      "[cp 1][7 6][1.55631351 1.58345008 0.0404367931 1.08976638 1.69885898 0.875174403 0.875174403 1.08976638 0.875174403 1.20552671][-0.0395378135 -0.0506179482 0.355455548 -0.273808748 -0.140717447 0.0389629863 0.106513612 0.179217353 0.0681141093 0.0619550496]\n",
      "[cp 1][8 6][0.0404367931 1.43037868 1.4422574 1.74002433 1.7976017 1.09762704 1.74002433 0.0404367931 1.08976638 0.174258605][-0.042374149 0.0830712 0.106356144 -0.333999604 -0.0858969539 0.0426580124 0.168951333 0.230446965 0.194094419 0.112062901]\n",
      "[cp 1][9 2][1.58345008 0.791461825 0.875174403 1.08976638 1.76030052 1.14031529 1.08976638 1.92732549 1.43037868 1.85783637][0.00463299034 0.156547621 0.25754416 -0.274718255 -0.191333175 -0.0168359652 0.15162015 0.111418761 0.187079564 0.183967382]\n",
      "[cp 1][7 2][1.76030052 1.7976017 1.92732549 1.13608909 1.08976638 1.09762704 1.4422574 1.76030052 1.7976017 1.76030052][-0.160413176 0.175245419 0.188154399 -0.347866982 -0.126894951 0.0420680679 0.164853796 0.236948133 0.166568086 0.0599979274]\n",
      "[cp 1][8 7][0.875174403 1.09762704 1.76030052 0.875174403 1.43037868 1.86389947 0.263315082 1.69885898 1.08976638 0.174258605][0.068276085 -0.0289884768 0.110372953 -0.342085451 -0.273670733 0.135852262 0.155201182 0.241824642 0.197289586 0.113362134]\n",
      "[cp 1][7 2][1.14031529 1.20552671 1.08976638 1.13608909 0.174258605 0.142072111 0.0404367931 1.86389947 0.174258605 1.55631351][-0.0854239315 0.0342385024 0.10429468 -0.350836784 -0.168136 0.00121957064 0.2262339 0.159115195 0.113936543 0.0440922715]\n",
      "[cp 1][6 1][1.7976017 1.55631351 0.142072111 1.55631351 0.142072111 1.09762704 0.263315082 1.58345008 0.0404367931 1.20552671][-0.19916372 0.0999064445 0.152821511 -0.337518215 -0.288724959 0.0412630066 0.162506446 0.0183400139 0.200076804 0.0581796914]\n",
      "[cp 1][7 6][0.174258605 0.875174403 1.76030052 1.86389947 0.263315082 1.7260648 1.33832395 1.86389947 1.4422574 1.4422574][-0.0624860078 0.0639255494 0.0932451934 -0.254298687 -0.120714754 -0.0989696831 0.157381564 0.157960683 0.0139043294 0.0486158766]\n",
      "[cp 1][7 5][1.43037868 1.58345008 0.142072111 1.4422574 0.174258605 1.33832395 0.142072111 1.7260648 1.4422574 1.7260648][-0.0965381414 -0.0158579666 0.15520972 -0.372748524 -0.195459053 0.120759197 0.088602975 0.230144054 0.0142329223 -0.0504083633]\n",
      "[cp 1][7 1][1.43037868 1.748577 1.13608909 1.20552671 1.76030052 1.61537087 0.791461825 1.13608909 0.263315082 0.0404367931][-0.0946083814 0.107077047 0.0924473703 -0.294762582 -0.215034112 -0.0189368334 0.0948534906 0.166679054 0.0390828587 0.0612950586]\n",
      "[cp 1][7 6][1.35999167 1.86945653 1.61537087 1.748577 0.142072111 0.0404367931 1.20552671 1.35999167 0.263315082 1.33832395][0.0383395739 -0.0507401228 0.164028585 -0.389892459 -0.284495085 0.098736316 0.193151966 0.180141 0.0424666293 0.0760669]\n",
      "[cp 1][8 7][1.61537087 1.61537087 1.33832395 1.09762704 1.58345008 1.61537087 1.61537087 1.09762704 1.14031529 1.48287487][-0.063147977 0.100640625 0.0934650823 -0.236315235 -0.324565619 -0.0197904184 0.0259503089 0.156461224 0.270636678 0.080552645]\n",
      "[cp 1][8 2][1.4422574 0.875174403 0.875174403 1.61537087 1.61537087 0.791461825 1.43037868 0.174258605 1.48287487 1.86945653][-0.0659965873 0.0596096739 0.276176333 -0.399019629 -0.131729901 -0.0259332173 0.0939938575 0.225303486 0.24052164 0.123873264]\n",
      "[cp 1][8 7][1.48287487 1.4422574 0.174258605 0.0404367931 0.853343904 0.853343904 1.7976017 1.76030052 1.14031529 1.748577][0.0769248754 0.084400177 0.176534697 -0.327187926 -0.175343692 0.0703803 0.0664623529 0.216771916 0.26375246 -0.0912181288]\n",
      "[cp 1][7 5][1.76030052 0.0404367931 0.853343904 1.33832395 1.33832395 1.4422574 0.0404367931 1.48287487 0.174258605 0.0404367931][-0.162233695 0.0791704208 0.174578577 -0.315349609 -0.150088385 0.147366494 0.214729369 0.187570721 0.192877784 0.0182163]\n",
      "[cp 1][8 7][1.14031529 0.142072111 1.7976017 0.0404367931 0.174258605 0.142072111 1.7976017 1.748577 1.33832395 1.4422574][-0.107476965 0.131006956 0.00496362895 -0.33476 -0.219217822 0.0314119346 0.0607448071 0.228463292 0.186914444 -0.0231678411]\n",
      "[cp 1][8 7][1.14031529 1.4422574 0.0404367931 1.76030052 1.14031529 1.33832395 1.4422574 1.748577 1.76030052 1.43037868][-0.107476965 0.0823921636 0.341266 -0.341908544 -0.125742808 0.162157342 0.163375363 0.228463292 0.167098671 0.0235073138]\n",
      "[cp 1][8 2][0.142072111 1.43037868 1.92891 0.875174403 0.174258605 1.76030052 0.174258605 0.0404367931 1.7976017 1.20552671][-0.0684896782 0.129820511 0.187028453 -0.403078258 -0.220819652 0.0575016 0.0917551666 0.19979246 0.132925719 0.0112948073]\n",
      "[cp 1][8 2][1.92891 1.14031529 1.43037868 1.4422574 0.875174403 1.61537087 0.263315082 1.20552671 1.76030052 1.14031529][-0.071836777 -0.00983767584 0.120727383 -0.438092381 -0.0895630866 -0.0295205917 0.11022947 0.0681560934 0.165507689 0.105650648]\n",
      "[cp 1][8 7][1.76754105 1.58345008 1.76754105 1.14031529 1.14031529 1.43037868 0.142072111 1.43037868 1.86945653 0.875174403][0.0590447448 -0.0289040972 0.139054924 -0.256729662 -0.128104344 0.11410746 0.0346436538 0.194578916 0.16522792 0.0907108635]\n",
      "[cp 1][8 2][1.77753723 0.142072111 1.20552671 0.142072111 1.33832395 1.33832395 1.86945653 1.14031529 1.77753723 0.791461825][-0.158173963 0.131145641 0.215695545 -0.290735543 -0.149347574 0.164454967 0.110677645 0.126304343 0.166184425 0.0564573407]\n",
      "[cp 1][8 7][0.142072111 1.4422574 1.80989122 1.80989122 1.43037868 1.61537087 0.791461825 0.174258605 1.33832395 0.142072111][-0.0659296066 0.0828093141 0.0034066774 -0.480623364 -0.292060107 -0.0294848382 0.0544591844 0.226344541 0.188538492 0.0428006127]\n",
      "[cp 1][5 1][0.174258605 1.80989122 0.791461825 1.43037868 1.43037868 1.86945653 1.58345008 1.14031529 0.853343904 0.0404367931][-0.054791607 0.19129619 0.230060592 -0.4147017 -0.292060107 0.170466989 0.155608654 0.126304343 0.230940029 0.0143742766]\n",
      "[cp 1][8 5][0.875174403 0.853343904 1.43037868 1.61537087 1.61537087 1.80989122 1.56310046 1.80989122 1.56310046 0.174258605][0.0363122523 -0.0498991422 0.118983708 -0.406744152 -0.142229289 0.189013928 -0.0151495328 0.0992804095 0.244746625 0.0701433346]\n",
      "[cp 1][8 6][0.791461825 0.0404367931 0.263315082 1.76754105 0.875174403 0.174258605 1.58345008 1.20552671 0.853343904 0.0404367931][0.0774114877 0.0759788677 0.0945989415 -0.439235479 -0.0905350521 0.0814203247 0.155608654 0.0675860643 0.230940029 0.0143742766]\n",
      "[cp 1][7 6][1.58345008 0.875174403 0.791461825 1.14689147 0.0404367931 1.76754105 1.58345008 1.33832395 1.80989122 1.14031529][-0.0061702 0.0648776889 0.201465517 -0.236020386 -0.265913695 -0.107160263 0.161295041 0.171029344 0.149102569 0.142033696]\n",
      "[cp 1][8 6][0.875174403 1.4422574 1.77753723 1.92891 1.20552671 0.174258605 0.0404367931 1.80989122 1.56310046 1.92891][0.0399341 0.095169127 0.0655799881 -0.283543229 -0.136391491 0.0590040311 0.206840515 0.1066164 0.247325972 -0.0156973265]\n",
      "[cp 1][8 1][1.14689147 1.4422574 0.174258605 0.142072111 1.56310046 1.14031529 0.263315082 0.0404367931 1.14689147 1.43037868][0.0762482435 0.095169127 0.147703752 -0.27240476 -0.198482394 0.0200731736 0.117447823 0.197131708 0.215642586 0.052908767]\n",
      "[cp 1][2 1][0.0404367931 1.77753723 1.14031529 1.33832395 0.142072111 1.76754105 1.33832395 1.14031529 1.80989122 1.61537087][-0.0427749977 0.16736573 0.210051507 -0.293660253 -0.283879369 -0.0924755484 0.120438382 0.144834518 0.161574066 0.016611252]\n",
      "[cp 1][8 6][0.0404367931 1.86945653 1.43037868 1.56310046 1.80989122 1.43037868 1.14031529 1.20552671 1.43037868 0.263315082][-0.0427749977 -0.042079933 0.099883236 -0.330812454 -0.102221742 0.100803256 0.135325342 0.0771795362 0.198388189 0.0699641928]\n",
      "[cp 1][5 2][0.174258605 1.63550425 1.61537087 1.77753723 0.0404367931 1.20552671 1.33832395 1.63550425 1.34893441 1.14031529][-0.0457177833 -0.00436645467 0.154197052 -0.314589292 -0.265138209 0.217076123 0.120593607 0.0194937438 0.00529535115 0.128819659]\n",
      "[cp 1][8 1][1.77753723 1.80989122 0.174258605 1.80989122 1.34893441 1.14689147 1.56310046 0.174258605 1.14031529 1.92891][-0.163193852 0.215979442 0.149221465 -0.466693699 -0.287056655 0.0750054121 0.00515697431 0.23681958 0.278046131 -0.0164587274]\n",
      "[cp 1][7 2][0.0404367931 1.20552671 1.86945653 1.86945653 0.0404367931 1.52771926 1.14031529 1.52771926 1.33832395 1.52771926][-0.0463434309 0.109116808 0.188584358 -0.282886147 -0.267553896 0.107816823 0.138362 0.210532069 0.21161443 0.0456864722]\n",
      "[cp 1][7 2][1.33832395 1.14031529 1.86945653 0.791461825 1.77753723 0.0404367931 1.63550425 1.77753723 0.142072111 1.20552671][-0.05555439 0.0228506513 0.187019274 -0.223529249 -0.263965726 0.10621991 0.167259023 0.22557357 0.128678367 0.0265518613]\n",
      "[cp 1][8 7][0.791461825 0.791461825 1.77753723 0.0404367931 1.65975273 0.174258605 1.34893441 1.92891 1.77753723 1.33832395][0.0376630947 0.204806924 0.0568334386 -0.305587381 -0.155193865 0.0588658452 0.140785307 0.155044422 0.17819792 0.0476886109]\n",
      "[cp 1][9 8][1.59463394 1.34893441 1.77753723 1.76754105 1.87456894 0.875174403 0.263315082 0.0404367931 1.76754105 1.87456894][-0.0783276856 0.117717572 0.0568334386 -0.400277257 -0.118827552 0.0614419766 0.130984336 0.198965907 0.126538098 0.129879683]\n",
      "[cp 1][7 2][1.7837522 1.34893441 1.14031529 1.65975273 1.63550425 0.142072111 1.77753723 1.59463394 1.92891 1.14031529][0.00889579486 0.118170962 0.214824811 -0.367524236 -0.341676652 0.00905033946 0.155645683 0.216419846 0.104481407 0.120443568]\n",
      "[cp 1][2 1][1.14689147 1.7837522 1.14031529 1.92891 0.263315082 1.56310046 0.0404367931 1.14689147 0.791461825 1.92891][0.0644497126 0.150651157 0.214824811 -0.26909703 -0.146816403 -0.0116538592 0.214149162 0.161754876 0.141946331 -0.015087489]\n"
     ]
    },
    {
     "name": "stderr",
     "output_type": "stream",
     "text": [
      "[cp 1][8 7][1.34893441 1.33832395 0.0404367931 1.65975273 1.82073367 1.14031529 1.87456894 1.14689147 1.14031529 1.33832395][-0.0762175247 0.0394377 0.316256315 -0.367924541 -0.109989606 0.0246083736 0.104879461 0.16306977 0.274967968 0.0485711694]\n",
      "[cp 1][7 2][1.65975273 1.59463394 1.65975273 0.0404367931 1.59463394 0.0404367931 1.56310046 1.92891 0.142072111 0.875174403][-0.0452611037 0.141709983 0.17260471 -0.326275557 -0.285068452 0.122498654 -0.00284389779 0.146211416 0.13350378 0.1023518]\n",
      "[cp 1][8 2][1.87456894 0.142072111 1.63550425 0.142072111 0.791461825 0.142072111 0.875174403 0.142072111 1.87456894 1.77753723][-0.087737523 0.144363269 0.185133293 -0.268136173 -0.0197055563 0.0301463827 0.0840652734 0.0969855934 0.19273974 -0.00132123102]\n",
      "[cp 1][8 2][1.92891 1.67536139 1.67536139 0.875174403 1.20552671 1.79778111 1.82073367 1.20552671 0.928553283 1.14031529][-0.0600929335 0.00286621414 0.184902817 -0.388014078 -0.140609011 -0.0506570302 0.0688122809 0.0708820373 0.22775425 0.10232608]\n",
      "[cp 1][8 7][1.77753723 0.142072111 0.174258605 1.22702193 1.33832395 1.77753723 0.174258605 1.34893441 1.22702193 0.263315082][-0.159056634 0.155768514 0.138189748 -0.216684863 -0.129182637 0.0375522152 0.105546802 0.0915704444 0.204950869 0.0738339573]\n",
      "[cp 1][8 2][1.67536139 0.791461825 1.20552671 0.875174403 1.34893441 1.59463394 0.142072111 1.20552671 1.82073367 0.174258605][-0.0104265502 0.196178108 0.172378778 -0.326842815 -0.269136548 0.0849133879 0.021901682 0.0981013477 0.163124412 0.0905896574]\n",
      "[cp 1][6 1][0.174258605 1.77753723 0.263315082 1.59463394 1.33832395 1.67536139 1.67536139 1.87456894 0.142072111 1.82073367][-0.0484998971 0.176632062 0.0507514775 -0.328465939 -0.114418074 0.0746117309 0.171285406 0.163041145 0.121025473 -0.0042088069]\n",
      "[cp 1][8 7][1.79778111 0.791461825 1.79778111 1.34893441 1.79778111 1.82073367 0.791461825 1.40627038 1.59463394 1.56310046][-0.0192375965 0.197040111 0.0874577314 -0.382831842 -0.137438878 0.128334522 0.0671478957 0.191555038 0.201636285 0.106158085]\n",
      "[cp 1][7 2][1.92891 0.142072111 1.92891 1.56310046 1.87456894 1.82073367 1.79238415 0.791461825 1.62502217 1.20552671][-0.0833009556 0.166646913 0.177605316 -0.316675305 -0.094876036 0.122992374 0.164120778 0.244912416 0.151906952 0.0503918566]\n",
      "[cp 1][7 1][1.67536139 0.791461825 0.142072111 1.33832395 0.0404367931 1.14031529 1.33832395 1.82073367 0.791461825 1.92891][-0.0124549167 0.196065784 0.104209095 -0.234943 -0.247004658 0.0233631097 0.124879375 0.131007895 0.138741255 0.0265790559]\n",
      "[cp 1][8 7][1.92891 1.79238415 1.07841539 1.67536139 0.263315082 1.79238415 1.34893441 1.79238415 1.56310046 1.51202488][-0.112294301 0.166994914 0.107581228 -0.210684538 -0.125814214 0.0312799364 0.130905405 0.259542108 0.313052386 0.113425769]\n",
      "[cp 1][8 6][0.142072111 1.07841539 0.174258605 1.51202488 1.79778111 0.174258605 1.20552671 1.14031529 1.79238415 0.875174403][-0.064113155 0.188179016 0.0515607633 -0.170230642 -0.0987732708 0.0295685902 0.201197386 0.175542161 0.231694087 0.181225479]\n",
      "[cp 1][8 7][0.875174403 0.263315082 1.20552671 1.51202488 1.67536139 0.0404367931 1.80531549 1.79778111 1.82073367 1.67536139][0.0223429836 0.183575034 0.104003444 -0.171260014 -0.302900881 0.0802781135 0.173165739 0.241322815 0.222016901 0.0879087746]\n",
      "[cp 1][8 2][1.67536139 1.51202488 0.875174403 1.59463394 1.56310046 0.263315082 1.92891 0.263315082 1.87456894 1.59463394][-0.0467352122 0.00412831455 0.178857476 -0.309767693 -0.164355353 0.0598179139 0.0910165 0.237798735 0.220342398 0.0881657898]\n",
      "[cp 1][6 1][1.5484674 1.59831715 0.236548856 1.04369664 1.27984202 0.529111207 1.5484674 0.529111207 1.88933778 1.36364055][-0.125921637 0.253671259 -0.0878694654 0.13252373 -0.0890756324 0.113029763 0.253080726 -0.135092497 0.180775255 0.0453753]\n",
      "[cp 1][9 1][1.13686788 1.88933778 1.27984202 1.13686788 1.04369664 0.829323888 0.236548856 0.529111207 1.23527098 1.95723665][-0.146582901 0.174081042 -0.140042111 0.193058774 -0.0937471762 0.0453743599 0.184825659 -0.135092497 0.182229385 0.237966061]\n",
      "[cp 1][8 1][0.0375796 1.22419143 1.5484674 0.829323888 0.0375796 1.95723665 0.912300646 1.95723665 1.233868 1.233868][-0.169410333 0.194158465 -0.00534888729 -0.00762521336 -0.0314408503 0.0665568933 0.14487195 0.105947845 0.181978449 0.000747338869]\n",
      "[cp 1][9 1][0.912300646 1.23527098 0.922958732 1.36364055 1.23527098 0.286706567 0.912300646 1.27984202 1.88749611 1.27984202][0.0101914965 0.211662889 -0.0386292189 -0.0605101 0.116316423 0.00573620573 0.151521847 -0.0178480614 0.163119972 0.21968542]\n",
      "[cp 1][6 1][0.236548856 1.5484674 1.4099555 1.5484674 1.88749611 0.236548856 1.89301169 1.5610584 1.5484674 1.41071415][-0.256887674 0.293447971 -0.0569017 0.0408321768 0.0643462092 0.0746928528 0.166131109 0.0174847469 0.0861861333 0.0586646236]\n",
      "[cp 1][7 6][1.59831715 0.236548856 1.95723665 1.89301169 1.04369664 1.6096319 0.529111207 1.04369664 0.286706567 1.41071415][-0.31170404 0.095868215 -0.044871375 -0.0475119054 -0.0804183409 0.00999669638 0.252511501 0.0854049772 0.0844248533 0.0572362766]\n",
      "[cp 1][6 1][1.36364055 0.829323888 1.41071415 0.0375796 0.286706567 0.922958732 1.22419143 0.529111207 0.236548856 0.0375796][-0.230087608 0.231184125 -0.0775554627 0.0214537717 0.137966812 0.138486803 0.261412948 -0.111671433 0.176980793 0.21505037]\n",
      "[cp 1][9 8][1.41071415 0.286706567 0.538063 0.286706567 1.04369664 1.27984202 0.912300646 1.13686788 1.22419143 1.6096319][-0.272618413 0.119276196 -0.0677991062 -0.201535299 -0.049843017 0.0648087859 0.144637853 0.0105280578 0.230569154 0.154781]\n",
      "[cp 1][8 6][1.13686788 1.13686788 1.89301169 1.41071415 1.04369664 1.65534806 1.27984202 0.538063 1.95723665 0.286706567][-0.191424087 0.181378081 -0.133312941 -0.155154899 -0.0441277772 -0.0101495804 0.260995716 0.134055182 0.222897604 0.173423693]\n",
      "[cp 1][6 5][1.5610584 0.538063 1.27984202 0.286706567 1.65534806 1.89301169 1.88749611 1.5610584 0.286706567 1.22419143][-0.215148896 0.253564656 -0.131841481 -0.201372653 0.0838526636 0.171831727 0.238956332 0.028699249 0.0954489335 0.0866186172]\n",
      "[cp 1][6 1][0.236548856 1.22419143 0.538063 0.912300646 1.27984202 1.89129329 0.912300646 1.5610584 0.236548856 1.04369664][-0.291425914 0.190688983 -0.0673119277 -0.124397948 -0.0276134983 -0.0312210731 0.146745771 0.028546147 0.217621222 0.0926153809]\n",
      "[cp 1][8 6][1.41071415 0.236548856 1.13686788 0.912300646 0.922958732 0.236548856 1.65534806 0.912300646 1.4099555 0.529111207][-0.261751026 0.143764928 -0.0988961682 -0.132631332 0.0707311258 0.0723346174 0.250646561 0.0293941312 0.227887273 0.204593644]\n",
      "[cp 1][8 6][1.4099555 0.529111207 1.59831715 0.538063 0.912300646 1.89129329 1.27984202 1.89129329 1.41071415 0.286706567][-0.135832638 0.168053985 -0.05123052 -0.0738301 0.119803965 -0.031084571 0.264016151 -0.0829250813 0.261428118 0.156339601]\n",
      "[cp 1][8 4][1.40475512 0.529111207 1.41071415 1.36364055 1.89129329 1.59831715 0.912300646 1.89301169 0.912300646 0.236548856][-0.231165782 0.168053985 -0.0675148293 -0.11951378 0.129932061 0.105543815 0.155324638 0.0109607391 0.245027751 0.131892934]\n",
      "[cp 1][8 1][1.13686788 1.59831715 1.89129329 0.0375796 1.13686788 1.27984202 1.13686788 0.286706567 1.41071415 1.40475512][-0.163971141 0.300569504 -0.089988187 -0.0317867026 0.173468307 0.0592529215 0.240076765 0.0390214585 0.276833385 0.0748175085]\n",
      "[cp 1][8 1][1.27984202 1.41071415 1.59831715 0.236548856 1.89301169 1.04369664 1.40475512 1.13686788 1.41071415 1.27984202][-0.191224754 0.240811139 -0.0500236265 0.0669138283 0.160742447 0.0540557355 0.236675 0.00623682374 0.276833385 0.217949167]\n",
      "[cp 1][8 6][0.922958732 0.286706567 1.5610584 1.40475512 1.5610584 1.36364055 1.51489151 1.89301169 1.4099555 1.69098353][-0.191561386 0.164191604 -0.060664475 0.0687032 0.142323807 0.0191297811 0.2248943 0.0235164128 0.238520309 0.16139558]\n",
      "[cp 1][6 4][1.69098353 0.286706567 1.13686788 0.236548856 1.89129329 1.69098353 1.51489151 1.13686788 0.0375796 1.59831715][-0.163579106 0.164191604 -0.0969142 0.0577731021 0.171726704 -0.0383084714 0.2248943 0.00156017835 0.173944294 0.0826000869]\n",
      "[cp 1][9 6][0.236548856 1.89129329 0.236548856 0.0375796 1.13686788 0.614608 1.27984202 0.538063 1.4099555 1.95723665][-0.26903832 0.228192419 -0.0809323862 -0.0368616655 0.180330709 0.0267238226 0.269744 0.139084846 0.238520309 0.235751122]\n",
      "[cp 1][6 1][0.614608 0.614608 1.89129329 1.4099555 0.614608 1.69098353 1.89301169 0.538063 1.69098353 1.89301169][-0.0453224666 0.244476765 -0.0918573737 -0.14841032 0.147461638 -0.0383084714 0.19405283 0.139084846 0.120319597 -0.0117738564]\n",
      "[cp 1][8 1][1.89129329 0.614608 1.13686788 0.529111207 0.614608 0.0375796 0.0375796 0.538063 0.922958732 1.89129329][-0.144865781 0.244476765 -0.0969142 -0.0275860596 0.147461638 0.00801257603 0.180293307 0.139084846 0.226247847 0.115678892]\n",
      "[cp 1][6 1][0.286706567 1.40475512 1.51489151 1.5610584 0.538063 0.529111207 1.69098353 1.51489151 0.0375796 0.0375796][-0.0979725868 0.249067411 -0.0530469269 -0.201552 0.229587495 0.0927314609 0.262167692 -0.04269379 0.17307879 0.21831502]\n",
      "[cp 1][8 1][0.286706567 1.27984202 1.04369664 1.5610584 0.922958732 1.4099555 0.529111207 0.529111207 1.5610584 0.922958732][-0.101788178 0.272270799 -0.0844272301 -0.201382175 0.0846354812 -0.0263105258 0.239473671 -0.112179719 0.264754891 0.0836305544]\n",
      "[cp 1][8 6][0.236548856 0.359166116 1.4099555 0.529111207 1.89129329 1.89129329 1.13686788 1.04369664 1.59831715 1.4099555][-0.252011895 0.259707361 -0.0626988411 -0.032022953 0.194890931 -0.0437726527 0.247896031 0.0448700413 0.328001022 -0.00325773656]\n",
      "[cp 1][6 1][1.89301169 1.27984202 0.538063 0.0375796 1.13686788 0.359166116 0.538063 1.64672184 0.529111207 0.286706567][-0.23636061 0.278506517 -0.0488475934 -0.0268697515 0.18952325 0.0212110151 0.266195148 0.0426825024 0.189390779 0.146265209]\n",
      "[cp 1][6 1][1.71963096 0.529111207 0.286706567 1.89301169 1.04369664 0.236548856 0.922958732 1.40475512 1.71963096 1.89301169][-0.149071485 0.20167549 -0.00100766681 -0.0770220831 0.00247886777 0.0786631852 0.203464225 -0.0797432959 0.11780113 -0.017553024]\n",
      "[cp 1][6 1][0.359166116 1.89129329 1.51489151 1.51489151 1.4099555 1.64672184 1.27984202 1.13686788 1.04369664 1.13686788][-0.0174888205 0.251446605 -0.0422260873 -0.196181178 0.151728943 0.10675218 0.304332823 0.00506432541 0.0597826056 0.14258033]\n"
     ]
    },
    {
     "name": "stderr",
     "output_type": "stream",
     "text": [
      "[cp 1][8 6][1.40475512 0.529111207 1.04369664 1.89129329 0.529111207 0.236548856 1.51489151 1.51489151 1.51489151 1.51489151][-0.180197537 0.22566393 -0.10168016 -0.11381387 -0.173761964 0.061410062 0.272706449 -0.0282555893 0.315238833 0.0480142534]\n",
      "[cp 1][8 6][0.538063 0.0375796 1.22117817 1.50325739 0.0375796 1.43543029 0.236548856 1.43543029 1.50325739 1.4099555][-0.0949186534 0.294040203 -0.0516174734 -0.200576484 0.0326968282 0.0485813543 0.234873086 -0.0316532776 0.283815414 -0.0477604382]\n",
      "[cp 1][9 6][0.0375796 0.236548856 0.236548856 1.95723665 1.71963096 1.89129329 0.529111207 0.538063 0.538063 1.13686788][-0.148931801 0.178725109 -0.0832232833 0.0357486345 0.0615777895 -0.0445680693 0.255136758 0.154547632 0.138232738 0.143988431]\n",
      "[cp 1][8 1][1.40475512 1.58549058 0.359166116 1.71963096 1.58549058 0.359166116 0.359166116 1.22117817 1.36364055 0.236548856][-0.182268187 0.30100593 -0.0616584718 -0.0269186217 0.159586221 0.0123571176 0.154146522 -0.0152392359 0.370295763 0.0835053176]\n",
      "[cp 1][6 1][0.236548856 1.57728338 0.236548856 0.529111207 1.40475512 1.22117817 1.4099555 0.286706567 0.236548856 1.36364055][-0.244933084 0.301229715 -0.0921008736 -0.0319147632 0.0602953583 0.118276753 0.198091984 0.0377967507 0.235788852 0.0506846681]\n",
      "[cp 1][8 6][0.286706567 0.0375796 0.0375796 1.64672184 0.236548856 1.95723665 1.57728338 0.529111207 1.64672184 0.236548856][-0.068194367 0.304623 -0.0833452195 -0.0823553428 0.0581849478 0.0460874103 0.238371879 -0.105051033 0.355291158 0.0713792592]\n",
      "[cp 1][8 6][0.529111207 1.36364055 1.33980858 1.89301169 0.529111207 0.359166116 1.63703597 0.286706567 1.89301169 1.89129329][-0.222224176 0.238180906 -0.126805395 -0.0922974 -0.131107599 0.0012813136 0.29196015 0.0459246822 0.301480293 0.0618130378]\n",
      "[cp 1][8 1][1.95723665 1.04369664 1.63089013 0.286706567 0.286706567 1.63703597 0.0375796 1.71963096 1.64672184 0.236548856][-0.0841577202 0.233417481 -0.0674736425 -0.188964635 0.110922754 0.0555553809 0.240067184 0.0791683048 0.354777128 0.0749663487]\n",
      "[cp 1][9 6][1.95723665 1.5144012 1.5144012 1.63089013 0.913368762 1.63703597 0.529111207 1.40475512 0.236548856 1.95723665][-0.0841577202 0.17863825 -0.112193994 -0.18019101 0.200126335 0.0555553809 0.272679895 -0.0648943186 0.232370138 0.225038022]\n",
      "[cp 1][8 1][1.95778525 1.89129329 1.5144012 1.71963096 1.5144012 0.286706567 1.63089013 1.63089013 1.64672184 0.529111207][-0.0841642767 0.268235832 -0.112210236 -0.0464471541 0.153565168 -0.00462779403 0.235898331 0.0191224329 0.354745835 0.211023256]\n",
      "[cp 1][6 1][0.538063 1.89301169 1.04369664 1.63703597 1.33980858 0.236548856 1.89301169 1.33980858 1.04369664 1.63089013][-0.118161768 0.273099482 -0.132628024 -0.175916269 0.0098560825 0.0518254042 0.248354658 -0.0314621478 0.0539394543 0.169581339]\n",
      "[cp 1][6 1][1.63703597 1.71963096 1.63089013 1.5144012 1.63703597 1.36364055 1.89644563 0.359166116 0.0375796 1.33980858][-0.239525259 0.356976688 -0.0673961565 -0.141306341 0.170979649 0.0359619595 0.248720318 0.0609709658 0.202535391 0.163169071]\n",
      "[cp 1][8 1][0.0375796 1.63703597 1.63703597 1.5144012 0.913368762 1.33980858 0.913368762 1.04369664 1.63089013 1.71963096][-0.162520424 0.313195825 -0.0812392086 -0.141735762 0.198728681 0.0593544841 0.282187313 0.0565591566 0.298821688 0.128627449]\n",
      "[cp 1][8 6][1.63089013 0.529111207 0.529111207 1.22117817 1.33980858 0.538063 1.04369664 0.286706567 1.36364055 1.71963096][-0.155014 0.251598328 -0.0313918404 -0.256780595 0.0129942186 0.00467834435 0.255568624 0.0434014201 0.379137337 0.12638545]\n",
      "[cp 1][6 1][1.89966261 0.286706567 1.89966261 1.33980858 0.286706567 1.89129329 1.36364055 1.40475512 0.0375796 1.64672184][-0.267592281 0.2300919 -0.166581228 -0.0409893245 0.110994279 -0.0635920763 0.284687519 -0.0658279583 0.205204204 0.0392935351]\n",
      "[cp 1][6 1][0.529111207 1.67655885 1.40475512 1.71963096 1.95778525 0.13934283 1.63089013 1.71963096 1.71963096 1.04369664][-0.229554117 0.326096386 -0.034340106 -0.0422814712 -0.0117242485 -0.0140238032 0.238572031 0.0878007188 0.16096 0.0310021117]\n",
      "[cp 1][8 6][0.13934283 1.04369664 0.538063 1.33980858 0.13934283 1.89129329 1.5144012 0.359166116 1.40475512 1.04369664][-0.0810984224 0.247147024 -0.0643366352 -0.0323178284 0.133398175 -0.0598954484 0.219143182 0.0639210045 0.283455759 0.0310021117]\n",
      "[cp 1][8 1][1.51105011 1.89966261 0.236548856 0.13934283 0.236548856 1.67655885 0.0375796 0.0375796 0.529111207 1.04369664][-0.185553849 0.298057169 -0.0819735453 -0.208201125 0.0591530725 0.0560119599 0.259233743 -0.126107365 0.231705487 0.0280471854]\n",
      "[cp 1][8 6][1.71963096 0.359166116 1.22117817 0.913368762 1.89129329 0.236548856 1.5144012 1.22117817 1.89129329 0.538063][-0.112977386 0.301091462 -0.0823456794 0.0582868 0.184840322 0.0448872223 0.223053649 -0.00188741821 0.28979823 0.2276043]\n",
      "[cp 1][8 1][0.13934283 1.67655885 0.359166116 1.71963096 1.95778525 1.22117817 1.36364055 0.236548856 1.89483845 1.04369664][-0.0696353763 0.330825061 -0.0657489225 -0.052359648 -0.0169863924 0.117444821 0.300331 -0.01625848 0.289783061 0.0283748023]\n",
      "[cp 1][6 1][1.89483845 1.63089013 1.70794308 1.63089013 1.63089013 1.51105011 1.9026829 1.51105011 1.33980858 1.33980858][-0.11918781 0.349754393 -0.0758586898 -0.203513071 0.192984566 0.0889953375 0.264799684 -0.0660865456 0.228781953 0.166960329]\n",
      "[cp 1][6 1][1.04369664 1.89483845 1.70794308 0.236548856 1.36364055 0.913368762 1.89483845 1.64672184 0.913368762 0.538063][-0.171622857 0.298157752 -0.0795768946 0.00237298338 0.0273988 0.0440338813 0.327569783 0.0490990579 0.24406 0.224351928]\n",
      "[cp 1][8 4][1.9026829 1.5144012 1.33980858 1.89815617 0.538063 1.9026829 0.359166116 1.04369664 1.36364055 1.64672184][-0.261183649 0.197978452 -0.136185125 -0.111113481 0.268759519 0.12410403 0.185288876 0.0600223616 0.395088732 0.0345074199]\n",
      "[cp 1][9 4][1.95778525 0.0375796 0.13934283 1.51105011 1.51105011 0.236548856 0.13934283 0.13934283 0.13934283 1.89815617][-0.0818212777 0.348547429 -0.0531348512 -0.00626735901 0.0718023553 0.044140406 0.234925106 0.0433378965 0.208212331 0.0646359548]\n",
      "[cp 1][6 1][1.22117817 1.95778525 1.48512661 0.359166116 1.33980858 0.13934283 1.51105011 0.913368762 0.0375796 0.913368762][-0.17222549 0.320032656 -0.14788416 -0.183885619 0.0024038069 -0.0182765517 0.25752905 0.0320572332 0.231609315 0.156437084]\n",
      "[cp 1][8 1][1.5144012 1.64672184 1.33980858 0.13934283 1.90126777 1.67176282 1.22117817 1.64672184 1.67176282 0.538063][-0.0929008126 0.383896559 -0.13831535 -0.216864482 0.168742701 0.0715382397 0.252435148 0.0547730252 0.32157886 0.214865416]\n",
      "[cp 1][8 1][1.67176282 1.71963096 1.33980858 0.913368762 1.71963096 1.71963096 1.04369664 1.22117817 1.9026829 1.51105011][-0.142359272 0.392217457 -0.13831535 0.0358354747 0.102800064 -0.0467497781 0.255112648 0.00935545564 0.330745965 0.0575235523]\n",
      "[cp 1][8 6][1.90126777 0.0375796 0.13934283 0.359166116 0.13934283 0.13934283 1.51105011 1.51105011 1.74321294 0.0375796][-0.125673324 0.348684669 -0.0568122901 -0.182652846 0.120078474 -0.0163751021 0.257390678 -0.0529779531 0.1916067 0.213937804]\n",
      "[cp 1][8 1][1.51105011 1.90126777 1.76299489 1.67176282 1.67176282 0.236548856 0.538063 1.51105011 1.95778525 1.51105011][-0.200358614 0.313634515 -0.0720073059 -0.212546259 0.192500412 0.0494266897 0.297860682 -0.0514521636 0.266766429 0.0559163392]\n",
      "[cp 1][8 1][1.33980858 1.9026829 1.51105011 0.359166116 1.70794308 0.538063 0.538063 0.538063 1.48512661 1.9583199][-0.184621811 0.315368831 -0.0518480465 -0.181632727 0.180967152 -0.00180886686 0.297874808 0.163477913 0.414323092 0.226289272]\n",
      "[cp 1][8 6][1.70794308 0.529111207 0.529111207 1.51105011 0.359166116 1.9583199 1.76299489 1.56465495 1.70794308 1.76299489][-0.247419462 0.301443458 -0.0605295524 -0.0108315796 0.157123983 0.0555897057 0.284488797 -0.0192302056 0.342673689 0.131856754]\n",
      "[cp 1][6 1][1.5144012 1.64672184 0.0375796 1.56465495 1.33980858 1.70794308 1.90126777 0.538063 1.04369664 0.913368762][-0.102252662 0.387023658 -0.112056151 -0.170493588 0.00382525846 0.0593005791 0.287832201 0.16845125 0.11271283 0.152270913]\n",
      "[cp 1][6 1][1.5144012 1.51105011 1.9026829 1.56465495 1.04369664 1.04369664 1.68416345 1.51105011 1.76299489 1.33980858][-0.102643661 0.311815768 -0.172164455 -0.162725613 -0.0191336162 0.032045193 0.30084753 -0.0491384082 0.202890933 0.171034455]\n",
      "[cp 1][8 6][1.76299489 1.5144012 1.04369664 1.9026829 1.33980858 1.67176282 1.68416345 0.359166116 1.9583199 1.67176282][-0.114240155 0.226355135 -0.1495924 -0.117762059 0.00377601013 0.0750337541 0.304792345 0.057590805 0.273726165 0.159560606]\n",
      "[cp 1][6 2][0.932621539 0.506583214 0.420765132 1.39526236 1.1403935 0.257852584 0.719015777 0.506583214 1.33353341 1.3062166][0.0795717388 0.111853316 0.34833312 -0.113931142 -0.0392411798 0.118480042 0.310754985 0.0190835595 0.165410519 -0.0930210575]\n",
      "[cp 1][6 5][0.221419036 0.877203047 0.257852584 0.877203047 1.1403935 1.39526236 1.1403935 0.630856693 0.417753518 0.727421522][-0.0145896599 0.180148557 0.25973624 0.016798811 -0.0358726755 0.225283459 0.43052575 -0.0231026262 -0.00717061106 -0.170810431]\n",
      "[cp 1][6 2][0.630856693 0.719015777 1.97674763 1.97674763 0.48885119 0.727421522 1.39526236 0.221419036 0.48885119 1.34127569][0.025519114 0.0715165809 0.322348952 -0.142801061 0.189052716 0.0108415335 0.452239066 -0.0626471788 0.0416396968 -0.157882571]\n",
      "[cp 1][8 2][0.727421522 0.120450944 0.719015777 0.877203047 0.48885119 0.322619021 0.48885119 1.3062166 1.1403935 1.39526236][0.0239793379 0.0792904496 0.337514371 0.016798811 0.189052716 0.133006781 0.375224113 -0.0327190161 0.260501415 -0.142104477]\n",
      "[cp 1][6 2][0.204089627 0.204089627 0.322619021 0.120450944 0.48885119 0.417753518 0.204089627 0.727421522 0.417753518 0.91871655][0.105121315 0.128872335 0.429875344 -0.0123713128 0.206965804 0.0549743176 0.428639323 0.0612038597 -0.0268430617 -0.0352583863]\n",
      "[cp 1][6 1][0.506583214 1.39526236 0.120450944 1.39526236 0.506583214 0.160272524 0.874063909 0.932621539 0.204089627 1.33353341][0.0738891214 0.178316429 0.356322169 -0.0517424755 0.0131472312 0.126945823 0.465939522 0.0357774757 -0.0911169127 -0.102625236]\n",
      "[cp 1][6 2][0.417753518 0.417753518 0.719015777 0.727421522 0.874063909 0.257852584 0.932621539 0.877203047 0.874063909 0.221419036][0.121783197 0.146450222 0.36904797 -0.0741743818 -0.0722336844 0.117768727 0.348781109 0.061118871 -0.0260250624 -0.0931497812]\n",
      "[cp 1][6 2][1.34127569 0.630856693 1.3062166 0.727421522 0.221419036 0.932621539 0.120450944 0.932621539 0.932621539 0.91871655][0.0343703479 0.116694637 0.517446876 -0.0741743818 0.124119505 0.093153812 0.434373975 0.0357774757 0.10613095 -0.0300856605]\n",
      "[cp 1][6 2][0.221419036 0.506583214 0.91871655 1.97674763 0.257852584 1.39526236 0.874063909 0.877203047 0.91871655 0.874063909][-0.00369746424 0.0747525096 0.474210203 -0.11383985 0.0566138402 0.244571298 0.465530217 0.054390233 0.237134203 0.0229325]\n",
      "[cp 1][6 2][1.34127569 1.161816 0.719015777 0.221419036 0.719015777 1.33353341 1.34127569 0.91871655 1.34127569 0.91871655][0.0510048494 0.0715771317 0.376796305 -0.176689968 0.0542601459 0.110897422 0.391135812 -0.01527334 -0.227518052 -0.0382443]\n",
      "[cp 1][6 2][1.97674763 0.719015777 1.161816 0.719015777 0.417753518 0.120450944 1.33353341 0.506583214 0.48885119 0.578821898][0.176916957 0.00531879533 0.50915575 0.0800886899 -0.000290896744 0.151970789 0.43864876 0.0261430107 0.0031314604 0.00714053214]\n",
      "[cp 1][2 0][1.97674763 0.160272524 0.719015777 0.257852584 1.33353341 0.204089627 0.221419036 0.932621539 0.727421522 1.37258172][0.180479735 0.00598655269 0.357244432 -0.0741624 0.130419284 0.198682055 0.306498587 0.0382868499 -0.246716246 -0.112930626]\n",
      "[cp 1][6 2][0.91871655 1.34127569 0.506583214 0.506583214 0.578821898 1.34127569 1.33353341 0.257852584 0.630856693 0.506583214][0.100619324 0.0856767446 0.299406976 -0.0123234205 -0.0629937 0.0246332064 0.41399467 -0.0427010134 -0.247517228 -0.201188803]\n",
      "[cp 1][6 2][0.630856693 0.506583214 0.48885119 0.578821898 0.995330155 1.33353341 0.995330155 0.417753518 0.160272524 0.995330155][0.0511802584 0.0882410109 0.188648552 -0.0437893942 0.0522491559 0.08890903 0.352741301 0.000230029225 0.0522011407 -0.220246226]\n",
      "[cp 1][6 2][1.34127569 0.221419036 0.578821898 0.877203047 0.120450944 1.33353341 0.506583214 0.417753518 0.48885119 0.120450944][0.0870740563 0.0429030471 0.356103927 -0.00647292379 -0.0254362337 0.08890903 0.302190512 0.000230029225 0.00317526609 -0.00435904413]\n",
      "[cp 1][6 2][0.221419036 1.97674763 1.34127569 0.578821898 0.91871655 0.257852584 0.48885119 0.578821898 0.506583214 0.160272524][0.0306864 0.123327903 0.338326514 -0.0437893942 -0.0146996919 0.0938015431 0.349033743 0.0111110732 -0.141341224 -0.162904382]\n",
      "[cp 1][6 2][1.39526236 0.48885119 0.995330155 1.33353341 1.33353341 1.47145104 0.204089627 1.47145104 0.257852584 0.578821898][0.14949 0.108697988 0.355063796 0.0778474361 0.120079175 0.03103856 0.409783036 -0.0347070433 -0.0748887882 0.0427120812]\n",
      "[cp 1][6 2][0.48885119 0.932621539 0.91871655 0.506583214 0.506583214 0.221419036 0.160272524 0.727421522 1.47145104 0.48885119][0.0526482 0.146173924 0.465073019 -0.0187521372 -0.016812142 0.0143479332 0.429750562 0.0331836455 -0.221098348 -0.0847609639]\n",
      "[cp 1][6 2][0.932621539 0.727421522 0.727421522 1.21673441 0.877203047 0.995330155 1.39526236 0.48885119 0.417753518 1.33353341][0.100469053 0.226042703 0.328175098 0.0660422742 0.272164494 0.0693146884 0.438306928 -0.12077938 -0.0386956856 -0.0838002935]\n",
      "[cp 1][8 6][0.995330155 1.97674763 0.160272524 1.37258172 0.932621539 0.221419036 0.257852584 1.39526236 1.21673441 0.160272524][0.174692094 0.0909237638 0.446333 0.00220477115 0.11890088 0.0416471884 0.381193161 0.0639064088 0.259979308 -0.193799511]\n",
      "[cp 1][8 6][1.47145104 0.48885119 0.204089627 0.449711233 0.578821898 0.417753518 1.33353341 0.506583214 1.33353341 1.39526236][0.0587914586 0.135843173 0.355627358 -0.208658248 -0.084407866 0.0936058089 0.397535563 -0.0106375888 0.21217829 -0.170788199]\n"
     ]
    },
    {
     "name": "stderr",
     "output_type": "stream",
     "text": [
      "[cp 1][6 2][0.995330155 0.506583214 1.20028007 0.877203047 1.40078592 0.449711233 0.120450944 1.40078592 1.37258172 1.47145104][0.169865549 0.100683883 0.414416105 -0.136214346 -0.0265739709 0.0500181243 0.416957617 -0.0240480155 -0.0689471588 -0.141496345]\n",
      "[cp 1][4 1][0.932621539 0.932621539 0.204089627 0.630856693 0.449711233 0.506583214 0.120450944 0.221419036 1.97674763 0.221419036][0.0844975635 0.183512866 0.357921571 -0.0917827487 0.233742326 0.0612749234 0.416957617 -0.0658637583 -0.00832836144 -0.120217666]\n",
      "[cp 1][6 2][0.160272524 1.47145104 1.20028007 1.20028007 0.221419036 0.221419036 1.37258172 1.20028007 0.995330155 0.932621539][-0.0158337597 0.114843689 0.414416105 -0.0323658399 0.109811276 0.0495666526 0.321409404 -0.00376855582 0.0196985677 -0.194025576]\n",
      "[cp 1][6 2][1.37258172 1.47145104 0.221419036 0.204089627 0.204089627 0.578821898 0.257852584 0.578821898 0.630856693 1.39526236][0.0683653504 0.114843689 0.384637415 0.0259102657 0.203379318 0.16678904 0.367944688 -0.0458592176 -0.162208945 -0.167962193]\n",
      "[cp 1][5 2][1.40078592 0.257852584 1.47145104 0.578821898 0.120450944 1.39526236 0.506583214 0.221419036 0.48885119 1.40078592][0.083956331 0.208039775 0.346516222 -0.156986922 -0.0317369252 0.225219086 0.287491381 -0.0658637583 0.0351515263 -0.0683035105]\n",
      "[cp 1][6 2][0.417753518 0.257852584 0.48885119 0.48885119 0.417753518 0.417753518 0.449711233 0.120450944 0.120450944 0.630856693][0.0954752788 0.214780435 0.220729083 -0.0450191759 -0.0397002622 0.0896853879 0.345080048 -0.0354982316 -0.0330951884 -0.272178084]\n",
      "[cp 1][6 2][0.204089627 0.417753518 1.37258172 0.630856693 0.221419036 0.630856693 0.877203047 1.50497472 1.47145104 0.877203047][0.140212417 0.203173488 0.52519 -0.110024877 0.0947898179 0.0771556497 0.408409566 0.0510739684 -0.174766764 -0.154466987]\n",
      "[cp 1][6 2][1.37258172 0.995330155 1.50497472 1.37258172 1.20028007 0.932621539 1.40078592 0.204089627 0.578821898 0.204089627][0.0636905208 0.057607688 0.413705647 -0.0598055348 0.104771629 0.073020637 0.395787865 -0.147093415 0.0131773325 0.0219925866]\n",
      "[cp 1][6 1][0.257852584 0.449711233 0.204089627 0.417753518 0.48885119 0.221419036 0.204089627 0.204089627 0.449711233 1.47145104][-0.016136039 0.258824229 0.362257868 -0.0971376896 0.162118703 0.0520464182 0.37288174 -0.149065509 -0.0936919153 -0.149383545]\n",
      "[cp 1][8 4][0.630856693 1.37258172 0.120450944 0.506583214 0.877203047 1.37258172 0.120450944 0.578821898 1.20028007 0.417753518][0.0605967939 0.110396951 0.331667393 -0.128610685 0.222235277 0.0679873526 0.423354864 -0.0557387024 0.219916672 -0.132883623]\n",
      "[cp 1][6 2][0.48885119 0.120450944 0.995330155 0.120450944 0.995330155 0.630856693 0.449711233 1.17267931 0.630856693 0.221419036][-0.015236171 0.105296455 0.321367323 -0.103564993 0.0333365425 0.0939451158 0.328434408 0.0148499943 -0.150588423 -0.0913789421]\n",
      "[cp 1][6 4][1.37258172 0.48885119 0.120450944 0.932621539 1.20028007 0.630856693 0.204089627 0.221419036 1.50497472 1.17267931][0.0380768329 0.123420432 0.301109195 -0.284136981 0.0994363055 0.123383418 0.379237354 -0.0717665702 -0.0533870831 -0.179837659]\n",
      "[cp 1][6 5][1.00841451 0.48885119 0.257852584 1.5085032 0.630856693 1.50497472 1.17267931 0.160272524 0.506583214 0.932621539][0.00875613373 0.132703513 0.293202162 -0.0846546218 -0.113946974 0.256178468 0.387204885 -0.0318960473 -0.117869414 -0.213053823]\n",
      "[cp 1][6 2][0.506583214 1.5085032 0.578821898 0.120450944 0.160272524 1.17267931 0.630856693 0.221419036 0.48885119 1.00841451][0.0277374592 0.138699323 0.364178687 -0.15827778 0.0111353565 0.119962946 0.378679276 -0.0707407817 0.0549176782 -0.126896665]\n",
      "[cp 1][6 2][0.120450944 1.97674763 0.695336699 0.630856693 0.48885119 1.97674763 0.630856693 0.160272524 1.00841451 1.97674763][-0.0166964456 0.096228 0.356444508 -0.164766431 0.128169775 0.133177072 0.378679276 -0.0318960473 0.21367912 -0.0527664199]\n",
      "[cp 1][6 2][0.695336699 1.47145104 0.932621539 0.449711233 0.48885119 0.160272524 1.5085032 0.120450944 0.48885119 1.47145104][0.161887243 0.113615967 0.368020743 -0.262913167 0.100188121 0.149173558 0.395245403 -0.0379435122 0.0737130865 -0.133363754]\n",
      "[cp 1][6 2][0.204089627 0.204089627 0.120450944 0.417753518 0.221419036 0.257852584 0.257852584 0.160272524 1.17267931 0.221419036][0.109706841 0.16568473 0.310544372 -0.122391261 0.0998644829 0.131498232 0.366327167 -0.0469738767 0.012492327 -0.119554117]\n",
      "[cp 1][6 2][0.257852584 1.47145104 0.506583214 0.417753518 0.932621539 0.932621539 0.371736735 0.221419036 0.417753518 0.204089627][-0.0202422924 0.113615967 0.370164037 -0.122391261 0.048422467 0.0828246698 0.383227557 -0.0712660626 -0.00556244422 0.0414326414]\n",
      "[cp 1][6 2][0.578821898 0.204089627 0.48885119 0.257852584 0.120450944 0.371736735 0.120450944 0.221419036 0.417753518 0.160272524][0.0779774413 0.16568473 0.22331284 -0.201377645 -0.0474874713 0.0890592113 0.397267759 -0.0712660626 -0.00556244422 -0.180976152]\n",
      "[cp 1][6 2][0.221419036 0.120450944 0.506583214 0.417753518 0.120450944 0.204089627 0.695336699 0.506583214 0.120450944 1.47145104][-0.0186690576 0.111965843 0.370164037 -0.122391261 -0.0474874713 0.220168263 0.311936796 -0.0325898 0.0053677503 -0.133363754]\n",
      "[cp 1][6 2][0.221419036 0.221419036 0.257852584 1.47145104 1.00841451 0.120450944 0.257852584 0.932621539 0.417753518 0.204089627][-0.0186690576 0.102403603 0.31465897 -0.274615437 0.0738989562 0.186071962 0.366327167 -0.0166096464 -0.00556244422 0.0414326414]\n",
      "[cp 1][2 1][0.578821898 1.5085032 0.204089627 0.221419036 0.932621539 0.123087429 0.204089627 0.120450944 1.47145104 0.695336699][0.0857564658 0.173055828 0.387691975 -0.319777459 0.0741667449 0.135756776 0.36682117 -0.029928036 -0.13343741 -0.224586919]\n",
      "[cp 1][6 2][1.97674763 0.932621539 1.37258172 0.120450944 0.449711233 0.221419036 1.00841451 0.417753518 0.932621539 0.932621539][0.16769506 0.200065672 0.508708656 -0.133860394 0.177376121 0.0812936425 0.376317 0.00344824791 0.148664504 -0.221584976]\n",
      "[cp 1][6 2][0.449711233 0.578821898 0.506583214 0.160272524 0.932621539 1.47145104 1.17267931 0.204089627 1.47145104 0.371736735][0.00428760145 0.172227904 0.354503393 -0.198890388 0.0741667449 0.114694595 0.38250792 -0.139975846 -0.13343741 -0.270256639]\n",
      "[cp 1][6 1][0.371736735 0.932621539 0.160272524 1.50497472 0.695336699 0.120450944 0.48885119 0.578821898 0.578821898 0.932621539][0.0351566598 0.182479277 0.394129813 -0.244746596 0.0565575287 0.203584284 0.34545514 -0.0709348619 0.0676404387 -0.194435775]\n",
      "[cp 1][6 2][0.578821898 0.449711233 1.37801719 0.449711233 0.695336699 1.97674763 1.50497472 1.5085032 0.120450944 1.47145104][0.0622015893 0.231751502 0.371156514 -0.259812176 0.0872309059 0.137508661 0.425227642 0.000949591398 0.00935996138 -0.147605836]\n",
      "[cp 1][5 1][0.578821898 0.578821898 0.120450944 0.371736735 0.204089627 1.97674763 0.123087429 0.506583214 0.695336699 0.120450944][0.0574480817 0.171206445 0.305355906 -0.143946752 0.25486353 0.141113698 0.389343143 -0.0342676193 0.0649744868 -0.0336117297]\n",
      "[cp 1][6 2][0.371736735 0.695336699 1.00841451 0.267233104 0.120450944 0.506583214 1.37801719 1.57848966 1.97674763 0.120450944][0.0148016773 0.0288585275 0.414403975 -0.0331300497 0.038442485 0.0928829834 0.3932859 0.0242846683 -0.0158623904 -0.0336117297]\n",
      "[cp 1][6 1][0.695336699 0.932621539 0.120450944 1.97674763 0.160272524 0.695336699 0.506583214 0.204089627 0.123087429 0.160272524][0.143570438 0.195646852 0.3108643 -0.251085937 0.0636406541 0.0392332 0.298139215 -0.148280859 0.0574839152 -0.182011217]\n",
      "[cp 1][6 2][1.37258172 1.37258172 1.37801719 1.47145104 0.267233104 0.417753518 0.578821898 1.37801719 0.221419036 1.5085032][0.0584881119 0.0688500702 0.398491979 -0.333824903 0.232358903 0.10714 0.392983645 0.0246987268 0.0328953378 -0.0418934412]\n",
      "[cp 1][6 5][0.506583214 1.37258172 0.204089627 1.37258172 0.221419036 1.5085032 0.449711233 1.5085032 0.506583214 0.506583214][0.0465012938 0.0688500702 0.416967452 -0.0871132687 0.203430235 0.299946547 0.338670224 0.0134952962 -0.0834816098 -0.26903674]\n",
      "[cp 1][6 2][0.506583214 0.371736735 0.578821898 1.37258172 1.57848966 0.417753518 0.371736735 0.204089627 0.695336699 0.695336699][0.0473106 0.194970563 0.424812496 -0.102235235 0.0793083906 0.106206819 0.406969786 -0.143798083 0.073429592 -0.221242338]\n",
      "[cp 1][6 2][0.267233104 0.713442 0.633983493 0.633983493 0.267233104 0.123087429 1.57848966 0.123087429 0.449711233 0.120450944][-0.0178870931 0.149495274 0.372951478 -0.306364298 0.229090482 0.11652603 0.399466068 -0.0348681286 -0.0534990951 -0.0180229656]\n",
      "[cp 1][6 2][1.57848966 0.123087429 0.120450944 1.37801719 0.160272524 0.578821898 1.47145104 0.417753518 0.371736735 1.37801719][0.0979021341 0.209368542 0.313091427 -0.202077344 0.126027316 0.158633411 0.345229387 0.00979824364 -0.095202595 -0.150935665]\n",
      "[cp 1][6 2][0.417753518 1.37258172 1.37801719 0.221419036 0.578821898 0.123087429 1.37258172 1.97674763 1.47145104 0.713442][0.0811944306 0.0819803476 0.396921486 -0.374284953 0.045962 0.11652603 0.324865341 -0.0308680683 -0.114406019 -0.130632743]\n",
      "[cp 1][6 2][0.204089627 0.204089627 0.713442 1.57848966 0.506583214 0.578821898 0.160272524 1.58097386 1.97674763 0.371736735][0.108455762 0.145748541 0.443730831 -0.309167236 0.0966922045 0.158633411 0.446119696 0.0151636787 0.0249011368 -0.264575303]\n",
      "[cp 1][6 2][0.449711233 0.371736735 0.713442 0.123087429 0.120450944 0.506583214 0.506583214 1.97674763 1.97674763 0.578821898][0.00211622939 0.194970563 0.443730831 -0.21126087 0.112438008 0.0465524718 0.288963199 -0.0308680683 0.0249011368 -0.00173714012]\n",
      "[cp 1][6 2][0.221419036 0.123087429 0.221419036 1.37801719 0.279621243 0.713442 0.695336699 1.97674763 0.160272524 1.47145104][-0.0186614972 0.229890987 0.438380778 -0.177603438 0.0954625756 0.143958762 0.33099252 -0.0313492417 0.110000037 -0.119644523]\n",
      "[cp 1][6 1][0.279621243 1.58097386 0.279621243 0.633983493 1.47145104 0.221419036 0.371736735 1.57848966 1.47145104 0.279621243][0.0436701775 0.201311707 0.351766169 -0.266206115 0.0371349454 0.0596302226 0.402513474 0.00763378292 -0.105839074 -0.260876179]\n",
      "[cp 1][4 2][0.221419036 0.120450944 0.160272524 0.449711233 0.713442 0.417753518 0.123087429 0.123087429 0.204089627 0.160272524][-0.018024 0.115562811 0.417258084 -0.285974681 0.207499012 0.097948432 0.364908457 -0.0441287383 -0.0302584209 -0.172482848]\n",
      "[cp 1][5 2][0.695336699 1.37801719 1.57848966 0.267233104 0.160272524 1.63364875 0.204089627 0.120450944 0.578821898 0.279621243][0.170675635 0.243394077 0.415298164 -0.0818214 0.140340164 0.305290371 0.360443294 -0.041271206 0.0861762 -0.264098287]\n",
      "[cp 1][4 1][0.204089627 0.713442 0.120450944 0.449711233 0.449711233 1.37801719 0.221419036 0.120450944 1.97674763 0.695336699][0.0961796194 0.17230241 0.300271958 -0.278683603 0.286091179 0.106479861 0.303059787 -0.0354283527 0.0624705702 -0.203031376]\n",
      "[cp 1][6 2][0.120450944 0.160272524 1.63364875 0.120450944 0.713442 0.371736735 0.279621243 1.37258172 0.120450944 0.695336699][-0.0248694401 0.0265996978 0.455777526 -0.120533481 0.214383632 0.0988077521 0.276038349 -0.00983049721 0.047837168 -0.203031376]\n",
      "[cp 1][6 2][0.160272524 0.695336699 0.204089627 0.160272524 0.221419036 0.279621243 0.267233104 0.417753518 1.52518845 0.449711233][-0.0147758229 0.0363477133 0.405098975 -0.198321283 0.193044707 0.0510712937 0.332654476 0.00602088124 -0.00103469426 -0.129515246]\n",
      "[cp 1][6 2][1.47145104 0.267233104 0.578821898 0.267233104 0.123087429 0.160272524 1.52518845 1.47145104 0.120450944 0.279621243][0.0177915078 0.17142278 0.41254133 -0.0692848936 0.0365869515 0.139020011 0.394225895 -0.039652355 0.046153836 -0.256396443]\n",
      "[cp 1][6 2][0.267233104 1.45755458 1.37801719 0.279621243 0.578821898 0.123087429 0.695336699 0.221419036 1.45755458 0.633983493][-0.0196590573 0.196647629 0.390755 -0.120760463 0.0780445486 0.113697343 0.335727513 -0.0632851422 0.00466589676 -0.238521621]\n",
      "[cp 1][2 0][1.97674763 0.417753518 0.221419036 0.279621243 0.0941316187 0.633983493 0.267233104 1.37801719 0.120450944 0.267233104][0.192275435 0.22158286 0.388329983 -0.0993891507 0.348829985 0.056033 0.297340333 0.00443678349 0.0519027412 -0.0254790336]\n",
      "[cp 1][6 2][0.633983493 0.267233104 0.578821898 1.47145104 1.63364875 0.371736735 1.97674763 0.0941316187 0.0941316187 0.0941316187][0.0449738093 0.198481679 0.388683528 -0.266059786 0.105193019 0.08917588 0.369767487 -0.157914221 0.00375570077 0.0765965581]\n",
      "[cp 1][6 2][0.221419036 0.123087429 1.97674763 0.279621243 0.578821898 0.123087429 0.221419036 0.578821898 0.123087429 0.967490792][-0.014395358 0.240541235 0.24282974 -0.0993891507 0.0944758505 0.098818779 0.277048677 -0.045875892 0.10296414 -0.153317362]\n",
      "[cp 1][6 2][0.449711233 1.63364875 0.371736735 0.120450944 1.47145104 0.120450944 1.37801719 0.120450944 0.967490792 0.120450944][0.0153363049 0.226832122 0.474304378 -0.0836280435 0.0564375669 0.156093746 0.336571217 -0.0596553 0.11688441 0.0356299616]\n",
      "[cp 1][4 2][0.160272524 0.633983493 1.47145104 0.371736735 0.449711233 0.713442 0.123087429 0.578821898 0.449711233 0.221419036][-0.024409961 0.218413517 0.308167964 -0.0872286335 0.31890747 0.129771918 0.331415772 -0.0458862111 0.00969576463 -0.0601440817]\n",
      "[cp 1][2 1][0.417753518 1.63364875 1.97690988 0.967490792 0.449711233 0.449711233 0.371736735 1.97690988 1.45755458 0.123087429][0.0696355253 0.223965704 0.24752751 -0.0309827421 0.297213942 0.0503996164 0.377884537 -0.052443184 0.0079892939 -0.172638237]\n",
      "[cp 1][8 6][0.449711233 0.449711233 0.578821898 1.37801719 0.578821898 0.578821898 1.97706985 1.55526018 1.63364875 1.37801719][0.0177691206 0.292424142 0.396101773 -0.128083229 0.0786525756 0.137463674 0.372939199 -0.0639605299 0.296941 -0.10283874]\n",
      "[cp 1][6 2][0.123087429 1.97706985 1.55526018 1.37801719 0.371736735 0.123087429 0.371736735 0.967490792 0.449711233 0.713442][0.00513296388 0.185624659 0.31464237 -0.132499978 0.0141542181 0.0933151916 0.376539201 -0.105272077 0.0133359339 -0.0918365568]\n",
      "[cp 1][6 2][0.279621243 1.37258172 0.713442 0.160272524 0.578821898 0.279621243 0.120450944 0.713442 0.0941316187 0.713442][0.0155449491 0.107728399 0.404758155 -0.170710757 0.0981044173 0.0516216159 0.377383381 -0.0562339649 -0.0333932526 -0.0916677862]\n",
      "[cp 1][4 2][0.737450361 0.317939162 0.937302411 0.565613925 0.592280388 0.194202557 0.317939162 1.31265914 0.737450361 0.240393117][0.0121203177 0.106541872 0.342057288 -0.459814429 0.216846764 0.186365396 0.205062747 0.06558837 -0.179541439 -0.539904356]\n",
      "[cp 1][4 0][1.31265914 1.31265914 0.237455443 0.276365906 1.95352221 0.317939162 0.240393117 0.393164724 0.192196816 0.240393117][0.220526442 0.127528086 0.156851575 -0.429085106 0.167107612 0.0750934333 0.174672782 0.0347016677 -0.0292691775 -0.539904356]\n",
      "[cp 1][6 5][0.194202557 0.240393117 0.276365906 0.592280388 1.95352221 1.20969105 1.20969105 1.95352221 1.67588985 0.937302411][-0.00577314198 0.0516839027 0.251723528 -0.456553787 0.167107612 0.265975922 0.340750128 0.135082692 -0.0381670073 -0.397642]\n"
     ]
    },
    {
     "name": "stderr",
     "output_type": "stream",
     "text": [
      "[cp 1][6 2][1.39706755 0.0783755854 1.47852719 0.592280388 0.194202557 0.937302411 1.95352221 0.737450361 1.64198649 0.237455443][0.15708971 0.123794183 0.288214803 -0.437654 -0.0865878 0.18484506 0.209427059 -0.0275253281 -0.0297997519 -0.333084404]\n",
      "[cp 1][6 2][1.67588985 0.240393117 1.67588985 1.39706755 1.67588985 0.192196816 0.192196816 0.194202557 0.565613925 1.56010735][0.100747257 0.0698583052 0.407063693 -0.503094912 -0.0100685246 0.0598810762 0.323099375 0.135516778 -0.0328886509 -0.446916491]\n",
      "[cp 1][4 2][0.276365906 1.95291889 0.317939162 0.220750287 0.592280388 0.237455443 0.192196816 1.39706755 0.220750287 1.95291889][0.00140006095 0.0219806768 0.2952393 -0.521912217 0.203140333 0.0431667715 0.322347134 0.114402235 0.00813571736 -0.369300812]\n",
      "[cp 1][6 2][0.276365906 0.240393117 0.194202557 0.937302411 0.192196816 0.192196816 0.220750287 1.64437556 1.64437556 0.220750287][0.00140006095 0.072525233 0.240097731 -0.387889683 0.13399756 0.0579110049 0.376823634 0.0725829825 -0.0190209784 -0.364093304]\n",
      "[cp 1][8 2][0.565613925 0.937302411 1.95352221 0.737450361 0.565613925 0.220750287 0.192196816 0.276365906 1.95352221 1.95352221][0.0892123953 0.140479594 0.217046574 -0.526342213 0.157519862 0.165808201 0.331008166 0.0841484442 0.174677819 -0.425464541]\n",
      "[cp 1][6 5][1.95291889 0.220750287 0.737450361 0.240393117 0.240393117 1.39706755 0.937302411 0.192196816 0.192196816 0.220750287][0.202463418 0.168626145 0.206002057 -0.43023932 0.109824762 0.25877583 0.300038308 0.205944628 -0.0251424313 -0.357547879]\n",
      "[cp 1][7 0][0.937302411 0.220750287 0.0783755854 0.937302411 1.31265914 0.220750287 0.276365906 1.31265914 0.220750287 1.64198649][0.101522379 0.168626145 0.337230444 -0.387638181 0.0631756857 0.165800601 0.179109663 0.0933505297 0.00719577074 -0.294625342]\n",
      "[cp 1][6 2][0.737450361 0.737450361 1.64437556 0.276365906 0.0783755854 1.64198649 1.95291889 0.237455443 1.31265914 0.237455443][0.0165160131 0.115864038 0.337322146 -0.429281026 0.0905878246 0.0729688853 0.315983623 0.0228651632 -0.0352205 -0.281586498]\n",
      "[cp 1][8 6][1.68231618 1.95291889 0.237455443 0.592280388 0.220750287 1.95417023 1.56010735 0.393164724 1.95417023 1.31265914][0.0828830227 -0.012447102 0.0973627865 -0.429292649 0.000366047025 0.165512189 0.319977075 0.0704644546 0.178558752 -0.460374624]\n",
      "[cp 1][6 2][0.237455443 0.393164724 0.192196816 1.31265914 1.56010735 0.237455443 1.95291889 0.240393117 0.237455443 1.39706755][-0.0747739375 0.0680189654 0.242994815 -0.431454688 0.0105067259 0.0250850618 0.315197349 0.185591042 -0.115963653 -0.268068403]\n",
      "[cp 1][6 5][0.592280388 1.56010735 0.192196816 1.64198649 0.0783755854 1.39706755 0.192196816 1.56010735 1.68231618 0.393164724][0.0637429208 0.128426716 0.242992625 -0.476032943 0.0910022855 0.236174211 0.326200873 0.0859771669 -0.0228285268 -0.318474829]\n",
      "[cp 1][6 2][0.317939162 1.95358396 1.39706755 0.240393117 0.737450361 0.0783755854 1.39706755 1.68231618 1.64198649 0.0783755854][0.221021026 -0.0124604292 0.246504575 -0.434332 -0.0442422964 0.190382138 0.341822088 0.0853007585 -0.000208616257 -0.43854934]\n",
      "[cp 1][6 5][1.56010735 1.31265914 0.737450361 0.088995412 0.737450361 1.56010735 1.64198649 0.0783755854 1.95358396 1.95358396][0.107845597 0.105138861 0.151748508 -0.525308788 -0.0442422964 0.177696362 0.26988703 0.1969845 0.12819165 -0.309247196]\n",
      "[cp 1][6 2][1.64198649 0.192196816 1.95480037 1.95480037 0.0783755854 0.276365906 0.192196816 0.192196816 1.56010735 0.276365906][-0.0238385312 0.123303816 0.149976447 -0.476260185 0.0910022855 0.169429317 0.326200873 0.222518846 -0.0222717375 -0.286534548]\n",
      "[cp 1][6 2][0.565613925 0.240393117 0.220750287 0.0783755854 0.276365906 1.64198649 0.192196816 0.276365906 1.23612309 0.592280388][0.0602015778 0.0483576432 0.280494958 -0.388294429 0.00735963788 0.0743537843 0.32610622 0.0879557431 -0.0882011279 -0.421144426]\n",
      "[cp 1][6 5][0.0783755854 0.592280388 1.95358396 0.192196816 0.088995412 1.95358396 1.64198649 0.393164724 0.737450361 0.317939162][0.0513692796 0.0952216238 0.236293674 -0.455438972 -0.127776831 0.280772835 0.269852579 0.0704749897 -0.12590605 -0.535494328]\n",
      "[cp 1][6 5][1.56010735 1.95541322 0.317939162 0.240393117 1.23612309 1.95541322 0.592280388 0.0783755854 1.23612309 0.192196816][0.103593409 0.124602512 0.25212878 -0.431330353 0.0584311374 0.168809712 0.277255476 0.195356667 -0.09187828 -0.360155672]\n",
      "[cp 1][7 2][0.088995412 0.237455443 0.220750287 0.088995412 0.276365906 0.317939162 0.088995412 0.84240979 0.317939162 0.737450361][-0.0316168368 0.233443126 0.269652426 -0.50971818 0.00100018084 0.0317012705 0.270073593 0.179772586 0.184603542 -0.308420092]\n",
      "[cp 1][7 0][1.31265914 1.95541322 0.088995412 0.220750287 0.088995412 0.237455443 0.192196816 1.39706755 0.737450361 0.220750287][0.217726082 0.121185467 0.200288564 -0.531602204 -0.13070941 0.0267215874 0.323565185 0.140757799 -0.12978965 -0.287433]\n",
      "[cp 1][6 2][0.088995412 1.95541322 1.39706755 0.276365906 0.737450361 0.737450361 0.317939162 0.088995412 1.23612309 1.31265914][-0.00381722115 0.121185467 0.247126043 -0.434140891 -0.0444566235 0.144392774 0.207020655 0.1734211 -0.0925759822 -0.45517236]\n",
      "[cp 1][7 6][0.393164724 1.95358396 0.737450361 1.50612581 0.565613925 1.56010735 1.23612309 1.95541322 1.68231618 0.565613925][0.0782689601 -0.0127308182 0.140911832 -0.517910421 0.124720335 0.16734755 0.277215272 0.16686663 -0.0185874701 -0.372759372]\n",
      "[cp 1][6 2][1.95358396 0.393164724 1.68043852 0.276365906 0.088995412 0.393164724 0.393164724 0.0783755854 1.23612309 0.240393117][0.169832259 0.0606690049 0.304020882 -0.440106571 -0.135532528 0.187053591 0.272419274 0.20775649 -0.0802098215 -0.532765448]\n",
      "[cp 1][8 6][0.220750287 0.276365906 0.237455443 1.50612581 1.50612581 0.565613925 0.237455443 0.317939162 1.95541322 0.317939162][0.164914817 0.0841806531 0.0926240757 -0.517910421 0.0964313447 0.144778281 0.26973626 0.146453202 0.183796376 -0.537494659]\n",
      "[cp 1][6 5][1.56010735 0.276365906 0.237455443 0.317939162 0.393164724 1.31265914 1.68231618 0.393164724 1.31265914 0.220750287][0.115362585 0.0841806531 0.0926240757 -0.39091289 0.0634211153 0.166069612 0.360184819 0.0759158507 -0.0311425477 -0.298891604]\n",
      "[cp 1][6 2][0.0783755854 0.192196816 1.50612581 1.50612581 0.192196816 0.220750287 0.737450361 0.240393117 1.95358396 1.68043852][0.0587616786 0.12511991 0.24329555 -0.517910421 0.109422073 0.144585356 0.353260636 0.194278121 0.127706379 -0.223308712]\n",
      "[cp 1][6 2][1.68043852 0.565613925 1.68043852 0.393164724 1.68231618 0.276365906 1.23612309 0.393164724 0.393164724 1.68231618][-0.0200965777 0.0591710508 0.304020882 -0.362526745 -0.0103237014 0.163482681 0.277215272 0.0759158507 0.164660037 -0.380450636]\n",
      "[cp 1][6 1][0.237455443 1.95541322 0.317939162 0.737450361 0.0783755854 0.317939162 0.220750287 1.31265914 0.565613925 1.56010735][-0.069098033 0.132175341 0.266223878 -0.534271777 0.0811768621 0.0211492404 0.370215476 0.115138941 -0.0138563812 -0.394917697]\n",
      "[cp 1][2 1][0.276365906 0.237455443 1.71107447 0.565613925 0.220750287 0.220750287 0.240393117 0.317939162 0.240393117 0.0783755854][-0.00365173444 0.211186513 0.301816761 -0.454601556 -0.00651458651 0.147115126 0.197308034 0.145925462 -0.0216446146 -0.432476103]\n",
      "[cp 1][6 2][1.68231618 0.737450361 0.317939162 1.23612309 0.393164724 0.0783755854 0.220750287 1.73611784 1.50612581 0.317939162][0.0959430188 0.124989912 0.264833808 -0.399885744 0.0582721606 0.192966759 0.368066907 0.0649220273 -0.0605651289 -0.533270359]\n",
      "[cp 1][6 2][0.237455443 0.220750287 1.50612581 0.240393117 0.565613925 1.68231618 1.95358396 0.237455443 0.393164724 0.565613925][-0.0709179863 0.133097783 0.237984255 -0.429337 0.117218733 0.137984693 0.308864415 0.0418708771 0.160616934 -0.362651795]\n",
      "[cp 1][6 5][0.088995412 1.43295228 0.237455443 0.565613925 0.276365906 0.737450361 0.240393117 0.276365906 1.23612309 0.276365906][-0.000244490802 0.00257729 0.0970820114 -0.453542501 8.96756537e-05 0.141368538 0.191709921 0.086852923 -0.0943319872 -0.273995191]\n",
      "[cp 1][5 0][1.95541322 0.192196816 0.549860239 0.276365906 0.237455443 1.23612309 0.549860239 0.549860239 1.95358396 0.220750287][0.155737 0.134402215 0.266142726 -0.449971527 0.0322915204 0.183484346 0.257778496 0.21224232 0.132554501 -0.293018728]\n",
      "[cp 1][6 2][0.237455443 0.565613925 0.240393117 1.23612309 0.220750287 0.240393117 1.68231618 1.43295228 0.240393117 1.73611784][-0.0967647284 0.0792416856 0.244017124 -0.411633641 0.000261761248 -0.00845576078 0.3450903 0.174915373 -0.0276639983 -0.199023455]\n",
      "[cp 1][5 2][0.237455443 0.393164724 0.317939162 0.0783755854 1.31265914 1.71259308 0.192196816 0.0783755854 0.237455443 1.23612309][-0.09639211 0.0875884369 0.243797958 -0.406261384 0.0372598581 0.176198646 0.320358127 0.233565643 -0.107806556 -0.353845567]\n",
      "[cp 1][7 6][1.73611784 1.43295228 0.240393117 0.276365906 0.458130032 0.237455443 0.237455443 1.56010735 0.565613925 1.73611784][-0.0361276381 0.028738685 0.227231115 -0.450903296 -0.0306256637 0.0394318216 0.250044405 0.111697376 -0.0287337303 -0.182788685]\n",
      "[cp 1][6 2][0.276365906 1.56010735 0.478377074 1.43295228 1.56010735 0.220750287 1.43295228 1.56010735 1.56010735 0.276365906][-0.0344755277 0.15937455 0.232222185 -0.501948 0.0230078697 0.140585884 0.322633058 0.103855625 -0.028474167 -0.252276]\n",
      "[cp 1][6 2][0.393164724 0.458130032 1.23612309 0.458130032 1.95358396 0.220750287 1.23612309 1.56010735 0.565613925 1.31265914][0.048199188 0.142082438 0.32065329 -0.508048892 0.112677321 0.140585884 0.267696857 0.103855625 -0.0417138338 -0.430534184]\n",
      "[cp 1][6 2][1.73611784 0.240393117 1.71259308 0.393164724 0.192196816 0.192196816 0.220750287 1.56010735 1.31265914 1.73611784][-0.0491763465 0.0750602782 0.294573784 -0.369128406 0.137837112 0.0342909247 0.341205895 0.103855625 -0.0426416844 -0.179884017]\n",
      "[cp 1][7 1][0.565613925 0.458130032 0.458130032 1.95358396 1.31265914 0.088995412 0.276365906 0.478377074 0.220750287 0.240393117][0.0350427926 0.139631122 0.135982677 -0.391646355 0.0557951331 0.106870025 0.156538263 0.152429044 0.0272219814 -0.506466448]\n",
      "[cp 1][7 6][0.393164724 0.276365906 0.393164724 0.220750287 0.220750287 0.276365906 1.95358396 1.43295228 1.95600963 0.458130032][0.0486570075 0.116313867 0.175073549 -0.527551949 0.016640164 0.139473721 0.288775921 0.166958541 0.159782246 -0.261749774]\n",
      "[cp 1][7 6][0.0783755854 1.95600963 0.393164724 0.1118977 0.0783755854 1.95600963 1.43295228 0.565613925 0.1118977 0.1118977][-0.00406762213 0.163085938 0.175073877 -0.387106985 0.1055035 0.152401879 0.322853208 0.223356172 -0.135166019 -0.257034898]\n",
      "[cp 1][7 2][0.1118977 0.1118977 0.478377074 0.393164724 1.73737395 0.478377074 0.240393117 1.95600963 0.0783755854 1.23612309][-0.123704836 0.233632907 0.230700105 -0.372472137 0.0264311749 0.036408633 0.168035462 0.151418403 0.0224333517 -0.351050824]\n",
      "[cp 1][5 4][0.240393117 0.1118977 0.478377074 1.73611784 1.95600963 1.56010735 0.393164724 0.240393117 0.478377074 1.43295228][0.0142635703 0.233632907 0.230700105 -0.466974974 0.147651389 0.184343904 0.239324018 0.198898375 0.16351667 -0.233180553]\n",
      "[cp 1][6 0][1.31265914 0.276365906 0.220750287 0.1118977 0.393164724 0.0783755854 1.95600963 0.478377074 1.23612309 1.31265914][0.172118157 0.118962385 0.255119085 -0.388445199 0.0748136416 0.153462395 0.221439928 0.146636143 -0.107510842 -0.439516604]\n",
      "[cp 1][6 2][0.192196816 0.458130032 1.95423031 0.393164724 1.73611784 1.95600963 1.73611784 0.1118977 1.95423031 0.393164724][0.0477940142 0.141120106 0.204700932 -0.37719959 -0.012731526 0.154899761 0.270231605 0.0648152307 0.120946974 -0.298778176]\n",
      "[cp 1][6 2][1.31265914 0.088995412 1.31265914 1.95600963 1.31265914 1.95600963 1.61815906 1.61815906 0.276365906 0.393164724][0.172118157 0.237605363 0.25429979 -0.477728516 0.0493351 0.154899761 0.29606837 0.0987882763 0.0069238469 -0.298778176]\n",
      "[cp 1][8 6][0.458130032 0.088995412 0.1118977 0.549860239 0.1118977 1.73611784 0.240393117 0.0783755854 0.549860239 0.192196816][-0.025879344 0.237807468 0.090795 -0.404137701 0.0381703675 0.0427373648 0.16616793 0.220777124 0.168329954 -0.334527254]\n",
      "[cp 1][2 0][1.170928 0.0783755854 0.549860239 0.458130032 0.458130032 0.088995412 0.1118977 1.61815906 0.393164724 1.170928][0.159477741 0.149825603 0.236103326 -0.506918967 -0.0217510499 0.107578732 0.248835966 0.107795946 0.161397606 -0.446111083]\n",
      "[cp 1][6 2][0.240393117 0.0783755854 0.192196816 0.310647964 0.276365906 0.220750287 1.73737395 1.73737395 0.240393117 0.393164724][0.0469551757 0.124493495 0.212111652 -0.430364102 0.0444211364 0.124488592 0.355503261 0.12446411 -0.0397687033 -0.304582059]\n",
      "[cp 1][7 2][1.61815906 0.088995412 0.220750287 0.220750287 0.220750287 0.240393117 0.240393117 0.192196816 0.0783755854 1.43295228][0.06407547 0.214489684 0.254235089 -0.512149394 0.0273479596 -0.0408680141 0.171317145 0.268729359 0.0253781527 -0.206498682]\n",
      "[cp 1][6 2][0.0783755854 0.0783755854 1.43295228 0.240393117 0.310647964 1.73611784 0.458130032 0.458130032 0.310647964 0.565613925][-0.0207295455 0.130548596 0.234583676 -0.467081904 0.214491442 0.0391040184 0.330894798 0.0411965251 0.184279 -0.322637707]\n",
      "[cp 1][6 2][1.52941525 0.393164724 1.73611784 1.95600963 0.458130032 0.276365906 1.95600963 1.23612309 0.310647964 0.1118977][0.0943086594 0.0824519098 0.286522925 -0.502887487 -0.00746862218 0.12258473 0.194833666 0.189419538 0.182853311 -0.26690644]\n",
      "[cp 1][6 2][0.393164724 0.478377074 1.61815906 0.310647964 0.0783755854 1.95659018 0.565613925 0.565613925 0.458130032 0.276365906][0.0611386262 0.141249299 0.235773638 -0.438572943 0.108609594 0.157709107 0.294079781 0.244171 -0.0986841619 -0.265443414]\n",
      "[cp 1][7 6][0.322221309 0.192196816 0.240393117 0.276365906 1.23612309 0.192196816 1.23612309 0.478377074 0.322221309 0.088995412][0.0259448886 0.13676396 0.276366562 -0.453165561 0.0570759326 -0.00122881494 0.264800519 0.198089287 0.015703626 -0.542534351]\n"
     ]
    },
    {
     "name": "stderr",
     "output_type": "stream",
     "text": [
      "[cp 1][6 5][0.240393117 0.240393117 0.240393117 1.7580657 1.52941525 1.41117549 0.393164724 0.102919318 0.276365906 0.192196816][0.00841311365 0.0418730602 0.24554953 -0.490600884 0.102121249 0.117531091 0.241067722 0.236978546 0.0358717889 -0.320497841]\n",
      "[cp 1][7 6][0.310647964 1.95423031 0.1118977 0.102919318 1.95659018 0.458130032 0.0783755854 1.52941525 1.73611784 1.95659018][-0.00459974632 -0.0235202387 0.0925194845 -0.529125 0.0962006897 0.0747349039 0.354376018 0.232010186 0.0419132039 -0.295393497]\n",
      "[cp 1][6 2][0.276365906 0.0783755854 0.478377074 0.310647964 1.170928 1.95659018 1.170928 0.276365906 0.478377074 0.276365906][-0.0642617941 0.104544379 0.245681792 -0.457005113 0.0738193318 0.103234291 0.224786907 0.182768717 0.200068265 -0.243690208]\n",
      "[cp 1][7 2][1.61815906 1.52941525 1.95423031 0.192196816 0.1118977 1.51518977 0.102919318 1.51518977 1.52941525 0.310647964][0.0243005306 -0.0150481239 0.21603784 -0.456930518 0.00580854341 0.112400949 0.333096147 0.213546082 -0.0279364958 -0.335807562]\n",
      "[cp 1][7 6][0.276365906 1.95485866 0.088995412 0.322221309 0.088995412 0.240393117 1.95659018 1.73611784 0.088995412 0.088995412][-0.0642685443 -0.0235246271 0.180546731 -0.440088451 -0.131360039 -0.0703619644 0.194292903 0.144506395 -0.00275212526 -0.478101939]\n",
      "[cp 1][8 7][0.393164724 1.95485866 0.088995412 0.0783755854 1.95485866 1.95659018 0.192196816 1.95659018 1.95659018 0.102919318][0.00786433183 -0.0235246271 0.180546731 -0.410856605 0.092063 0.103246942 0.31544143 0.192933723 0.184718013 -0.253002763]\n",
      "[cp 1][6 2][1.51518977 1.170928 1.170928 0.240393117 1.51518977 0.276365906 1.7580657 1.61815906 0.1118977 1.73611784][0.0233658701 0.0718214065 0.234602809 -0.474400073 0.0123398378 0.0949753895 0.362703443 0.172067866 -0.0515162274 -0.146331802]\n",
      "[cp 1][7 2][0.322221309 1.170928 1.61815906 0.310647964 1.73611784 1.52941525 0.322221309 1.7580657 0.322221309 0.393164724][9.90927219e-07 0.0718214065 0.251377523 -0.457011104 -0.00235871971 0.177528217 0.291813552 0.194567382 0.0426695123 -0.276771426]\n",
      "[cp 1][7 2][0.1118977 1.73611784 1.51518977 0.240393117 0.458130032 1.52941525 0.393164724 1.7580657 1.170928 0.088995412][-0.168823749 0.126446217 0.331207365 -0.478577286 -0.0328014307 0.177593067 0.241638303 0.191061 -0.0054531917 -0.488438517]\n",
      "[cp 1][6 1][0.102919318 1.73611784 0.322221309 1.170928 1.170928 0.458130032 0.322221309 0.458130032 0.310647964 0.240393117][0.101951815 0.126446217 0.272167563 -0.438417077 0.0677203834 0.0774879605 0.296558499 0.114719346 0.204592675 -0.490816206]\n",
      "[cp 1][7 2][0.478377074 0.310647964 1.95485866 1.66189981 1.95659018 1.51518977 0.088995412 1.95659018 1.170928 0.102919318][0.15549992 0.078019 0.216452181 -0.472869903 0.0904910788 0.111008123 0.24006775 0.188506484 -0.0054531917 -0.260124266]\n",
      "[cp 1][6 2][0.1118977 0.0783755854 1.66189981 1.51518977 1.73611784 1.95659018 1.95659018 1.73611784 0.088995412 1.73611784][-0.168823749 0.105522037 0.250313163 -0.444170982 -0.00852915645 0.104367286 0.199342787 0.141007707 0.000493347645 -0.150797158]\n",
      "[cp 1][8 6][0.393164724 0.0783755854 0.1118977 0.310647964 0.1118977 0.0783755854 1.170928 0.1118977 0.478377074 1.170928][0.00562515901 0.105522037 0.0957977921 -0.460542709 -0.000274002552 0.129518494 0.227691874 0.130164459 0.203327537 -0.411918879]\n",
      "[cp 1][7 6][1.73611784 1.52941525 0.0783755854 0.393164724 0.276365906 0.276365906 0.240393117 1.52941525 0.458130032 0.964719832][-0.125699908 -0.0123929679 0.222417623 -0.394222 0.0283205695 0.0935540125 0.187485456 0.241526112 -0.0582167 -0.412888259]\n",
      "[cp 1][6 2][1.51518977 1.52941525 1.51518977 0.478377074 0.0783755854 1.95659018 0.322221309 0.393164724 0.478377074 1.95659018][0.0101614073 -0.0123929679 0.309985757 -0.39905861 0.101170622 0.112451494 0.287401259 0.138301402 0.214928403 -0.297861904]\n",
      "[cp 1][7 6][0.458130032 0.276365906 0.478377074 0.322221309 0.192196816 0.192196816 0.964719832 0.310647964 0.393164724 1.52941525][-0.0533201247 0.0785153657 0.210152507 -0.422570139 0.113031633 -0.0425945595 0.189194962 0.287868828 0.18860212 -0.13093026]\n",
      "[cp 1][6 2][1.66189981 0.0783755854 0.322221309 1.7580657 0.322221309 1.7580657 1.95485866 1.73611784 0.393164724 0.0783755854][0.0221817344 0.0948315263 0.239797026 -0.478492737 0.116762102 0.0958736837 0.270568877 0.159234971 0.18860212 -0.373355955]\n",
      "[cp 1][7 2][0.088995412 1.66189981 0.964719832 0.240393117 0.310647964 0.088995412 0.240393117 1.58570206 1.66189981 0.240393117][-0.101442322 0.0731540173 0.203685835 -0.479941428 0.175828323 0.0381147638 0.189456865 0.224477693 0.0308516026 -0.4676103]\n",
      "[cp 1][7 6][0.240393117 1.95424736 0.0783755854 0.393164724 0.102919318 0.393164724 0.964719832 0.458130032 0.1118977 1.73611784][-0.0136349099 -0.0314651132 0.206405804 -0.397357345 -0.0519078895 0.111416176 0.187569708 0.148963064 -0.0184645951 -0.12643528]\n",
      "[cp 1][7 6][1.63719487 0.478377074 0.310647964 0.240393117 0.322221309 0.310647964 1.63719487 0.964719832 0.964719832 0.102919318][-0.00193587691 0.0880718157 0.249441609 -0.482590109 0.110884316 -0.00883903 0.22746405 0.202911049 0.0172204301 -0.238398254]\n",
      "[cp 1][6 4][1.33482075 0.128294989 0.0402150936 0.187881023 1.33482075 1.17302585 0.187881023 1.15189302 0.63713789 0.128294989][0.0827902108 0.456723124 0.217860878 0.300592 0.135472059 0.0571225584 0.344472438 0.109009162 0.0952252597 0.0745334402]\n",
      "[cp 1][6 3][1.13320291 0.128294989 0.530779 1.17302585 1.43265438 0.530779 0.635966361 0.63713789 1.17302585 1.65788007][0.169158027 0.468115956 0.179038763 0.457071751 0.0619050674 -0.00799207389 0.318071425 0.179690033 0.00531003624 0.075269416]\n",
      "[cp 1][6 1][0.530779 1.20208168 1.17302585 0.63713789 0.530779 1.15189302 1.20208168 1.43265438 0.578812182 1.3849442][-0.0102754533 0.367136925 0.360802174 0.300675035 -0.0924757719 0.0938259959 0.37174508 0.250287205 -0.0278199222 0.124796785]\n",
      "[cp 1][6 1][1.43265438 1.01107967 0.63713789 0.635966361 0.187881023 1.04649615 0.635966361 0.26359573 1.01107967 0.635966361][0.047404103 0.365147382 0.185087577 0.317422718 -0.0592398122 0.0429753959 0.319295704 0.227719575 -0.123037919 0.0827887282]\n",
      "[cp 1][3 1][1.43265438 0.530779 0.0402150936 1.85859239 0.128294989 1.01107967 0.128294989 1.17302585 1.3849442 1.17302585][0.047404103 0.54355818 0.27141571 0.331523895 0.0643148571 0.100535758 0.32597959 0.261452764 -0.0387305655 0.101353511]\n",
      "[cp 1][6 1][1.3849442 1.04649615 1.15189302 0.26359573 1.04649615 0.530779 1.65788007 0.00939095207 0.82852596 1.3849442][0.117474213 0.403505892 0.330395758 0.416707367 0.0190619733 0.000451914966 0.31198743 0.100329958 0.108376488 0.115959026]\n",
      "[cp 1][3 1][1.15189302 1.01107967 0.26359573 0.578812182 1.01107967 0.00939095207 0.0402150936 0.82852596 1.43265438 1.17302585][0.0402230024 0.365147382 0.186869934 0.349813908 0.122127101 0.0213408098 0.2280211 0.253547 -0.02519162 0.101353511]\n",
      "[cp 1][3 1][1.04649615 1.3849442 0.26359573 0.128294989 1.01107967 1.13320291 0.00939095207 1.3849442 1.65788007 1.85859239][0.0216692537 0.407879442 0.186869934 0.314772844 0.122127101 0.0656209439 0.323825687 0.0416557193 -0.0247837435 0.109805122]\n",
      "[cp 1][2 1][0.63713789 0.366382718 1.43265438 0.128294989 0.578812182 0.82852596 0.187881023 1.15189302 0.635966361 1.85859239][0.0786118358 0.507493258 0.177799806 0.314772844 0.0250680633 0.0783732682 0.342362672 0.0933844298 -0.112839244 0.109805122]\n",
      "[cp 1][5 1][1.01107967 0.26359573 0.187881023 0.187881023 1.43265438 1.3849442 0.0402150936 0.186823979 1.3849442 1.13320291][0.11317338 0.516537428 0.135396555 0.263826489 0.0415542424 0.107524119 0.233557805 0.207663745 -0.06184984 0.0107515901]\n",
      "[cp 1][6 3][0.128294989 0.00939095207 0.26359573 1.65788007 1.15189302 0.530779 1.15189302 1.01107967 0.187881023 1.15189302][0.139634684 0.548085451 0.176567882 0.308323443 0.0364201516 0.00487044454 0.306832552 0.178857327 -0.159624785 -0.0412858054]\n",
      "[cp 1][6 1][0.530779 1.15189302 0.578812182 0.186823979 0.00939095207 0.186823979 0.530779 0.00939095207 0.578812182 1.85859239][0.0306546427 0.461560577 0.229517117 0.312311202 0.0935675651 0.0715822726 0.384144545 0.115647584 -0.0820168778 0.0924651399]\n",
      "[cp 1][3 1][0.0402150936 1.17302585 0.128294989 1.69299388 0.26359573 1.13320291 1.04649615 0.63713789 0.187881023 1.13320291][0.177714497 0.523691535 0.342138261 0.308146954 0.113265544 0.0650676563 0.26388365 0.19976382 -0.160253182 -0.000734647736]\n",
      "[cp 1][6 3][0.26359573 0.00939095207 0.530779 1.85859239 0.0402150936 0.187881023 1.85859239 0.635966361 1.15189302 1.04649615][0.120467186 0.550948381 0.199672595 0.315462738 0.152649328 0.0873544961 0.430290252 0.191808134 -0.27494064 0.15577063]\n",
      "[cp 1][6 3][0.0402150936 0.00939095207 0.635966361 0.63713789 1.86459124 1.27145612 1.86459124 1.13320291 0.0402150936 1.13320291][0.177815229 0.551617503 0.238185406 0.269879222 0.23017782 0.103338167 0.430173457 0.174855858 -0.12171565 -0.000388515182]\n",
      "[cp 1][6 1][1.17302585 1.01107967 1.04649615 0.26359573 1.17302585 1.01107967 1.87009192 0.00939095207 0.128294989 1.15189302][0.109607369 0.358974606 0.328451902 0.403184801 0.0983578 0.122465901 0.430066377 0.115566522 -0.153288528 -0.0400244407]\n",
      "[cp 1][1 0][1.69299388 0.578812182 0.186823979 0.635966361 1.15189302 1.87009192 0.578812182 0.578812182 0.0402150936 0.00939095207][0.236128777 0.520479739 0.411392808 0.298932552 0.0363360234 0.0310492069 0.271985531 0.0675359666 -0.121541522 0.091707848]\n",
      "[cp 1][6 2][0.635966361 0.187881023 1.87009192 1.69299388 0.00939095207 0.186823979 0.82852596 0.82852596 0.63713789 0.187881023][0.110685557 0.684492826 0.309942871 0.309088767 0.0930165 0.0712790638 0.472817868 0.27653107 0.0253711138 -0.128844514]\n",
      "[cp 1][3 1][0.635966361 1.43265438 1.13320291 1.69299388 0.26359573 0.63713789 0.128294989 0.82852596 0.635966361 0.530779][0.110685557 0.459098667 0.242505655 0.309088767 0.111731768 0.18994996 0.33863765 0.27653107 -0.147966638 0.0635377318]\n",
      "[cp 1][6 2][1.01107967 0.128294989 0.82852596 0.63713789 1.27145612 0.26359573 1.15189302 0.578812182 0.530779 1.01107967][0.107510313 0.491121054 0.291535348 0.26950255 0.0118530951 0.0734901726 0.302250922 0.0607131161 -0.213466823 0.102096759]\n",
      "[cp 1][3 1][1.13320291 1.69299388 0.578812182 1.15189302 1.52921867 1.01107967 0.635966361 0.26359573 0.578812182 0.82852596][0.193306923 0.496566027 0.238101 0.300964683 0.0317803696 0.116757609 0.318176925 0.242224813 -0.0794939548 0.00509319827]\n",
      "[cp 1][3 1][1.17302585 0.578812182 0.186823979 1.87009192 1.72126973 0.128294989 1.27145612 0.0402150936 1.87009192 1.17302585][0.107774124 0.531719446 0.420496285 0.311353952 0.119876429 0.195840389 0.248299792 0.214630887 -0.212078556 0.076972127]\n",
      "[cp 1][6 1][0.635966361 1.52921867 0.530779 0.128294989 0.530779 0.82852596 1.87009192 1.04649615 1.17302585 0.578812182][0.111111991 0.469804585 0.20452866 0.302913815 -0.0864403248 0.0806153715 0.419726878 0.105780862 -0.0552794859 0.0275495648]\n",
      "[cp 1][6 3][1.8650291 0.186823979 1.72126973 1.17302585 1.72126973 0.0402150936 0.635966361 0.82852596 1.01107967 0.26359573][0.0652726889 0.506049573 0.130324706 0.43334204 0.120327033 -0.0484675169 0.318781 0.260188252 -0.131104201 -0.00788910687]\n",
      "[cp 1][3 1][1.13320291 0.63713789 0.578812182 1.72126973 1.01107967 1.01107967 1.15189302 1.15189302 1.17302585 0.187881023][0.192030475 0.420476735 0.23768346 0.3072294 0.12319342 0.117186658 0.303866953 0.1111921 -0.0552365407 -0.134353608]\n",
      "[cp 1][7 1][0.63713789 1.15189302 0.63713789 0.26359573 1.17302585 1.15189302 0.00939095207 1.8650291 0.635966361 1.04649615][0.0983647555 0.473929077 0.201531962 0.401530415 0.0883244351 0.110605851 0.329097331 0.241412878 -0.153076053 0.156173483]\n",
      "[cp 1][2 1][0.635966361 1.8650291 1.17302585 0.82852596 1.74457693 0.635966361 0.936107337 1.27145612 1.74457693 1.04649615][0.109183073 0.519235134 0.414001495 0.303531349 0.145354539 -0.0193678662 0.306103706 0.0765566453 -0.0464598462 0.132784858]\n",
      "[cp 1][2 1][0.635966361 1.37819171 1.8650291 0.187881023 0.187881023 1.74457693 0.63713789 1.74457693 1.52921867 1.8650291][0.119308576 0.535738468 0.319301039 0.239466161 -0.0370492041 0.0734601617 0.335787356 0.236432806 -0.0569134466 0.0919130147]\n",
      "[cp 1][6 2][0.63713789 0.00939095207 0.936107337 0.530779 0.26359573 0.186823979 0.936107337 1.37819171 0.530779 1.37819171][0.0984131396 0.563698411 0.343740523 0.244135559 0.11750225 0.0561919957 0.308891535 0.251078963 -0.203264102 0.0531471707]\n",
      "[cp 1][6 3][0.530779 0.187881023 0.187881023 1.04649615 0.187881023 1.74457693 1.52921867 1.27145612 1.8650291 1.52921867][0.0554114729 0.718126357 0.135197863 0.313720167 -0.0370492041 0.0734601617 0.324294835 0.064720504 -0.218272388 -0.0775137842]\n",
      "[cp 1][3 1][1.8650291 1.13320291 0.00939095207 1.8650291 1.37819171 1.8650291 1.13320291 1.37819171 1.04649615 0.936107337][0.0747985691 0.468274534 0.132414639 0.287976891 0.0931258425 0.0202900097 0.287514895 0.251078963 -0.0541175827 -0.0346627533]\n",
      "[cp 1][2 1][0.578812182 0.186823979 0.635966361 0.26359573 0.63713789 1.37819171 0.187881023 0.635966361 0.635966361 0.26359573][0.172366783 0.505417585 0.239007473 0.375440031 -0.013289677 0.0820860565 0.338329643 0.169685096 -0.139950424 -0.00651292875]\n",
      "[cp 1][3 1][0.128294989 1.01107967 1.74457693 1.13320291 1.27145612 0.530779 0.530779 0.530779 0.530779 0.00939095207][0.15655458 0.364614546 0.11611145 0.281295627 0.0340304524 -0.0190705582 0.373911172 0.108342007 -0.203264102 0.0851853117]\n",
      "[cp 1][6 1][0.578812182 0.63713789 0.187881023 0.635966361 0.186823979 1.74457693 1.13320291 0.530779 1.13320291 1.8650291][0.172366783 0.444203645 0.135197863 0.279471636 0.0784908906 0.0734601617 0.287514895 0.108342007 0.023096092 0.0919130147]\n",
      "[cp 1][3 2][0.82852596 0.186823979 1.04649615 0.635966361 1.74457693 0.63713789 0.0402150936 1.27145612 0.00939095207 0.128294989][0.102176659 0.497019142 0.325264513 0.275001913 0.121200204 0.200495914 0.217773482 0.0609301738 -0.0609455779 0.0165219251]\n",
      "[cp 1][2 1][0.128294989 1.01107967 0.82852596 0.82852596 0.82852596 0.63713789 1.04649615 0.530779 0.936107337 1.74457693][0.158422843 0.359775841 0.305409908 0.283187866 -0.0177810341 0.200495914 0.235201135 0.111484274 -0.283366472 0.0233382918]\n",
      "[cp 1][7 1][0.635966361 1.35860407 0.186823979 0.186823979 1.74457693 1.8650291 0.186823979 1.52921867 0.186823979 0.63713789][0.118033543 0.465790391 0.426764965 0.265327156 0.121200204 0.0364575237 0.329171717 0.265904129 -0.0365892611 0.174914643]\n",
      "[cp 1][6 1][0.186823979 0.578812182 1.52921867 0.186823979 1.37819171 0.187881023 0.82852596 0.530779 0.530779 1.48202074][0.178341329 0.532365799 0.159924075 0.259492606 0.0912922621 0.106623732 0.463366449 0.113752306 -0.217544809 -0.0281597581]\n"
     ]
    },
    {
     "name": "stdout",
     "output_type": "stream",
     "text": [
      "INFO:tensorflow:eval_file: ./results/decomp_q/eval_5/returns_802\n"
     ]
    },
    {
     "name": "stderr",
     "output_type": "stream",
     "text": [
      "[cp 1][3 2][1.74457693 0.0402150936 0.936107337 1.8650291 1.52921867 1.48202074 0.187881023 1.52921867 0.82852596 0.825592458][0.232620925 0.4253892 0.362882555 0.290450841 0.0273275562 0.102936588 0.329853654 0.254508406 0.144628838 0.00338462]\n",
      "[cp 1][6 1][0.63713789 1.48202074 0.0402150936 0.128294989 0.186823979 0.0402150936 1.74457693 0.187881023 1.01107967 0.00939095207][0.0984796 0.460420907 0.308429211 0.298807085 0.0349685512 -0.0107564852 0.303230911 0.254721195 -0.133930087 0.0808737054]\n",
      "[cp 1][5 1][1.52921867 0.26359573 0.0402150936 0.187881023 0.00939095207 0.936107337 0.128294989 0.825592458 1.27145612 1.56251144][0.0599173158 0.565136671 0.315282583 0.217822775 0.09115237 0.171846896 0.328931779 0.0333474278 -0.0650730133 -0.0270772129]\n",
      "[cp 1][3 1][0.825592458 0.26359573 0.825592458 0.82852596 1.04649615 0.82852596 1.04649615 0.0402150936 0.187881023 0.530779][0.200543702 0.53611052 0.254159212 0.31185469 -0.0231902245 0.139897883 0.21708706 0.214204341 -0.0934378654 0.0592577048]\n",
      "[cp 1][2 1][1.27145612 0.82852596 1.23488271 0.825592458 0.635966361 0.186823979 0.187881023 0.82852596 1.74457693 0.530779][0.126928091 0.479433477 0.353668123 0.289548665 -0.110036351 0.129367068 0.335176915 0.263317674 -0.0112513127 0.0592577048]\n",
      "[cp 1][2 1][1.27145612 1.27145612 1.37819171 0.63713789 1.04649615 1.27145612 1.01107967 0.0402150936 1.52921867 0.187881023][0.126967922 0.355791152 0.332040131 0.230128512 0.00119681284 0.125825912 0.330746353 0.236082494 -0.0243925285 -0.128046587]\n",
      "[cp 1][7 5][0.530779 0.186823979 0.635966361 0.186823979 1.27145612 1.23488271 0.0402150936 1.37819171 0.825592458 1.01107967][0.0393920019 0.42327404 0.236589104 0.247141615 -0.00725187454 0.187316895 0.212187722 0.237891704 0.0386649892 0.124671578]\n",
      "[cp 1][3 1][1.87049425 1.87049425 0.00939095207 0.63713789 0.187881023 0.530779 0.00939095207 1.56251144 1.04649615 0.635966361][0.0900241882 0.448981047 0.110232502 0.226909488 -0.0936611742 0.0506836623 0.296961427 0.123022616 -0.0323951095 0.00527242]\n",
      "[cp 1][2 1][0.186823979 1.23488271 1.23488271 1.04649615 1.87049425 1.49418545 1.52921867 0.825592458 0.530779 0.537347][0.149726421 0.426166773 0.32815972 0.260623306 0.182103723 0.12708056 0.284034729 0.0292033367 -0.188930035 -0.011287896]\n",
      "[cp 1][6 3][0.530779 0.537347 0.187881023 1.49418545 1.87049425 0.63713789 1.01107967 1.04649615 0.128294989 1.52921867][0.0311171636 0.426995754 0.121477209 0.391669273 0.152243182 0.227324367 0.329490721 0.100248046 -0.136713549 -0.0473425202]\n",
      "[cp 1][7 5][0.0402150936 0.186823979 0.187881023 0.0402150936 0.26359573 1.41050398 0.0402150936 1.52921867 1.49418545 0.537347][0.189038798 0.398556054 0.13357684 0.359084368 0.0449288487 0.203833714 0.211337298 0.220479324 -0.125879914 -0.0476170965]\n",
      "[cp 1][3 1][0.530779 0.635966361 1.04649615 1.87049425 0.186823979 0.128294989 0.537347 1.27145612 0.128294989 1.52921867][0.0693071634 0.472146034 0.304866731 0.263132304 0.012203455 0.242518529 0.432655454 0.0281907432 -0.192071646 -0.0804732]\n",
      "[cp 1][6 5][1.41050398 0.00939095207 0.0402150936 0.00939095207 0.186823979 0.717690647 1.74457693 0.186823979 0.717690647 0.825592458][0.0345519409 0.485681981 0.310790747 0.313903302 0.0120306164 0.180909753 0.269856453 0.176252604 -0.1990861 -0.0311719496]\n",
      "[cp 1][6 3][0.26359573 0.186823979 1.27145612 0.825592458 1.52921867 0.26359573 1.74457693 0.825592458 0.537347 0.26359573][0.15116398 0.399361819 0.123007879 0.256738156 -0.0148268305 0.147103161 0.269856453 -0.00758599117 0.0359715037 -0.0363012329]\n",
      "[cp 1][2 1][0.635966361 0.63713789 0.717690647 0.128294989 0.128294989 0.530779 0.128294989 0.26359573 0.537347 0.825592458][0.134069234 0.367165118 0.244501963 0.272248238 0.00465118699 0.0626406893 0.329940975 0.166018441 0.0359715037 -0.0311719496]\n",
      "[cp 1][3 2][0.00939095207 0.00939095207 1.49418545 1.74457693 0.635966361 0.717690647 0.530779 1.04649615 1.74457693 1.74457693][0.103361256 0.485681981 0.351889431 0.223904654 -0.109549321 0.180909753 0.335495979 0.0878842846 -0.0437367782 -0.00936891232]\n",
      "[cp 1][6 1][0.635966361 1.27145612 0.530779 1.27145612 1.27145612 1.87552571 0.530779 0.63713789 0.187881023 0.825592458][0.133166492 0.360796243 0.240764886 0.16632624 -0.0585428588 0.0490221083 0.335792392 0.131100982 -0.135477766 -0.0295998827]\n",
      "[cp 1][6 3][0.00939095207 0.187881023 0.717690647 1.52921867 0.128294989 1.87552571 0.717690647 1.49418545 0.26359573 1.41050398][0.101461098 0.678995132 0.244436309 0.322057873 0.00488601811 0.0490221083 0.33165589 0.176118284 -0.131190985 -0.083291471]\n",
      "[cp 1][2 1][1.49418545 1.04649615 1.04649615 0.186823979 0.63713789 0.63713789 0.26359573 0.128294989 0.717690647 1.87552571][0.120490752 0.35955 0.30910942 0.21873045 -0.055551976 0.222157151 0.241535 0.113794275 -0.189678624 0.0386888608]\n",
      "[cp 1][2 1][0.63713789 0.63713789 1.87552571 0.717690647 0.00939095207 1.76414919 0.825592458 1.04649615 0.128294989 0.635966361][0.146567121 0.376627624 0.28025052 0.222093135 0.058032386 0.152117267 0.233665541 0.0830322504 -0.189983189 -0.0291663483]\n",
      "[cp 1][2 1][0.537347 1.56251144 1.49418545 0.26359573 0.00939095207 1.56251144 0.187881023 1.56251144 0.635966361 1.88017392][0.0986017063 0.384067446 0.355664283 0.317234814 0.0577212609 0.114637233 0.331867129 0.092272304 -0.165650472 0.03863471]\n",
      "[cp 1][5 1][1.04649615 1.27145612 0.717690647 0.0402150936 0.128294989 1.5957092 0.63713789 1.04649615 1.04649615 0.717690647][0.0849993825 0.366184682 0.249164164 0.35626781 -0.0036052037 0.257182717 0.286155969 0.085619688 -0.0721715689 0.0975490957]\n",
      "[cp 1][2 1][0.63713789 0.530779 1.88017392 1.76414919 0.128294989 0.717690647 0.128294989 0.530779 0.0402150936 0.187881023][0.147936493 0.466812253 0.287192613 0.21415779 -0.00850882567 0.180597439 0.32298255 0.0741158798 -0.0727150738 -0.144096941]\n",
      "[cp 1][6 1][0.26359573 0.537347 0.00939095207 1.04649615 0.530779 0.537347 1.49418545 0.187881023 0.00939095207 0.825592458][0.163983911 0.447875977 0.161281541 0.227714077 -0.106532805 0.154385224 0.354563087 0.180475086 -0.139236286 -0.0421832204]\n",
      "[cp 1][6 1][1.27145612 1.41050398 0.187881023 0.530779 1.76414919 0.26359573 0.301561326 0.530779 0.26359573 0.717690647][0.152712256 0.410484046 0.141488552 0.134514 0.0537574776 0.151775509 0.40554291 0.0690690577 -0.122616135 0.0816357806]\n",
      "[cp 1][7 3][1.27145612 0.186823979 0.186823979 1.04649615 0.530779 1.49418545 0.00939095207 1.76414919 0.0402150936 0.26359573][0.150579438 0.365171015 0.472893447 0.215102166 -0.0894411057 0.139129505 0.311973333 0.186283499 -0.0675822943 -0.0448603556]\n",
      "[cp 1][5 2][0.301561326 0.717690647 1.51475573 0.128294989 1.51475573 1.64474452 0.186823979 1.49418545 1.04649615 1.76414919][0.0803403556 0.282184422 0.367730737 0.265014082 -0.0455461256 0.250565767 0.293504208 0.162920877 -0.06671606 -0.0359159634]\n",
      "[cp 1][6 1][0.530779 0.825592458 0.301561326 1.04649615 0.717690647 1.51475573 1.88448131 0.186823979 0.530779 1.61993027][0.071191445 0.421386361 0.302832037 0.215102166 0.0941873789 0.205524057 0.367298037 0.173716918 -0.220064357 -0.0520999059]\n",
      "[cp 1][2 1][0.825592458 1.64474452 1.49418545 0.63713789 1.04649615 1.61993027 0.0402150936 0.26359573 0.63713789 1.76414919][0.238723606 0.318188518 0.344011217 0.213094279 -0.0126318038 0.114651933 0.210340053 0.160088107 -0.0184354857 -0.0359159634]\n",
      "[cp 1][2 1][1.04649615 1.51475573 1.61993027 0.825592458 1.51475573 0.635966361 0.00939095207 1.76414919 0.128294989 1.61993027][0.106014267 0.408502132 0.218139067 0.240375072 -0.0499821119 0.017898947 0.310677201 0.17801857 -0.181344673 -0.0470886827]\n",
      "[cp 1][6 1][0.26359573 1.61993027 0.825592458 1.04649615 0.63713789 1.58539426 1.58539426 1.76414919 1.76414919 1.76414919][0.146139279 0.34286052 0.237107098 0.208984077 -0.0428878143 0.204186052 0.241116419 0.174553961 -0.0231244825 -0.030919103]\n",
      "[cp 1][6 1][0.717690647 0.301561326 1.64474452 0.00939095207 0.00939095207 1.61993027 1.76414919 1.04649615 1.61993027 1.76414919][0.135035634 0.411114573 0.133470029 0.294098705 0.0609629862 0.113389097 0.257577538 0.0826165155 -0.0537467487 -0.0342482254]\n",
      "[cp 1][6 2][0.635966361 0.186823979 1.5709399 0.26359573 0.186823979 0.187881023 0.825592458 0.301561326 1.04649615 1.88448131][0.13580218 0.363121688 0.339044183 0.281614512 -0.00304301083 0.20763348 0.226571396 0.235510871 -0.07440532 0.0421392843]\n",
      "[cp 1][6 1][0.187881023 0.530779 0.63713789 0.63713789 1.78083682 0.635966361 1.88448131 0.301561326 0.128294989 1.04649615][0.113489941 0.44105044 0.198093757 0.211738467 0.036174573 0.0177161619 0.371443391 0.235510871 -0.181442291 0.150863469]\n",
      "[cp 1][2 1][1.88448131 1.88448131 1.61993027 1.53382492 1.88448131 0.186823979 0.0402150936 0.128294989 1.04649615 0.26359573][0.108662248 0.421456277 0.218030468 0.198780373 0.142346352 0.146061122 0.21259062 0.109170407 -0.07440532 -0.0387667492]\n",
      "[cp 1][6 3][1.64474452 0.128294989 0.128294989 1.04649615 0.26359573 1.04649615 0.301561326 1.88848472 1.53382492 1.53382492][0.0944304392 0.366986722 0.35473147 0.209335506 0.0516271591 0.124103248 0.407034159 0.137637824 -0.307096332 -0.112319671]\n",
      "[cp 1][3 1][0.63713789 1.5709399 0.63713789 1.64474452 0.825592458 0.635966361 1.61993027 1.53382492 0.301561326 1.53382492][0.145257324 0.435271829 0.17631647 0.281774133 -0.0508896112 0.0106360242 0.253249913 0.112601139 0.0223103911 -0.0890129805]\n",
      "[cp 1][6 1][1.61993027 0.825592458 1.78083682 0.717690647 0.0402150936 0.00939095207 1.64474452 0.717690647 1.61993027 0.635966361][0.271243721 0.417207658 0.120209463 0.195164785 0.0192678031 0.0924980193 0.287453443 0.119808219 -0.0680755228 -0.0463742055]\n",
      "[cp 1][7 1][0.63713789 0.26359573 1.78083682 0.0402150936 0.63713789 0.00939095207 0.00939095207 1.78083682 1.88848472 1.27145612][0.145500407 0.473534197 0.116107188 0.325242251 -0.0646667182 0.0949631557 0.305498749 0.203788951 -0.259429693 0.0817240328]\n",
      "[cp 1][6 1][1.31924701 1.88848472 0.187881023 0.0402150936 1.78083682 0.186823979 1.53382492 1.27145612 0.635966361 0.126283109][0.114465073 0.394509852 0.139549047 0.334096909 0.0206276421 0.134334952 0.242397293 0.040221177 -0.156698167 -0.00686666835]\n",
      "INFO:tensorflow:eval_file: ./results/decomp_q/eval_5/returns_802\n"
     ]
    }
   ],
   "source": [
    "\n",
    "\n",
    "# evaluating\n",
    "\n",
    "runner = runner_lib.EvalRunner(\n",
    "      base_dir=tmp_decomp_q_dir,\n",
    "      create_agent_fn=create_decomp_q_agent,\n",
    "      env=interest_evolution.create_environment(env_config),\n",
    "      max_eval_episodes=5,\n",
    "      test_mode=True)\n",
    "runner.run_experiment()\n",
    "     \n"
   ]
  },
  {
   "cell_type": "code",
   "execution_count": 8,
   "metadata": {},
   "outputs": [
    {
     "data": {
      "text/plain": [
       "ERROR: Timed out waiting for TensorBoard to start. It may still be running as pid 125921."
      ]
     },
     "metadata": {},
     "output_type": "display_data"
    },
    {
     "data": {
      "text/plain": [
       "ERROR: Timed out waiting for TensorBoard to start. It may still be running as pid 125947."
      ]
     },
     "metadata": {},
     "output_type": "display_data"
    }
   ],
   "source": [
    "%load_ext tensorboard\n",
    "%tensorboard --logdir=./results/fullslate_q/ --port=8001\n",
    "%tensorboard --logdir=./results/decomp_q/  --port=8002"
   ]
  }
 ],
 "metadata": {
  "colab": {
   "provenance": []
  },
  "kernelspec": {
   "display_name": "Python 3 (ipykernel)",
   "language": "python",
   "name": "python3"
  },
  "language_info": {
   "codemirror_mode": {
    "name": "ipython",
    "version": 3
   },
   "file_extension": ".py",
   "mimetype": "text/x-python",
   "name": "python",
   "nbconvert_exporter": "python",
   "pygments_lexer": "ipython3",
   "version": "3.8.10"
  }
 },
 "nbformat": 4,
 "nbformat_minor": 1
}
