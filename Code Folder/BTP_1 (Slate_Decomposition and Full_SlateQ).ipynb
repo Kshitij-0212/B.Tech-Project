{
 "cells": [
  {
   "cell_type": "code",
   "execution_count": 1,
   "metadata": {
    "id": "iZaQZGB2Y8F3"
   },
   "outputs": [
    {
     "name": "stderr",
     "output_type": "stream",
     "text": [
      "2023-04-17 18:01:07.000686: I tensorflow/core/platform/cpu_feature_guard.cc:193] This TensorFlow binary is optimized with oneAPI Deep Neural Network Library (oneDNN) to use the following CPU instructions in performance-critical operations:  AVX2 FMA\n",
      "To enable them in other operations, rebuild TensorFlow with the appropriate compiler flags.\n",
      "2023-04-17 18:01:07.151181: W tensorflow/compiler/xla/stream_executor/platform/default/dso_loader.cc:64] Could not load dynamic library 'libcudart.so.11.0'; dlerror: libcudart.so.11.0: cannot open shared object file: No such file or directory\n",
      "2023-04-17 18:01:07.151209: I tensorflow/compiler/xla/stream_executor/cuda/cudart_stub.cc:29] Ignore above cudart dlerror if you do not have a GPU set up on your machine.\n",
      "2023-04-17 18:01:07.987472: W tensorflow/compiler/xla/stream_executor/platform/default/dso_loader.cc:64] Could not load dynamic library 'libnvinfer.so.7'; dlerror: libnvinfer.so.7: cannot open shared object file: No such file or directory\n",
      "2023-04-17 18:01:07.987548: W tensorflow/compiler/xla/stream_executor/platform/default/dso_loader.cc:64] Could not load dynamic library 'libnvinfer_plugin.so.7'; dlerror: libnvinfer_plugin.so.7: cannot open shared object file: No such file or directory\n",
      "2023-04-17 18:01:07.987558: W tensorflow/compiler/tf2tensorrt/utils/py_utils.cc:38] TF-TRT Warning: Cannot dlopen some TensorRT libraries. If you would like to use Nvidia GPU with TensorRT, please make sure the missing libraries mentioned above are installed properly.\n",
      "/usr/lib/python3/dist-packages/requests/__init__.py:89: RequestsDependencyWarning: urllib3 (1.26.12) or chardet (3.0.4) doesn't match a supported version!\n",
      "  warnings.warn(\"urllib3 ({}) or chardet ({}) doesn't match a supported \"\n"
     ]
    },
    {
     "name": "stdout",
     "output_type": "stream",
     "text": [
      "WARNING:tensorflow:From /home/kshitij/.local/lib/python3.8/site-packages/tensorflow/python/compat/v2_compat.py:107: disable_resource_variables (from tensorflow.python.ops.variable_scope) is deprecated and will be removed in a future version.\n",
      "Instructions for updating:\n",
      "non-resource variables are not supported in the long term\n"
     ]
    }
   ],
   "source": [
    "import numpy as np\n",
    "import tensorflow.compat.v1 as tf \n",
    "import recsim\n",
    "tf.disable_v2_behavior()          \n",
    "\n",
    "from recsim.environments import interest_evolution\n",
    "from recsim.agents import full_slate_q_agent, slate_decomp_q_agent\n",
    "from recsim.simulator import runner_lib"
   ]
  },
  {
   "cell_type": "code",
   "execution_count": 2,
   "metadata": {
    "id": "4AUL1O7WZPv_"
   },
   "outputs": [],
   "source": [
    "# Declare standard Full Slate Q-Agent and SlateQ agent\n",
    "\n",
    "def create_q_agent(sess, environment, eval_mode, summary_writer=None):\n",
    "    \"\"\"\n",
    "    Standard, non-decomposed Q-learning\n",
    "    \"\"\"\n",
    "    kwargs = {\n",
    "      'observation_space': environment.observation_space,\n",
    "      'action_space': environment.action_space,\n",
    "      'summary_writer': summary_writer,\n",
    "      'eval_mode': eval_mode,\n",
    "    }\n",
    "    return full_slate_q_agent.FullSlateQAgent(sess, **kwargs)\n",
    "\n",
    "\n",
    "\n",
    "def create_decomp_q_agent(sess, environment, eval_mode, summary_writer=None):\n",
    "    \"\"\"\n",
    "    This is one variant of the agent featured in SlateQ paper\n",
    "    \"\"\"\n",
    "    kwargs = {\n",
    "      'observation_space': environment.observation_space,\n",
    "      'action_space': environment.action_space,\n",
    "      'summary_writer': summary_writer,\n",
    "      'eval_mode': eval_mode,\n",
    "    }\n",
    "    return slate_decomp_q_agent.create_agent(agent_name= 'slate_optimal_optimal_q', sess=sess, **kwargs)"
   ]
  },
  {
   "cell_type": "code",
   "execution_count": 3,
   "metadata": {
    "id": "2J8uWTkMZfQC"
   },
   "outputs": [],
   "source": [
    "# environment config\n",
    "\n",
    "seed = 0\n",
    "np.random.seed(seed)\n",
    "env_config = {\n",
    "  'num_candidates': 10,\n",
    "  'slate_size': 2,\n",
    "  'resample_documents': True,\n",
    "  'seed': seed,\n",
    "  }"
   ]
  },
  {
   "cell_type": "code",
   "execution_count": 4,
   "metadata": {
    "id": "1So1ZpVTZiwM",
    "scrolled": true
   },
   "outputs": [
    {
     "name": "stdout",
     "output_type": "stream",
     "text": [
      "INFO:tensorflow:max_training_steps = 50, number_iterations = 10,checkpoint frequency = 1 iterations.\n"
     ]
    },
    {
     "name": "stderr",
     "output_type": "stream",
     "text": [
      "INFO:tensorflow:max_training_steps = 50, number_iterations = 10,checkpoint frequency = 1 iterations.\n"
     ]
    },
    {
     "name": "stdout",
     "output_type": "stream",
     "text": [
      "INFO:tensorflow:max_steps_per_episode = 27000\n"
     ]
    },
    {
     "name": "stderr",
     "output_type": "stream",
     "text": [
      "INFO:tensorflow:max_steps_per_episode = 27000\n",
      "2023-04-17 18:01:19.194437: I tensorflow/core/platform/cpu_feature_guard.cc:193] This TensorFlow binary is optimized with oneAPI Deep Neural Network Library (oneDNN) to use the following CPU instructions in performance-critical operations:  AVX2 FMA\n",
      "To enable them in other operations, rebuild TensorFlow with the appropriate compiler flags.\n",
      "2023-04-17 18:01:19.245654: E tensorflow/compiler/xla/stream_executor/cuda/cuda_driver.cc:267] failed call to cuInit: CUDA_ERROR_NO_DEVICE: no CUDA-capable device is detected\n",
      "2023-04-17 18:01:19.245703: I tensorflow/compiler/xla/stream_executor/cuda/cuda_diagnostics.cc:156] kernel driver does not appear to be running on this host (kshitij-Inspiron-5570): /proc/driver/nvidia/version does not exist\n"
     ]
    },
    {
     "name": "stdout",
     "output_type": "stream",
     "text": [
      "WARNING:tensorflow:From /home/kshitij/.local/lib/python3.8/site-packages/tensorflow/python/training/rmsprop.py:188: calling Ones.__init__ (from tensorflow.python.ops.init_ops) with dtype is deprecated and will be removed in a future version.\n",
      "Instructions for updating:\n",
      "Call initializer instance with the dtype argument instead of passing it to the constructor\n"
     ]
    },
    {
     "name": "stderr",
     "output_type": "stream",
     "text": [
      "WARNING:tensorflow:From /home/kshitij/.local/lib/python3.8/site-packages/tensorflow/python/training/rmsprop.py:188: calling Ones.__init__ (from tensorflow.python.ops.init_ops) with dtype is deprecated and will be removed in a future version.\n",
      "Instructions for updating:\n",
      "Call initializer instance with the dtype argument instead of passing it to the constructor\n",
      "2023-04-17 18:01:48.944639: I tensorflow/compiler/mlir/mlir_graph_optimization_pass.cc:357] MLIR V1 optimization pass is not enabled\n",
      "2023-04-17 18:01:58.434970: W tensorflow/c/c_api.cc:291] Operation '{name:'networks/network/Online_89/output/bias/RMSProp_2/Assign' id:34000 op device:{requested: '/device:CPU:*', assigned: ''} def:{{{node networks/network/Online_89/output/bias/RMSProp_2/Assign}} = AssignVariableOp[_has_manual_control_dependencies=true, dtype=DT_FLOAT, validate_shape=false, _device=\"/device:CPU:*\"](networks/network/Online_89/output/bias/RMSProp_2, networks/network/Online_89/output/bias/RMSProp_2/Initializer/zeros)}}' was changed by setting attribute after it was run by a session. This mutation will have no effect, and will trigger an error in the future. Either don't modify nodes after running them or create a new session.\n"
     ]
    },
    {
     "name": "stdout",
     "output_type": "stream",
     "text": [
      "INFO:tensorflow:Beginning training...\n"
     ]
    },
    {
     "name": "stderr",
     "output_type": "stream",
     "text": [
      "INFO:tensorflow:Beginning training...\n"
     ]
    },
    {
     "name": "stdout",
     "output_type": "stream",
     "text": [
      "INFO:tensorflow:Starting iteration 0\n"
     ]
    },
    {
     "name": "stderr",
     "output_type": "stream",
     "text": [
      "INFO:tensorflow:Starting iteration 0\n"
     ]
    },
    {
     "name": "stdout",
     "output_type": "stream",
     "text": [
      "INFO:tensorflow:Starting iteration 1\n"
     ]
    },
    {
     "name": "stderr",
     "output_type": "stream",
     "text": [
      "INFO:tensorflow:Starting iteration 1\n"
     ]
    },
    {
     "name": "stdout",
     "output_type": "stream",
     "text": [
      "INFO:tensorflow:Starting iteration 2\n"
     ]
    },
    {
     "name": "stderr",
     "output_type": "stream",
     "text": [
      "INFO:tensorflow:Starting iteration 2\n"
     ]
    },
    {
     "name": "stdout",
     "output_type": "stream",
     "text": [
      "INFO:tensorflow:Starting iteration 3\n"
     ]
    },
    {
     "name": "stderr",
     "output_type": "stream",
     "text": [
      "INFO:tensorflow:Starting iteration 3\n"
     ]
    },
    {
     "name": "stdout",
     "output_type": "stream",
     "text": [
      "INFO:tensorflow:Starting iteration 4\n"
     ]
    },
    {
     "name": "stderr",
     "output_type": "stream",
     "text": [
      "INFO:tensorflow:Starting iteration 4\n"
     ]
    },
    {
     "name": "stdout",
     "output_type": "stream",
     "text": [
      "WARNING:tensorflow:From /home/kshitij/.local/lib/python3.8/site-packages/tensorflow/python/training/saver.py:1064: remove_checkpoint (from tensorflow.python.checkpoint.checkpoint_management) is deprecated and will be removed in a future version.\n",
      "Instructions for updating:\n",
      "Use standard file APIs to delete files with this prefix.\n"
     ]
    },
    {
     "name": "stderr",
     "output_type": "stream",
     "text": [
      "WARNING:tensorflow:From /home/kshitij/.local/lib/python3.8/site-packages/tensorflow/python/training/saver.py:1064: remove_checkpoint (from tensorflow.python.checkpoint.checkpoint_management) is deprecated and will be removed in a future version.\n",
      "Instructions for updating:\n",
      "Use standard file APIs to delete files with this prefix.\n"
     ]
    },
    {
     "name": "stdout",
     "output_type": "stream",
     "text": [
      "INFO:tensorflow:Starting iteration 5\n"
     ]
    },
    {
     "name": "stderr",
     "output_type": "stream",
     "text": [
      "INFO:tensorflow:Starting iteration 5\n"
     ]
    },
    {
     "name": "stdout",
     "output_type": "stream",
     "text": [
      "INFO:tensorflow:Starting iteration 6\n"
     ]
    },
    {
     "name": "stderr",
     "output_type": "stream",
     "text": [
      "INFO:tensorflow:Starting iteration 6\n"
     ]
    },
    {
     "name": "stdout",
     "output_type": "stream",
     "text": [
      "INFO:tensorflow:Starting iteration 7\n"
     ]
    },
    {
     "name": "stderr",
     "output_type": "stream",
     "text": [
      "INFO:tensorflow:Starting iteration 7\n"
     ]
    },
    {
     "name": "stdout",
     "output_type": "stream",
     "text": [
      "INFO:tensorflow:Starting iteration 8\n"
     ]
    },
    {
     "name": "stderr",
     "output_type": "stream",
     "text": [
      "INFO:tensorflow:Starting iteration 8\n"
     ]
    },
    {
     "name": "stdout",
     "output_type": "stream",
     "text": [
      "INFO:tensorflow:Starting iteration 9\n"
     ]
    },
    {
     "name": "stderr",
     "output_type": "stream",
     "text": [
      "INFO:tensorflow:Starting iteration 9\n"
     ]
    }
   ],
   "source": [
    "# training\n",
    "\n",
    "tmp_q_dir = './results/fullslate_q/'\n",
    "runner = runner_lib.TrainRunner(\n",
    "    base_dir=tmp_q_dir,\n",
    "    create_agent_fn=create_q_agent,\n",
    "    env=interest_evolution.create_environment(env_config),\n",
    "    episode_log_file=\"\",\n",
    "    max_training_steps=50,\n",
    "    num_iterations=10)\n",
    "runner.run_experiment()"
   ]
  },
  {
   "cell_type": "code",
   "execution_count": 6,
   "metadata": {},
   "outputs": [
    {
     "name": "stdout",
     "output_type": "stream",
     "text": [
      "INFO:tensorflow:max_eval_episodes = 5\n"
     ]
    },
    {
     "name": "stderr",
     "output_type": "stream",
     "text": [
      "INFO:tensorflow:max_eval_episodes = 5\n"
     ]
    },
    {
     "name": "stdout",
     "output_type": "stream",
     "text": [
      "INFO:tensorflow:max_steps_per_episode = 27000\n"
     ]
    },
    {
     "name": "stderr",
     "output_type": "stream",
     "text": [
      "INFO:tensorflow:max_steps_per_episode = 27000\n",
      "2023-04-17 18:05:00.652090: W tensorflow/c/c_api.cc:291] Operation '{name:'networks/network/Online_89/output/bias/RMSProp_2/Assign' id:34000 op device:{requested: '/device:CPU:*', assigned: ''} def:{{{node networks/network/Online_89/output/bias/RMSProp_2/Assign}} = AssignVariableOp[_has_manual_control_dependencies=true, dtype=DT_FLOAT, validate_shape=false, _device=\"/device:CPU:*\"](networks/network/Online_89/output/bias/RMSProp_2, networks/network/Online_89/output/bias/RMSProp_2/Initializer/zeros)}}' was changed by setting attribute after it was run by a session. This mutation will have no effect, and will trigger an error in the future. Either don't modify nodes after running them or create a new session.\n"
     ]
    },
    {
     "name": "stdout",
     "output_type": "stream",
     "text": [
      "INFO:tensorflow:Beginning evaluation...\n"
     ]
    },
    {
     "name": "stderr",
     "output_type": "stream",
     "text": [
      "INFO:tensorflow:Beginning evaluation...\n"
     ]
    },
    {
     "name": "stdout",
     "output_type": "stream",
     "text": [
      "INFO:tensorflow:Restoring parameters from ./results/fullslate_q/train/checkpoints/tf_ckpt-9\n"
     ]
    },
    {
     "name": "stderr",
     "output_type": "stream",
     "text": [
      "INFO:tensorflow:Restoring parameters from ./results/fullslate_q/train/checkpoints/tf_ckpt-9\n"
     ]
    },
    {
     "name": "stdout",
     "output_type": "stream",
     "text": [
      "INFO:tensorflow:eval_file: ./results/fullslate_q/eval_5/returns_822\n"
     ]
    },
    {
     "name": "stderr",
     "output_type": "stream",
     "text": [
      "INFO:tensorflow:eval_file: ./results/fullslate_q/eval_5/returns_822\n"
     ]
    }
   ],
   "source": [
    "# evaluating\n",
    "\n",
    "runner = runner_lib.EvalRunner(\n",
    "      base_dir=tmp_q_dir,\n",
    "      create_agent_fn=create_q_agent,\n",
    "      env=interest_evolution.create_environment(env_config),\n",
    "      max_eval_episodes=5,\n",
    "      test_mode=True)\n",
    "runner.run_experiment()"
   ]
  },
  {
   "cell_type": "code",
   "execution_count": 5,
   "metadata": {},
   "outputs": [
    {
     "name": "stdout",
     "output_type": "stream",
     "text": [
      "INFO:tensorflow:max_training_steps = 50, number_iterations = 10,checkpoint frequency = 1 iterations.\n"
     ]
    },
    {
     "name": "stderr",
     "output_type": "stream",
     "text": [
      "INFO:tensorflow:max_training_steps = 50, number_iterations = 10,checkpoint frequency = 1 iterations.\n"
     ]
    },
    {
     "name": "stdout",
     "output_type": "stream",
     "text": [
      "INFO:tensorflow:max_steps_per_episode = 27000\n"
     ]
    },
    {
     "name": "stderr",
     "output_type": "stream",
     "text": [
      "INFO:tensorflow:max_steps_per_episode = 27000\n"
     ]
    },
    {
     "name": "stdout",
     "output_type": "stream",
     "text": [
      "WARNING:tensorflow:From /home/kshitij/.local/lib/python3.8/site-packages/recsim/agents/slate_decomp_q_agent.py:203: calling map_fn (from tensorflow.python.ops.map_fn) with dtype is deprecated and will be removed in a future version.\n",
      "Instructions for updating:\n",
      "Use fn_output_signature instead\n"
     ]
    },
    {
     "name": "stderr",
     "output_type": "stream",
     "text": [
      "WARNING:tensorflow:From /home/kshitij/.local/lib/python3.8/site-packages/recsim/agents/slate_decomp_q_agent.py:203: calling map_fn (from tensorflow.python.ops.map_fn) with dtype is deprecated and will be removed in a future version.\n",
      "Instructions for updating:\n",
      "Use fn_output_signature instead\n"
     ]
    },
    {
     "name": "stdout",
     "output_type": "stream",
     "text": [
      "WARNING:tensorflow:From /home/kshitij/.local/lib/python3.8/site-packages/tensorflow/python/autograph/pyct/static_analysis/liveness.py:83: Analyzer.lamba_check (from tensorflow.python.autograph.pyct.static_analysis.liveness) is deprecated and will be removed after 2023-09-23.\n",
      "Instructions for updating:\n",
      "Lambda fuctions will be no more assumed to be used in the statement where they are used, or at least in the same block. https://github.com/tensorflow/tensorflow/issues/56089\n"
     ]
    },
    {
     "name": "stderr",
     "output_type": "stream",
     "text": [
      "WARNING:tensorflow:From /home/kshitij/.local/lib/python3.8/site-packages/tensorflow/python/autograph/pyct/static_analysis/liveness.py:83: Analyzer.lamba_check (from tensorflow.python.autograph.pyct.static_analysis.liveness) is deprecated and will be removed after 2023-09-23.\n",
      "Instructions for updating:\n",
      "Lambda fuctions will be no more assumed to be used in the statement where they are used, or at least in the same block. https://github.com/tensorflow/tensorflow/issues/56089\n"
     ]
    },
    {
     "name": "stdout",
     "output_type": "stream",
     "text": [
      "WARNING:tensorflow:From /home/kshitij/.local/lib/python3.8/site-packages/recsim/agents/slate_decomp_q_agent.py:618: Print (from tensorflow.python.ops.logging_ops) is deprecated and will be removed after 2018-08-20.\n",
      "Instructions for updating:\n",
      "Use tf.print instead of tf.Print. Note that tf.print returns a no-output operator that directly prints the output. Outside of defuns or eager mode, this operator will not be executed unless it is directly specified in session.run or used as a control dependency for other operators. This is only a concern in graph mode. Below is an example of how to ensure tf.print executes in graph mode:\n",
      "\n"
     ]
    },
    {
     "name": "stderr",
     "output_type": "stream",
     "text": [
      "WARNING:tensorflow:From /home/kshitij/.local/lib/python3.8/site-packages/recsim/agents/slate_decomp_q_agent.py:618: Print (from tensorflow.python.ops.logging_ops) is deprecated and will be removed after 2018-08-20.\n",
      "Instructions for updating:\n",
      "Use tf.print instead of tf.Print. Note that tf.print returns a no-output operator that directly prints the output. Outside of defuns or eager mode, this operator will not be executed unless it is directly specified in session.run or used as a control dependency for other operators. This is only a concern in graph mode. Below is an example of how to ensure tf.print executes in graph mode:\n",
      "\n"
     ]
    },
    {
     "name": "stdout",
     "output_type": "stream",
     "text": [
      "WARNING:tensorflow:From /home/kshitij/.local/lib/python3.8/site-packages/tensorflow/python/util/dispatch.py:1176: batch_gather (from tensorflow.python.ops.array_ops) is deprecated and will be removed after 2017-10-25.\n",
      "Instructions for updating:\n",
      "`tf.batch_gather` is deprecated, please use `tf.gather` with `batch_dims=tf.rank(indices) - 1` instead.\n"
     ]
    },
    {
     "name": "stderr",
     "output_type": "stream",
     "text": [
      "WARNING:tensorflow:From /home/kshitij/.local/lib/python3.8/site-packages/tensorflow/python/util/dispatch.py:1176: batch_gather (from tensorflow.python.ops.array_ops) is deprecated and will be removed after 2017-10-25.\n",
      "Instructions for updating:\n",
      "`tf.batch_gather` is deprecated, please use `tf.gather` with `batch_dims=tf.rank(indices) - 1` instead.\n",
      "2023-04-17 18:03:29.381892: W tensorflow/c/c_api.cc:291] Operation '{name:'networks/network/Online_9/output/bias/RMSProp_2/Assign' id:4911 op device:{requested: '/device:CPU:*', assigned: ''} def:{{{node networks/network/Online_9/output/bias/RMSProp_2/Assign}} = AssignVariableOp[_has_manual_control_dependencies=true, dtype=DT_FLOAT, validate_shape=false, _device=\"/device:CPU:*\"](networks/network/Online_9/output/bias/RMSProp_2, networks/network/Online_9/output/bias/RMSProp_2/Initializer/zeros)}}' was changed by setting attribute after it was run by a session. This mutation will have no effect, and will trigger an error in the future. Either don't modify nodes after running them or create a new session.\n"
     ]
    },
    {
     "name": "stdout",
     "output_type": "stream",
     "text": [
      "INFO:tensorflow:Beginning training...\n"
     ]
    },
    {
     "name": "stderr",
     "output_type": "stream",
     "text": [
      "INFO:tensorflow:Beginning training...\n"
     ]
    },
    {
     "name": "stdout",
     "output_type": "stream",
     "text": [
      "INFO:tensorflow:Starting iteration 0\n"
     ]
    },
    {
     "name": "stderr",
     "output_type": "stream",
     "text": [
      "INFO:tensorflow:Starting iteration 0\n"
     ]
    },
    {
     "name": "stdout",
     "output_type": "stream",
     "text": [
      "INFO:tensorflow:Starting iteration 1\n"
     ]
    },
    {
     "name": "stderr",
     "output_type": "stream",
     "text": [
      "INFO:tensorflow:Starting iteration 1\n"
     ]
    },
    {
     "name": "stdout",
     "output_type": "stream",
     "text": [
      "INFO:tensorflow:Starting iteration 2\n"
     ]
    },
    {
     "name": "stderr",
     "output_type": "stream",
     "text": [
      "INFO:tensorflow:Starting iteration 2\n"
     ]
    },
    {
     "name": "stdout",
     "output_type": "stream",
     "text": [
      "INFO:tensorflow:Starting iteration 3\n"
     ]
    },
    {
     "name": "stderr",
     "output_type": "stream",
     "text": [
      "INFO:tensorflow:Starting iteration 3\n"
     ]
    },
    {
     "name": "stdout",
     "output_type": "stream",
     "text": [
      "INFO:tensorflow:Starting iteration 4\n"
     ]
    },
    {
     "name": "stderr",
     "output_type": "stream",
     "text": [
      "INFO:tensorflow:Starting iteration 4\n"
     ]
    },
    {
     "name": "stdout",
     "output_type": "stream",
     "text": [
      "INFO:tensorflow:Starting iteration 5\n"
     ]
    },
    {
     "name": "stderr",
     "output_type": "stream",
     "text": [
      "INFO:tensorflow:Starting iteration 5\n"
     ]
    },
    {
     "name": "stdout",
     "output_type": "stream",
     "text": [
      "INFO:tensorflow:Starting iteration 6\n"
     ]
    },
    {
     "name": "stderr",
     "output_type": "stream",
     "text": [
      "INFO:tensorflow:Starting iteration 6\n"
     ]
    },
    {
     "name": "stdout",
     "output_type": "stream",
     "text": [
      "INFO:tensorflow:Starting iteration 7\n"
     ]
    },
    {
     "name": "stderr",
     "output_type": "stream",
     "text": [
      "INFO:tensorflow:Starting iteration 7\n"
     ]
    },
    {
     "name": "stdout",
     "output_type": "stream",
     "text": [
      "INFO:tensorflow:Starting iteration 8\n"
     ]
    },
    {
     "name": "stderr",
     "output_type": "stream",
     "text": [
      "INFO:tensorflow:Starting iteration 8\n"
     ]
    },
    {
     "name": "stdout",
     "output_type": "stream",
     "text": [
      "INFO:tensorflow:Starting iteration 9\n"
     ]
    },
    {
     "name": "stderr",
     "output_type": "stream",
     "text": [
      "INFO:tensorflow:Starting iteration 9\n"
     ]
    }
   ],
   "source": [
    "# training\n",
    "\n",
    "tmp_decomp_q_dir = './results/decomp_q/'\n",
    "runner = runner_lib.TrainRunner(\n",
    "    base_dir=tmp_decomp_q_dir,\n",
    "    create_agent_fn=create_decomp_q_agent,\n",
    "    env=interest_evolution.create_environment(env_config),\n",
    "    episode_log_file=\"\",\n",
    "    max_training_steps=50,\n",
    "    num_iterations=10)\n",
    "runner.run_experiment()"
   ]
  },
  {
   "cell_type": "code",
   "execution_count": 7,
   "metadata": {},
   "outputs": [
    {
     "name": "stdout",
     "output_type": "stream",
     "text": [
      "INFO:tensorflow:max_eval_episodes = 5\n"
     ]
    },
    {
     "name": "stderr",
     "output_type": "stream",
     "text": [
      "INFO:tensorflow:max_eval_episodes = 5\n"
     ]
    },
    {
     "name": "stdout",
     "output_type": "stream",
     "text": [
      "INFO:tensorflow:max_steps_per_episode = 27000\n"
     ]
    },
    {
     "name": "stderr",
     "output_type": "stream",
     "text": [
      "INFO:tensorflow:max_steps_per_episode = 27000\n",
      "2023-04-17 18:05:22.455734: W tensorflow/c/c_api.cc:291] Operation '{name:'networks/network/Online_9/output/bias/RMSProp_2/Assign' id:4911 op device:{requested: '/device:CPU:*', assigned: ''} def:{{{node networks/network/Online_9/output/bias/RMSProp_2/Assign}} = AssignVariableOp[_has_manual_control_dependencies=true, dtype=DT_FLOAT, validate_shape=false, _device=\"/device:CPU:*\"](networks/network/Online_9/output/bias/RMSProp_2, networks/network/Online_9/output/bias/RMSProp_2/Initializer/zeros)}}' was changed by setting attribute after it was run by a session. This mutation will have no effect, and will trigger an error in the future. Either don't modify nodes after running them or create a new session.\n"
     ]
    },
    {
     "name": "stdout",
     "output_type": "stream",
     "text": [
      "INFO:tensorflow:Beginning evaluation...\n"
     ]
    },
    {
     "name": "stderr",
     "output_type": "stream",
     "text": [
      "INFO:tensorflow:Beginning evaluation...\n"
     ]
    },
    {
     "name": "stdout",
     "output_type": "stream",
     "text": [
      "INFO:tensorflow:Restoring parameters from ./results/decomp_q/train/checkpoints/tf_ckpt-9\n"
     ]
    },
    {
     "name": "stderr",
     "output_type": "stream",
     "text": [
      "INFO:tensorflow:Restoring parameters from ./results/decomp_q/train/checkpoints/tf_ckpt-9\n",
      "[cp 1][3 2][1.13608909 1.08976638 1.78354597 0.847309589 0.875174403 1.43037868 0.875174403 1.66523969 1.29178822 1.74002433][0.0247676745 -0.0165745858 0.28024742 0.122183755 -0.0805223882 0.0251991376 -0.00776045397 -0.122301638 -0.239368975 -0.504968405]\n",
      "[cp 1][6 5][0.0404367931 0.174258605 1.09762704 0.142072111 1.7976017 1.09762704 1.58345008 1.0577898 1.55631351 1.09762704][0.0671584159 0.14080289 0.207456201 0.0331477225 -0.149842143 0.211343899 0.20617789 -0.0248382092 -0.261334777 -0.458771884]\n",
      "[cp 1][5 0][0.847309589 1.66523969 0.174258605 1.43037868 1.43037868 1.55631351 1.09762704 1.58345008 1.0577898 0.847309589][0.173687667 0.0413957052 0.159516573 0.00727937371 -0.12920548 0.125813618 0.0945368409 -0.0439831764 -0.432747573 -0.464978725]\n",
      "[cp 1][5 2][1.92732549 0.174258605 1.85119331 1.29178822 0.766883 1.09762704 1.66523969 1.85119331 0.0404367931 1.09762704][-0.0216962509 0.155348107 0.283470839 0.0875965878 -0.109225966 0.201224253 -0.0521466918 -0.00954328664 -0.227936894 -0.474210441]\n",
      "[cp 1][2 0][1.58345008 1.20552671 1.20552671 1.66523969 1.55631351 1.43037868 1.14031529 1.0577898 1.20552671 1.09762704][0.156593472 0.0524478368 0.235730708 0.0422768146 -0.181877628 0.0261942502 -0.00727144908 0.00310741365 -0.254361659 -0.474515498]\n",
      "[cp 1][3 2][0.875174403 1.92732549 1.85783637 1.85783637 0.0404367931 1.92732549 1.01617038 0.142072111 1.09762704 1.85783637][0.116824135 -0.0247191507 0.280598223 0.135685056 -0.0366265923 0.107849821 0.12737456 -0.0848338157 -0.300749481 -0.380324125]\n",
      "[cp 1][6 0][1.86389947 0.142072111 0.0404367931 1.74002433 1.43037868 0.875174403 1.86389947 0.766883 1.55631351 1.43037868][0.18495819 0.0485536754 0.267328829 -0.0699812472 -0.130520329 0.000912720338 0.142355561 0.0425682142 -0.229231089 -0.346618772]\n",
      "[cp 1][5 2][1.13608909 1.13608909 0.875174403 1.0577898 1.92732549 1.29178822 0.174258605 1.74002433 0.142072111 1.08976638][0.0355504639 -0.00827204809 0.185377389 0.0647208467 -0.0243951082 0.162655756 0.0496206507 -0.0580134839 -0.212711662 -0.351706266]\n",
      "[cp 1][2 0][1.7976017 1.08976638 0.142072111 0.766883 1.58345008 1.43037868 1.13608909 1.29178822 1.92732549 1.01617038][0.212415 -0.0224164352 0.203162149 0.0578542054 -0.108945593 0.034586437 0.0285936575 -0.1084418 -0.250041783 -0.391642243]\n",
      "[cp 1][5 3][1.29178822 1.66523969 0.0404367931 1.14031529 0.0404367931 1.08976638 1.55631351 1.55631351 1.66523969 1.29178822][0.0850264281 0.0449842885 0.267493159 0.1099618 -0.03583638 0.167629614 0.0433799848 -0.0181396641 -0.252140135 -0.371786773]\n",
      "[cp 1][2 1][1.29178822 1.80989122 1.80989122 0.875174403 1.80989122 1.66523969 0.766883 0.766883 1.0577898 0.0404367931][0.0850264281 0.141142443 0.266813844 -0.00419447571 -0.159585148 0.0694623217 0.0897616148 0.0421372801 -0.410177737 -0.285778284]\n",
      "[cp 1][2 0][1.58345008 1.08976638 1.74002433 0.142072111 1.09762704 1.86389947 1.66523969 1.0577898 1.14031529 1.14031529][0.147963643 -0.0229808949 0.183144778 0.0528412201 -0.0435165539 -0.0322412625 -0.0217250343 -0.0084708 -0.270590305 -0.472596437]\n",
      "[cp 1][2 0][1.08976638 1.86389947 1.29178822 1.0577898 1.14031529 1.58345008 0.142072111 0.766883 1.55631351 1.0577898][0.253557205 0.0898409113 0.291219741 0.0641877353 -0.0543687642 0.114792407 -0.0297488011 0.0397029072 -0.231551513 -0.517247558]\n",
      "[cp 1][1 0][1.55631351 1.58345008 0.0404367931 1.08976638 1.66523969 0.875174403 0.875174403 1.08976638 0.875174403 1.01617038][0.140839562 0.121311679 0.267510504 0.0166947246 -0.144833401 0.00375687331 0.0403431691 -0.0149113685 -0.360558927 -0.394035727]\n",
      "[cp 1][5 2][0.0404367931 1.43037868 1.29178822 1.76030052 1.80989122 1.09762704 1.76030052 0.0404367931 1.08976638 0.174258605][0.069607 0.125641704 0.291219741 -0.0706666261 -0.161594883 0.206938162 0.0496649556 0.00127190072 -0.280701846 -0.333619475]\n",
      "[cp 1][2 0][1.58345008 1.0577898 0.875174403 1.08976638 1.76030052 1.14031529 1.08976638 1.92732549 1.43037868 1.86389947][0.143315 0.00069168862 0.17512922 0.00940854847 -0.0665793046 0.105471656 0.115111902 0.00316426251 -0.159687713 -0.42003417]\n",
      "[cp 1][5 2][1.76030052 1.80989122 1.92732549 1.13608909 1.08976638 1.34191012 1.29178822 1.76030052 1.80989122 1.76030052][0.0111213932 0.145240679 0.324739367 0.0909276 -0.149333313 0.215533778 0.0576480106 -0.0450534746 -0.263257742 -0.52071]\n",
      "[cp 1][2 0][0.579848826 1.34191012 1.76030052 0.579848826 1.43037868 1.86389947 0.766883 1.66523969 1.08976638 0.174258605][0.0977131128 0.0604409315 0.175415143 -0.0334063396 -0.14379625 -0.0289561488 0.0850648209 -0.103328638 -0.274832308 -0.331689179]\n",
      "[cp 1][2 0][1.14031529 1.01617038 1.08976638 1.13608909 0.174258605 0.142072111 0.0404367931 1.86389947 0.174258605 1.55631351][0.179489225 0.0550455526 0.267883629 0.0909667164 -0.0519067384 -0.0596458465 0.0294405334 -0.0125838071 -0.243074298 -0.423657149]\n",
      "[cp 1][5 0][1.80989122 1.55631351 0.142072111 1.55631351 0.142072111 1.34191012 0.766883 1.58345008 0.0404367931 1.01617038][0.192811117 0.161375806 0.187714323 0.0655782223 -0.0845431238 0.215572551 0.0850648209 -0.00857435726 -0.225286871 -0.374009192]\n",
      "[cp 1][3 2][0.174258605 0.579848826 1.76030052 1.86389947 0.766883 1.66523969 1.08976638 1.86389947 1.29178822 1.29178822][0.0605382 0.0477293953 0.171001479 0.123395495 -0.147907376 0.0537285 0.094905 -0.0137596214 -0.211494073 -0.415753782]\n",
      "[cp 1][5 1][1.43037868 1.58345008 0.142072111 1.29178822 0.174258605 1.08976638 0.142072111 1.66523969 1.29178822 1.66523969][0.138009802 0.143877089 0.186153218 0.0605979562 -0.0592307523 0.181066349 -0.0478373393 -0.111490227 -0.211711481 -0.478998512]\n",
      "[cp 1][2 0][1.43037868 1.66523969 1.13608909 1.01617038 1.76030052 1.55631351 1.0577898 1.13608909 0.766883 0.0404367931][0.138009802 0.0497816801 0.264912516 0.103359506 -0.0754395574 0.123145118 0.111959942 -0.0937698334 -0.274249077 -0.353262693]\n",
      "[cp 1][5 2][1.13608909 1.86945653 1.55631351 1.66523969 0.142072111 0.0404367931 1.01617038 1.13608909 0.766883 1.08976638][0.00550376 0.064703092 0.301916331 0.0569045283 -0.0752712935 0.111759469 0.110460557 -0.0950532481 -0.264030308 -0.365118504]\n",
      "[cp 1][2 1][1.55631351 1.55631351 1.08976638 1.47183478 1.58345008 1.55631351 1.55631351 1.47183478 1.14031529 1.13608909][0.10372369 0.152003989 0.285611153 0.0895383283 -0.122147635 0.129556 0.0310769174 -0.0385832042 -0.258352369 -0.333395958]\n",
      "[cp 1][5 2][1.29178822 0.579848826 0.579848826 1.55631351 1.55631351 1.0577898 1.33303821 0.174258605 1.13608909 1.86945653][0.0350901447 0.0231744032 0.195897117 0.0504791252 -0.168871894 0.158869624 0.0186905786 -0.0366075784 -0.205229014 -0.393932]\n",
      "[cp 1][5 2][1.13608909 1.29178822 0.174258605 0.0404367931 1.47183478 1.47183478 1.80989122 1.76030052 1.14031529 1.66523969][0.0109199584 0.05919661 0.164965123 -0.0861243308 -0.0470746122 0.236560211 0.0788133517 -0.0900347382 -0.264550388 -0.443871021]\n",
      "[cp 1][5 2][1.76030052 0.0404367931 1.47183478 1.33832395 1.33832395 1.29178822 0.0404367931 1.13608909 0.174258605 0.0404367931][0.0026898142 0.0574419647 0.218993798 -0.0272943452 -0.135084 0.170463845 -0.0114752501 -0.143264174 -0.262483597 -0.309895575]\n",
      "[cp 1][2 0][1.14031529 0.142072111 1.80989122 0.0404367931 0.174258605 0.142072111 1.80989122 1.66523969 1.33832395 1.29178822][0.220347941 0.0284652021 0.262848675 -0.0861243308 -0.0353773758 -0.0455363393 0.0788133517 -0.133681804 -0.276549399 -0.37379837]\n",
      "[cp 1][5 0][1.14031529 1.29178822 0.0404367931 1.76030052 1.14031529 1.33832395 1.29178822 1.66523969 1.76030052 1.33303821][0.221147969 0.0596510172 0.282610238 -0.0838095844 -0.0859801769 0.200593919 0.0218108557 -0.133512512 -0.229688138 -0.359880894]\n",
      "[cp 1][2 0][0.142072111 1.33303821 1.92891 0.579848826 0.174258605 1.76030052 0.174258605 0.0404367931 1.79904878 1.01617038][0.156660587 0.126597285 0.323017985 -0.0550688803 -0.0345745832 0.0743526891 0.0127156768 -0.0418982133 -0.298938304 -0.349480301]\n",
      "[cp 1][5 2][1.92891 1.14031529 1.33303821 1.29178822 0.579848826 1.55631351 0.766883 1.01617038 1.76030052 1.14031529][-0.0674130693 -0.0694939 0.163153678 0.0512877814 -0.0934173465 0.13916783 0.0375243053 -0.187003255 -0.23834604 -0.455210686]\n",
      "[cp 1][2 1][1.66523969 1.58345008 1.66523969 1.14031529 1.14031529 1.33303821 0.142072111 1.33303821 1.86945653 0.579848826][0.069017373 0.101868913 0.231428087 0.0815205798 -0.0791160241 0.0577726588 -0.0749473348 -0.170100257 -0.281926364 -0.506842554]\n",
      "[cp 1][5 2][1.76030052 0.142072111 1.01617038 0.142072111 1.46966851 1.46966851 1.86945653 1.14031529 1.76030052 1.0577898][0.00547098741 0.0222205222 0.281632602 0.00146910548 -0.131966755 0.205771253 0.10583175 0.0034890566 -0.232154697 -0.515008211]\n",
      "[cp 1][5 2][0.142072111 1.29178822 1.79904878 1.79904878 1.33303821 1.61537087 1.0577898 0.174258605 1.55404401 0.142072111][0.167363539 0.0454491302 0.272770226 0.0211170167 -0.126628101 0.14482896 0.071618773 -0.0524437688 -0.28319937 -0.404013902]\n",
      "[cp 1][6 2][0.174258605 1.81116319 1.0577898 1.33303821 1.33303821 1.86945653 1.58345008 1.14031529 1.47183478 0.0404367931][0.0905490294 0.0969014615 0.160331741 0.0164873637 -0.126452029 0.00783428364 0.169689715 -0.0075945165 -0.275803924 -0.283712447]\n",
      "[cp 1][2 0][0.579848826 1.47183478 1.33303821 1.61537087 1.61537087 1.81116319 1.13608909 1.81116319 1.13608909 0.174258605][0.151523694 0.0396353193 0.172572419 0.0262950398 -0.144676402 0.0386304557 0.0155293643 -0.170052946 -0.220865488 -0.307653368]\n",
      "[cp 1][6 2][1.0577898 0.0404367931 0.766883 1.66523969 0.579848826 0.174258605 1.58345008 1.01617038 1.47183478 0.0404367931][0.0710369945 0.0493653268 0.300812334 0.0293838456 -0.0821447447 0.18196401 0.15371722 -0.199745923 -0.261386186 -0.275489181]\n",
      "[cp 1][6 2][1.63550425 0.579848826 1.0577898 1.47183478 0.0404367931 1.66523969 1.63550425 1.55404401 1.81116319 1.14031529][0.121520743 0.00827990286 0.169553339 0.0902820081 0.000820288435 0.0912993 0.157117769 -0.0846784934 -0.297441781 -0.435002744]\n",
      "[cp 1][2 0][0.579848826 1.29178822 1.76030052 1.92891 1.01617038 0.174258605 0.0404367931 1.81116319 1.13608909 1.92891][0.12748462 0.0292095914 0.208038032 -0.0481255949 -0.0242986791 0.18111077 -0.0472113 -0.165569276 -0.209234238 -0.426260442]\n",
      "[cp 1][5 0][1.47183478 1.29178822 0.174258605 0.142072111 1.13608909 1.14031529 0.766883 0.0404367931 1.47183478 1.19958687][0.298835546 0.0292095914 0.192687348 -0.00995456427 -0.153160125 0.158124089 0.0172991306 -0.0634713098 -0.270361453 -0.360999107]\n",
      "[cp 1][2 0][0.0404367931 1.76030052 1.36203265 1.55404401 0.142072111 1.66523969 1.55404401 1.36203265 1.81116319 1.61537087][0.0577644035 0.0658567324 0.391210407 -0.0361076817 -0.0367570221 0.0885608941 0.0375688039 0.014207663 -0.299567968 -0.36750403]\n",
      "[cp 1][2 0][0.0404367931 1.86945653 1.19958687 1.13608909 1.81116319 1.19958687 1.36203265 1.01617038 1.19958687 0.766883][0.0577644035 0.0381355695 0.19212839 0.058061108 -0.130279332 0.061371047 -0.0693788677 -0.186865747 -0.178384796 -0.381562114]\n",
      "[cp 1][4 2][0.174258605 1.67536139 1.61537087 1.76030052 0.0404367931 1.01617038 1.55404401 1.67536139 1.29178822 1.36203265][0.0915586501 0.0883957669 0.345555663 -0.0872359872 -0.0042501 0.101605609 0.0375688039 -0.0576491207 -0.214550525 -0.450342029]\n",
      "[cp 1][5 2][1.76030052 1.81116319 0.174258605 1.81116319 1.29178822 1.47183478 1.13608909 0.174258605 1.36203265 1.92891][0.0221346114 0.082264252 0.190855771 0.0322174355 0.0172489434 0.248876661 0.0138191413 -0.0403961 -0.25536561 -0.452082843]\n",
      "[cp 1][2 0][0.0404367931 1.01617038 1.86945653 1.86945653 0.0404367931 1.19958687 1.36203265 1.19958687 1.55404401 1.19958687][0.0632378608 0.0198541433 0.289922625 0.081163466 -0.00417891517 0.0623915642 -0.0672040433 -0.177425712 -0.311000586 -0.401535451]\n",
      "[cp 1][2 0][1.55404401 1.36203265 1.87456894 1.0577898 1.76030052 0.0404367931 1.67536139 1.76030052 0.142072111 1.01617038][0.317494661 -0.0738699064 0.289922088 0.0477363095 -0.0300230905 0.163326278 0.140700102 -0.130423531 -0.222837463 -0.356381536]\n",
      "[cp 1][5 2][1.0577898 1.0577898 1.76030052 0.0404367931 1.61537087 0.174258605 1.29178822 1.92891 1.76030052 1.61370695][0.0973161384 -0.0759204 0.220390961 -0.0954118297 -0.138092831 0.168957442 0.00889602583 -0.06871479 -0.218953058 -0.326844543]\n",
      "[cp 1][2 0][1.19958687 1.29178822 1.76030052 1.66523969 1.87456894 0.579848826 0.766883 0.0404367931 1.66523969 1.87456894][0.113466561 0.0409043953 0.220390961 0.0494306348 0.0135152591 0.0722035542 0.0084895445 -0.0527561791 -0.268690884 -0.394745052]\n",
      "[cp 1][5 2][1.66523969 1.29178822 1.36203265 1.61537087 1.67536139 0.142072111 1.76030052 1.19958687 1.92891 1.36203265][0.0735106692 0.0409043953 0.39396134 0.0198444463 -0.082574077 -0.0201252028 0.0351297259 -0.179443464 -0.288275659 -0.456748664]\n",
      "[cp 1][2 0][1.55552232 1.66523969 1.36203265 1.92891 0.766883 1.13608909 0.0404367931 1.55552232 1.0577898 1.92891][0.326849103 0.0143329501 0.39396134 -0.0523494445 -0.103591971 0.148388654 -0.0630727857 -0.100481749 -0.368783683 -0.45452258]\n",
      "[cp 1][6 5][1.29178822 1.61370695 0.0404367931 1.61537087 1.81116319 1.36203265 1.87456894 1.61479044 1.36203265 1.61370695][0.0571235307 -0.0805891454 0.320482641 0.0151149035 -0.125131503 0.165935919 0.0776448548 -0.100516334 -0.257449538 -0.335159481]\n",
      "[cp 1][2 0][1.61537087 1.19958687 1.61537087 0.0404367931 1.19958687 0.0404367931 1.13608909 1.92891 0.142072111 0.579848826][0.167894185 0.125366032 0.354506493 -0.0941091552 -0.119046748 0.171273589 0.0150562236 -0.071295768 -0.229056701 -0.508677]\n",
      "[cp 1][2 0][1.87456894 0.142072111 1.67536139 0.142072111 1.0577898 0.142072111 0.579848826 0.142072111 1.87456894 1.76030052][0.166436821 0.0362474173 0.287317425 -0.0142219551 -0.0749939084 -0.0208946802 0.00795906316 -0.10262236 -0.307824194 -0.503725946]\n",
      "[cp 1][2 1][1.92891 1.67536139 1.67536139 0.579848826 1.01617038 1.66523969 1.81116319 1.01617038 1.61479044 1.36203265][-0.0540468618 0.0936366916 0.287281811 -0.0774317458 -0.0317332037 0.0887110531 0.0564718246 -0.206028655 -0.271046102 -0.475135326]\n",
      "[cp 1][5 3][1.76030052 0.142072111 0.174258605 1.61479044 1.61370695 1.76030052 0.174258605 1.29178822 1.61479044 0.766883][0.0454208404 0.0359966122 0.201086491 0.080398 -0.118151173 0.0824335441 -0.00474884 -0.178641453 -0.271046102 -0.40561232]\n",
      "[cp 1][2 0][1.67536139 1.0577898 1.01617038 0.579848826 1.29178822 1.19958687 0.142072111 1.01617038 1.81116319 0.174258605][0.137732387 -0.0789101571 0.331842333 -0.0774317458 0.0280060042 0.0686093196 -0.0718645453 -0.206028655 -0.311911374 -0.335098475]\n",
      "[cp 1][5 2][0.174258605 1.76030052 0.766883 1.19958687 1.61370695 1.64374435 1.64374435 1.87928879 0.142072111 1.81116319][0.134429798 0.0692038387 0.316319346 0.024154529 -0.120898038 0.142937988 0.133204192 -0.0824619457 -0.229288131 -0.400283813]\n",
      "[cp 1][2 0][1.66523969 1.0577898 1.66523969 1.29178822 1.66523969 1.81116319 1.0577898 1.61479044 1.19958687 1.13608909][0.088413924 -0.0795484111 0.277973413 0.0454896241 -0.15985021 0.0616024509 0.0434258468 -0.102409735 -0.194882318 -0.303165138]\n",
      "[cp 1][2 1][1.92891 0.142072111 1.92891 1.13608909 1.87928879 1.81116319 1.76030052 1.0577898 1.65975273 1.01617038][-0.0561178178 0.0384406075 0.337860882 0.037556272 0.0118065793 0.062640734 0.0372184068 -0.023651883 -0.244977623 -0.365853846]\n",
      "[cp 1][5 0][1.64374435 1.0577898 0.142072111 1.61370695 0.0404367931 1.36203265 1.61370695 1.81116319 1.0577898 1.93042612][0.136873096 -0.074615486 0.260642439 -0.0441554636 0.00466551818 0.165845573 0.036018461 -0.166126475 -0.375539809 -0.469846815]\n",
      "[cp 1][5 2][1.93042612 1.76030052 1.0577898 1.6056689 0.766883 1.76030052 1.29178822 1.76030052 1.13608909 1.61479044][-0.05255704 0.0749022365 0.188705057 -0.0401483849 -0.107603207 0.0893272609 0.00532238325 -0.144164905 -0.21141395 -0.448494285]\n",
      "[cp 1][6 3][0.142072111 0.791461825 0.174258605 1.61479044 1.69885898 0.174258605 1.01617038 1.36203265 1.76030052 0.579848826][0.148979843 -0.0796630755 0.187065959 0.056412451 -0.17881763 0.158048704 0.0761785805 -0.0001950562 -0.224988818 -0.522029698]\n",
      "[cp 1][2 0][0.579848826 0.766883 1.01617038 1.61479044 1.6056689 0.0404367931 1.76030052 1.69885898 1.81116319 1.6056689][0.185985506 0.0519230515 0.322924048 0.056412451 -0.0601650588 0.139739618 0.0388640426 -0.170309171 -0.301574677 -0.475906432]\n",
      "[cp 1][2 0][1.6056689 1.61479044 0.826890767 1.19958687 1.13608909 0.766883 1.93042612 0.766883 1.87928879 1.19958687][0.181801826 0.0431548841 0.220934436 0.0200405531 -0.130752727 0.183480978 -0.0177459288 -0.0995874405 -0.310086727 -0.425086319]\n",
      "[cp 1][2 0][1.5484674 1.59831715 0.236548856 1.04369664 1.27984202 0.529111207 1.5484674 0.529111207 1.88933778 1.36364055][0.659659863 -0.0467821509 0.40539366 -0.103073776 -0.0249405988 0.173089787 -0.129068449 0.0510063916 -0.162914366 -0.575221241]\n",
      "[cp 1][2 0][1.13686788 1.88933778 1.27984202 1.13686788 1.04369664 0.829323888 0.236548856 0.529111207 1.23527098 1.95723665][0.578482 0.0710501075 0.347910851 0.0457671955 -0.033572074 0.351032 -0.113025405 0.0466552526 -0.149385631 -0.405956745]\n",
      "[cp 1][5 2][0.0375796 1.22419143 1.6096319 0.829323888 0.0375796 1.95723665 0.912300646 1.95723665 1.233868 1.233868][0.417759031 -0.123241886 0.341191798 -0.000381112099 0.0361388065 0.197532356 -0.0731617659 0.0549174733 -0.0793783367 -0.496024579]\n",
      "[cp 1][2 0][0.912300646 1.23527098 0.922958732 1.36364055 1.23527098 0.286706567 0.912300646 1.12425375 1.88749611 1.12425375][0.394689113 -0.0316209123 0.384453714 0.0424245112 0.031134624 0.175265968 -0.0747429132 -0.0658533648 -0.130533278 -0.511178434]\n",
      "[cp 1][2 0][0.236548856 1.65534806 1.233868 1.65534806 1.88749611 0.236548856 1.88933778 1.5610584 1.65534806 1.23527098][0.564216316 -0.132917598 0.372502208 -0.0486524701 -0.0286385193 0.172895104 -0.044995442 0.097896114 -0.166460305 -0.26440686]\n",
      "[cp 1][2 0][1.59831715 0.236548856 1.95723665 1.88933778 1.04369664 1.65534806 0.529111207 1.04369664 0.286706567 1.23527098][0.455356777 0.020367153 0.33295548 -0.0868901238 -0.0547916815 0.283165962 -0.010405248 0.127365097 -0.110377513 -0.26440686]\n",
      "[cp 1][2 0][1.36364055 0.829323888 1.23527098 0.0375796 0.286706567 1.22117817 1.22419143 0.529111207 0.236548856 0.0375796][0.552971661 -0.0943976194 0.277699888 -0.0485853963 -0.0072397124 0.173407674 -0.261862576 0.037774317 -0.0619795062 -0.411444217]\n",
      "[cp 1][2 0][1.23527098 0.286706567 0.829323888 0.286706567 1.04369664 1.12425375 0.912300646 1.13686788 1.22419143 1.65534806][0.562336624 0.00490261614 0.384465426 0.00731620938 -0.0418919176 0.18711099 -0.0945406184 0.0968766659 -0.0913702697 -0.328769505]\n",
      "[cp 1][2 0][1.13686788 1.13686788 1.88933778 1.23527098 1.04369664 1.65534806 1.12425375 1.12058473 1.95723665 0.286706567][0.540182769 -0.0771326646 0.40007174 0.0438494161 -0.0318395533 0.310874939 -0.213282391 -0.00204962539 -0.0451176651 -0.423122406]\n",
      "[cp 1][2 0][1.5610584 1.12058473 1.12425375 0.286706567 1.65534806 1.89301169 1.88749611 1.5610584 0.286706567 1.22419143][0.722647429 -0.107213221 0.363511294 0.0186704025 0.0696604773 0.190003574 -0.166478157 0.129211962 -0.0686206073 -0.392869532]\n",
      "[cp 1][5 2][0.236548856 1.22419143 1.12058473 0.912300646 1.12425375 1.88749611 0.912300646 1.61885929 0.236548856 1.04369664][0.542880952 -0.14085336 0.374958038 -0.0901529789 -0.0162479132 0.403695166 -0.146671414 0.124888644 -0.042470552 -0.331317186]\n"
     ]
    },
    {
     "name": "stderr",
     "output_type": "stream",
     "text": [
      "[cp 1][2 0][1.23527098 0.236548856 1.13686788 0.912300646 1.22117817 0.236548856 1.65534806 0.912300646 1.233868 0.529111207][0.54151541 0.00938344747 0.403913915 -0.0901725292 -0.0107068485 0.215247616 -0.196067572 -0.0292121172 -0.0761291534 -0.456199259]\n",
      "[cp 1][5 0][1.233868 0.529111207 1.59831715 1.12058473 0.912300646 1.89129329 1.12425375 1.89129329 1.23527098 0.286706567][0.410527 -0.0057523381 0.345190048 -0.0237200521 -0.0351944938 0.403897107 -0.21550931 0.0950117335 -0.149797618 -0.423513383]\n",
      "[cp 1][2 0][1.22419143 0.529111207 1.23527098 1.2421546 1.89483845 1.59831715 0.912300646 1.89301169 0.912300646 0.236548856][0.538566589 -0.00563819427 0.281978935 -0.00587241631 0.000727755 0.229907468 -0.14711535 -0.00613892497 0.0180830043 -0.453240931]\n",
      "[cp 1][2 0][1.13686788 1.59831715 1.89483845 0.0375796 1.13686788 1.12425375 1.13686788 0.286706567 1.23527098 1.22419143][0.554715395 -0.0673891082 0.445020467 -0.0466087 0.0279835854 0.23555918 -0.115863584 0.0043849647 -0.14960739 -0.384457946]\n",
      "[cp 1][2 0][1.12425375 1.23527098 1.59831715 0.236548856 1.89301169 1.04369664 1.22419143 1.36036706 1.23527098 1.12425375][0.441397667 -0.0327268206 0.359962106 -0.0534965619 -0.0537310094 0.315442502 -0.269213259 0.0908394 -0.159309775 -0.496352]\n",
      "[cp 1][2 0][1.22117817 0.286706567 1.61885929 1.22419143 1.61885929 1.2421546 1.23527098 1.89301169 1.233868 1.65534806][0.219515458 -0.00381323323 0.422554433 -0.0299749523 -0.0851921514 0.169616774 -0.211654738 -0.0210952312 -0.0728038251 -0.297060937]\n",
      "[cp 1][2 0][1.65534806 0.286706567 1.36036706 0.236548856 1.89483845 1.65534806 1.23527098 1.36036706 0.0375796 1.59831715][0.603955269 -0.00381323323 0.435204208 -0.0781044811 0.0213621762 0.344743371 -0.211654738 0.0911745578 -0.0722949058 -0.250476211]\n",
      "[cp 1][5 0][0.236548856 1.89483845 0.236548856 0.0375796 1.36036706 0.912300646 1.35433316 1.12058473 1.233868 1.95723665][0.538106084 0.0202979799 0.446152925 -0.0674240738 0.0783928484 0.297921628 -0.246982217 -0.00826097094 -0.0700371116 -0.402579457]\n",
      "[cp 1][5 2][0.912300646 0.912300646 1.89483845 1.233868 0.912300646 1.69098353 1.89301169 1.12058473 1.69098353 1.89301169][0.33660388 -0.104291208 0.466100514 -0.0642806888 -0.0199751593 0.346614391 -0.133081645 -0.00826097094 -0.136276722 -0.34174943]\n",
      "[cp 1][2 0][1.89483845 0.912300646 1.36036706 0.529111207 0.912300646 0.0375796 0.0375796 1.12058473 1.22117817 1.89483845][0.419284463 -0.104291208 0.437259495 0.0975931734 -0.0199751593 0.207359597 -0.249642298 -0.00826097094 -0.0242013801 -0.352083683]\n",
      "[cp 1][2 0][0.286706567 1.22419143 1.23527098 1.61885929 1.12058473 0.529111207 1.69098353 1.23527098 0.0375796 0.0375796][0.443850785 -0.124699965 0.296708286 -0.0499712043 0.0385238528 0.18868202 -0.199627891 0.028886158 -0.0699635595 -0.4059394]\n",
      "[cp 1][2 0][0.286706567 1.35433316 1.04369664 1.61885929 1.22117817 1.233868 0.529111207 0.529111207 1.61885929 1.22117817][0.434163094 0.0416620113 0.401994526 -0.0690608 0.0137765836 0.185216486 -0.0193503685 0.0411171354 -0.00820209272 -0.381387323]\n",
      "[cp 1][5 2][0.236548856 0.912300646 1.233868 0.529111207 1.89483845 1.89483845 1.36036706 1.04369664 1.59831715 1.233868][0.526473 -0.110803537 0.36915046 0.0845144391 0.0170687251 0.43555969 -0.10740795 0.0817654878 -0.0540667437 -0.439162642]\n",
      "[cp 1][2 0][1.89301169 1.35433316 1.12058473 0.0375796 1.36036706 0.912300646 1.12058473 1.59831715 0.529111207 0.286706567][0.539888918 0.0416620113 0.377522349 -0.0703104287 0.0785710216 0.307817638 -0.282099962 -0.0501755066 0.0069400724 -0.414046675]\n",
      "[cp 1][2 0][1.69098353 0.529111207 0.286706567 1.89301169 1.04369664 0.236548856 1.22117817 1.22419143 1.69098353 1.89301169][0.584304869 0.0233119652 0.320619 -0.0903578252 0.00323783513 0.242721021 -0.14160046 0.0470895916 -0.131723821 -0.337147743]\n",
      "[cp 1][5 0][0.912300646 1.89483845 1.0598278 1.0598278 1.233868 1.59831715 1.35433316 1.36036706 1.04369664 1.36036706][0.324834406 0.036265891 0.282604933 0.0470990576 -0.0619041249 0.273101389 -0.252567649 0.0895360857 -0.087306276 -0.348506391]\n",
      "[cp 1][2 0][1.22419143 0.529111207 1.04369664 1.89483845 0.529111207 0.236548856 1.0598278 1.0598278 1.0598278 1.0598278][0.517303467 0.0233119652 0.401994526 0.0397774205 -0.0485688597 0.242721021 -0.214597672 0.0102789905 -0.15961051 -0.240118742]\n",
      "[cp 1][2 0][1.12058473 0.0375796 1.22117817 1.61885929 0.0375796 1.35433316 0.236548856 1.35433316 1.61885929 1.233868][0.590926051 -0.0742372125 0.360105932 -0.0523785204 0.046088133 0.267854691 -0.17269285 -0.0687013417 -0.0167218521 -0.450590134]\n",
      "[cp 1][5 2][0.0375796 0.236548856 0.236548856 1.95723665 1.69098353 1.89483845 0.529111207 1.12058473 1.12058473 1.36036706][0.397131562 0.0356091745 0.415350676 -0.00402727 0.109947965 0.398616195 -0.070322983 -0.00582473446 -0.0710085854 -0.326128393]\n",
      "[cp 1][2 0][1.22419143 1.0598278 0.912300646 1.69098353 1.0598278 0.912300646 0.912300646 1.40314722 1.2421546 0.236548856][0.531264484 -0.00991767086 0.39360556 -0.0610386804 0.0554446876 0.257754922 -0.19916141 0.0338119268 -0.101161331 -0.398731798]\n",
      "[cp 1][2 0][1.12058473 1.22419143 1.40314722 1.233868 0.0375796 1.35433316 1.59831715 1.89301169 1.89301169 1.95723665][0.595413148 -0.127141461 0.356853306 -0.049540326 0.0578998253 0.244689807 -0.266352057 -0.00359668955 -0.138317212 -0.366015643]\n",
      "[cp 1][2 0][0.236548856 1.61885929 0.236548856 0.529111207 1.22419143 1.40314722 1.233868 0.286706567 0.236548856 1.2421546][0.572719216 0.0319203213 0.417900056 0.0683978572 0.0651738569 0.143807068 -0.232572213 0.0198503844 -0.0615384 -0.514844716]\n",
      "[cp 1][5 0][0.286706567 0.0375796 0.0375796 1.59831715 0.236548856 1.95723665 1.61885929 0.529111207 1.59831715 0.236548856][0.460367858 -0.0513566434 0.364079297 -0.0649247169 0.0706208125 0.176361963 -0.143181443 0.0579489544 -0.099860996 -0.382558316]\n",
      "[cp 1][2 0][0.529111207 1.2421546 1.35433316 1.89301169 0.529111207 0.912300646 1.0598278 0.286706567 1.89301169 1.89815617][0.535695 0.0443157293 0.345510572 -0.0890894 -0.0613501407 0.234390259 -0.205015019 0.0198694766 -0.159291267 -0.327979714]\n",
      "[cp 1][2 0][1.95778525 0.769341826 1.61885929 0.286706567 0.286706567 1.0598278 0.0375796 1.69098353 1.59831715 0.236548856][0.630509555 -0.107890218 0.405052245 -0.00220918655 0.0113385376 0.15063335 -0.301936835 0.0794956 -0.0998354107 -0.382650554]\n",
      "[cp 1][2 0][1.95778525 1.233868 1.233868 1.6624397 1.36036706 1.0598278 0.529111207 1.22419143 0.236548856 1.95778525][0.63732475 0.0472996794 0.353877187 -0.0849964619 0.0759575069 0.155440941 -0.0551132709 0.0618432648 -0.064887166 -0.350120693]\n",
      "[cp 1][2 0][1.9583199 1.89815617 1.233868 1.69098353 1.233868 0.286706567 1.6624397 1.6624397 1.59831715 0.529111207][0.637353241 0.0571741089 0.353882611 -0.0572588518 -0.0634887815 0.187418357 -0.141683251 0.100962855 -0.101046145 -0.431636214]\n",
      "[cp 1][2 0][0.888573468 1.89301169 0.769341826 1.0598278 1.35433316 0.236548856 1.89301169 1.35433316 0.769341826 1.6624397][0.638578653 0.0621755943 0.393383712 0.0477004945 0.00532224402 0.17309247 -0.0927498266 -0.0825092271 -0.104721986 -0.347659051]\n",
      "[cp 1][2 0][1.0598278 1.69098353 1.6624397 1.0577805 1.0598278 1.2421546 1.89301169 0.912300646 0.0375796 1.35433316][0.635850251 -0.11231932 0.419965744 -0.082631506 0.0495147556 0.0318964124 -0.0549064279 -0.111535452 -0.131102 -0.422768295]\n",
      "[cp 1][5 2][0.0375796 1.0598278 1.0598278 1.0577805 1.36036706 1.35433316 1.36036706 0.769341826 1.6966238 1.69098353][0.458683342 -0.0184561163 0.265784919 -0.0864148438 0.0471640676 0.176482394 -0.0702854395 0.0805959776 -0.0384004973 -0.306175351]\n",
      "[cp 1][2 0][1.6966238 0.529111207 0.529111207 1.40314722 1.35433316 0.59229821 0.769341826 0.286706567 1.2421546 1.69098353][0.751235962 -0.0168784112 0.312062562 0.0649065599 -0.0042356886 0.270735264 -0.0238920972 -0.0415219702 -0.12902993 -0.304202974]\n",
      "[cp 1][2 0][1.89301169 0.286706567 1.89301169 1.35433316 0.286706567 1.89815617 1.2421546 1.22419143 0.0375796 1.59831715][0.60879451 -0.0187948663 0.369085193 -0.0996696874 -0.0195854548 0.278773099 -0.0861228183 0.00735956524 -0.120447457 -0.193547755]\n",
      "[cp 1][2 0][0.529111207 0.794650733 1.22419143 1.69098353 1.9583199 0.286706567 1.6966238 1.69098353 1.69098353 0.769341826][0.575679481 -0.0338237062 0.401898026 -0.0915385783 0.0699317679 0.136925846 -0.061709553 0.0307349563 -0.169367269 -0.291884243]\n",
      "[cp 1][5 2][0.286706567 0.769341826 0.59229821 1.35433316 0.286706567 1.89815617 1.0577805 0.912300646 1.22419143 0.769341826][0.498721898 -0.1389153 0.372682273 -0.0996882692 -0.0194498 0.279111266 -0.146572039 -0.145214766 -0.113826185 -0.291884243]\n",
      "[cp 1][2 0][1.22419143 1.89644563 0.236548856 0.286706567 0.236548856 0.794650733 0.0375796 0.0375796 0.529111207 0.769341826][0.626804411 0.074105233 0.375118375 -0.0787634403 0.0436810963 0.108484961 -0.262585729 -0.0360646136 -0.0328592807 -0.291884243]\n",
      "[cp 1][2 0][1.69098353 0.912300646 1.40314722 1.36036706 1.89815617 0.236548856 1.0577805 1.40314722 1.89815617 0.59229821][0.680074692 -0.148651585 0.372328192 -0.0332067944 0.01950581 0.145978108 -0.146572039 -0.0485596731 -0.194278 -0.365086228]\n",
      "[cp 1][2 0][0.286706567 0.794650733 0.912300646 1.71963096 1.9583199 1.40314722 1.2421546 0.236548856 1.89815617 0.769341826][0.501198947 -0.0359213091 0.367768645 -0.0888184384 0.0701773167 0.126619071 -0.0864110962 -0.00407965248 -0.192514956 -0.29240483]\n",
      "[cp 1][2 0][1.89815617 1.6966238 0.794650733 1.6966238 1.6966238 1.22419143 1.89644563 1.22419143 1.35433316 1.35433316][0.490454346 0.0124243777 0.25522694 -0.119694278 -0.139754638 0.115421198 -0.0428500138 0.00795443822 -0.0690056235 -0.403110921]\n",
      "[cp 1][2 0][0.769341826 1.90126777 0.794650733 0.236548856 1.2421546 1.36036706 1.90126777 1.59831715 1.36036706 0.59229821][0.385642529 0.0550794862 0.255284399 -0.0322512463 0.0345375165 0.00390207954 -0.0636830628 -0.0990978777 -0.0614447035 -0.366416]\n",
      "[cp 1][2 0][1.89644563 1.0577805 1.35433316 1.90126777 0.59229821 1.89644563 0.912300646 0.485302776 1.2421546 1.59831715][0.609616697 0.0261216499 0.312277615 0.0445271321 0.0146115487 0.0588919371 -0.0882722288 0.0654857308 -0.129821986 -0.174408734]\n",
      "[cp 1][1 0][1.9583199 0.0375796 0.286706567 1.22419143 1.22419143 0.236548856 0.286706567 0.286706567 0.286706567 1.90126777][0.685417354 -0.058826156 0.273065597 -0.0470306799 0.045181375 0.113707587 -0.167838454 -0.0310460478 -0.15465422 -0.313165635]\n",
      "[cp 1][2 0][1.40314722 1.9583199 1.2421546 0.912300646 1.35433316 0.286706567 1.22419143 1.36036706 0.0375796 1.36036706][0.399357021 0.125486 0.290169984 -0.087909624 0.00755626895 0.12567845 -0.262836486 0.0626593232 -0.123251833 -0.299973518]\n",
      "[cp 1][2 0][1.0577805 1.59831715 1.35433316 0.286706567 1.90126777 1.6966238 1.51001716 1.59831715 1.6966238 0.59229821][0.519766212 -0.0588821694 0.315351576 -0.0658925474 0.0260017328 0.154517859 -0.02191508 -0.0947763 -0.034698613 -0.374383092]\n",
      "[cp 1][2 0][1.6966238 1.71963096 1.35433316 1.36036706 1.71963096 1.71963096 0.485302776 1.51001716 1.89966261 1.22419143][0.784053683 -0.0903878063 0.315351576 -0.0127244517 0.11278452 0.19896169 -0.0225089714 -0.0251682252 -0.194663852 -0.26255554]\n",
      "[cp 1][2 0][1.90126777 0.0375796 0.286706567 0.912300646 0.286706567 0.286706567 1.22419143 1.22419143 1.71963096 0.0375796][0.503555715 -0.0493965447 0.267502606 -0.122812882 -0.0366057269 0.137690425 -0.2777206 0.0210953783 -0.195761606 -0.313808858]\n",
      "[cp 1][2 0][1.22419143 1.90126777 1.71963096 1.6966238 1.6966238 0.236548856 0.59229821 1.22419143 1.9583199 1.22419143][0.661863506 0.0558890216 0.336465657 -0.131257385 -0.146916494 0.112019919 -0.272939116 0.0210953783 -0.0835374445 -0.233097851]\n",
      "[cp 1][2 0][1.47939885 1.89966261 1.22419143 0.912300646 0.794650733 0.59229821 0.59229821 0.59229821 1.2421546 1.9583199][0.557622731 0.0961142853 0.384932905 -0.122712441 0.0291356761 0.218015358 -0.272788018 -0.0452208742 -0.139654502 -0.281176209]\n",
      "[cp 1][2 0][0.794650733 0.529111207 0.529111207 1.22419143 0.912300646 1.9583199 1.69604886 1.2421546 0.794650733 1.69604886][0.631103456 -0.00700622611 0.296104431 -0.0882641077 -0.0632949844 0.110125542 -0.137843713 -0.0214395467 -0.194016486 -0.281183779]\n",
      "[cp 1][2 0][1.0577805 1.59831715 0.0375796 1.2421546 1.5607065 0.794650733 1.90126777 0.59229821 0.485302776 1.36036706][0.523134589 -0.0569002405 0.328721106 -0.0813076198 0.00423663855 0.120263606 -0.101770595 -0.0486089438 -0.133795992 -0.286952019]\n",
      "[cp 1][2 0][0.791447282 1.22419143 1.89966261 1.2421546 0.485302776 0.485302776 1.59831715 1.22419143 1.69604886 1.5607065][0.546940506 -0.100858025 0.328611523 -0.127127022 -0.0145909432 0.154687986 -0.17148301 -0.0144043472 -0.181939691 -0.363179117]\n",
      "[cp 1][2 0][1.69604886 0.791447282 0.485302776 1.89966261 1.5607065 1.6966238 1.59831715 0.912300646 1.9583199 1.6966238][0.738810897 -0.00487530977 0.354072869 -0.205363542 0.00753114652 0.146116 -0.17148301 -0.198077559 -0.083599329 -0.293413073]\n",
      "[cp 1][2 0][1.59831715 0.485302776 0.286706567 1.22419143 1.22419143 0.236548856 0.794650733 1.69604886 0.59229821 0.529111207][0.464043617 -0.137500465 0.245344639 -0.119584553 0.0696675181 0.080325976 -0.111461811 -0.0115978243 -0.0755478889 -0.405531228]\n",
      "[cp 1][2 0][1.90126777 0.791447282 0.286706567 1.51001716 0.529111207 1.89966261 1.9583199 0.791447282 0.236548856 1.22419143][0.5400455 -0.006902033 0.244727731 0.00484599918 -0.0612528957 0.0161839947 -0.0160320513 -0.0723308 -0.049493596 -0.237195522]\n",
      "[cp 1][2 0][0.286706567 1.69604886 1.89966261 1.69604886 0.529111207 1.51001716 0.529111207 0.485302776 0.0375796 0.59229821][0.522234142 -0.128335133 0.326537699 -0.131766498 -0.0614048019 0.07931678 -0.0208189245 0.0051431153 -0.132963046 -0.337492198]\n",
      "[cp 1][2 0][0.485302776 1.9583199 0.912300646 0.912300646 1.2421546 0.59229821 1.51001716 0.286706567 1.2421546 1.5607065][0.417313367 0.1488415 0.329484254 -0.185994118 0.047352992 0.188431457 -0.00883205421 -0.0759100765 -0.139642656 -0.36324504]\n",
      "[cp 1][2 0][0.59229821 1.6966238 1.9583199 1.69604886 1.2421546 0.794650733 1.2421546 1.22419143 0.529111207 1.51001716][0.714958727 0.00509555824 0.268204242 -0.112959273 0.0394739881 0.0819917768 -0.0923290625 -0.00577538367 -0.0397001952 -0.239151254]\n"
     ]
    },
    {
     "name": "stderr",
     "output_type": "stream",
     "text": [
      "[cp 1][2 0][1.36036706 1.36036706 0.794650733 1.6966238 1.2421546 0.0375796 1.36036706 0.842431962 0.0375796 0.529111207][0.590483427 -0.105611697 0.236440763 -0.141760901 0.0453371182 0.0848565623 -0.100273058 -0.0733783916 -0.119867563 -0.402141929]\n",
      "[cp 1][2 0][0.791447282 1.51001716 1.6966238 1.51001716 0.791447282 0.794650733 1.64672184 1.90419221 1.36036706 0.236548856][0.53948766 -0.021989176 0.339152217 0.0242988765 -0.0467728637 0.0961164087 -0.201769829 0.0565564036 -0.0815743953 -0.260305]\n",
      "[cp 1][2 0][0.0375796 0.0375796 1.9583199 0.842431962 1.64672184 1.89966261 1.90419221 1.69604886 1.64672184 0.286706567][0.510130405 -0.0594839491 0.269839406 -0.098607786 -0.0449502543 0.00320464186 -0.115911543 -0.00374684669 -0.140355468 -0.345545471]\n",
      "[cp 1][2 0][1.5607065 0.264776736 1.22419143 0.842431962 0.286706567 1.90419221 1.6966238 1.90419221 1.90419221 0.529111207][0.626580954 -0.114425279 0.360961318 -0.098607786 -0.00535339303 0.234345913 -0.128412545 0.0565564036 -0.185029507 -0.402141929]\n",
      "[cp 1][2 0][1.34127569 1.3062166 0.719015777 0.420765132 0.719015777 1.33353341 1.34127569 1.1403935 1.34127569 1.1403935][0.144716188 -0.0143650994 0.0616495386 -0.256049752 -0.0960639 -0.059103515 0.0525811352 0.0164646246 -0.0117325485 -0.550352037]\n",
      "[cp 1][2 0][1.97674763 0.719015777 1.3062166 0.719015777 0.417753518 0.120450944 1.33353341 0.506583214 0.48885119 0.874063909][0.213475764 0.0590135232 0.0942843109 -0.182254389 -0.0806078464 -0.00681998488 -0.0769382045 -0.0717497095 0.0571346134 -0.42369163]\n",
      "[cp 1][2 0][1.97674763 0.322619021 0.719015777 0.257852584 1.33353341 0.204089627 0.420765132 0.932621539 0.727421522 1.3062166][0.213475764 -0.0521659106 0.0616495386 -0.201223463 -0.103283055 -0.105961397 0.0125463586 -0.0128928032 -0.0134200901 -0.595653534]\n",
      "[cp 1][5 0][1.1403935 1.34127569 0.506583214 0.506583214 0.874063909 1.34127569 1.33353341 0.257852584 0.630856693 0.506583214][0.236598596 -0.0948531851 0.0644384846 -0.148006231 -0.0678384528 0.102089331 -0.0769382045 -0.102347299 0.0671287924 -0.576901078]\n",
      "[cp 1][1 0][0.630856693 0.506583214 0.48885119 0.874063909 0.719015777 1.33353341 0.719015777 0.417753518 0.322619021 0.719015777][0.201312944 0.0511063822 0.00566731114 -0.161466107 -0.0937446803 -0.0541205816 -0.119454257 -0.0611826405 0.0367138349 -0.534568608]\n",
      "[cp 1][4 0][1.47145104 0.420765132 0.874063909 0.877203047 0.120450944 1.33353341 0.506583214 0.417753518 0.48885119 0.120450944][0.146360591 -0.019891629 -0.0136200394 -0.325730205 0.0430794619 -0.0541205816 -0.118580393 -0.0611826405 0.0483484641 -0.540512621]\n",
      "[cp 1][8 2][0.420765132 1.97674763 1.55526018 0.874063909 1.1403935 0.257852584 0.48885119 0.874063909 0.506583214 0.322619021][0.0663935 -0.00887863524 0.0649412125 -0.167070568 -0.119406499 -0.114511676 -0.118098013 -0.12949194 0.0654039234 -0.40804702]\n",
      "[cp 1][8 0][1.39526236 0.48885119 0.719015777 1.33353341 1.33353341 1.55526018 0.204089627 1.55526018 0.257852584 0.874063909][0.245049506 -0.158096477 0.080706127 -0.261357665 -0.0880226791 0.104681134 -0.019257497 -0.212506413 0.131994918 -0.415665537]\n",
      "[cp 1][2 0][0.48885119 0.932621539 1.1403935 0.279621243 0.279621243 0.420765132 0.322619021 0.727421522 1.55526018 0.48885119][0.154465824 0.0347229429 0.166705877 -0.208249196 -0.0495057404 -0.0307730101 0.0261063632 -0.112993836 -0.00697965547 -0.548067272]\n",
      "[cp 1][2 0][0.932621539 0.727421522 0.727421522 1.36207056 0.877203047 0.719015777 1.50497472 0.48885119 0.417753518 1.33353341][0.253895581 -0.159612253 0.0999533832 -0.364956617 0.0180254057 -0.015526833 0.0135239065 -0.105302036 -0.0374406 -0.545264125]\n",
      "[cp 1][8 0][0.719015777 1.97674763 0.322619021 1.3062166 0.932621539 0.420765132 0.257852584 1.50497472 1.36207056 0.322619021][0.274118274 -0.0218639579 0.048706647 -0.308967829 -0.0262019746 -0.031900838 -0.0865243152 -0.17623879 0.0869573951 -0.411047906]\n",
      "[cp 1][2 0][1.55526018 0.48885119 0.204089627 0.727421522 0.874063909 0.417753518 1.33353341 0.279621243 1.33353341 1.50497472][0.165724143 -0.209103912 0.253886789 -0.27642265 -0.0502759218 -0.0955875143 -0.0892281905 -0.101575248 0.100427859 -0.575482428]\n",
      "[cp 1][2 0][0.719015777 0.279621243 1.33353341 0.877203047 1.48415673 0.727421522 0.120450944 1.48415673 1.3062166 1.55526018][0.278609335 0.0341600031 0.282454818 -0.411355048 -0.0921553522 -0.111316435 0.0321637616 -0.0278507024 0.0252276734 -0.707367361]\n",
      "[cp 1][2 0][0.932621539 0.932621539 0.204089627 0.630856693 0.727421522 0.279621243 0.120450944 0.420765132 1.97674763 0.420765132][0.24946937 0.0200736839 0.254951417 -0.34136644 -0.116867989 -0.0313694216 0.0280746855 -0.0779671222 0.0543823205 -0.532489419]\n",
      "[cp 1][2 0][0.322619021 1.55526018 1.33353341 1.33353341 0.420765132 0.420765132 1.3062166 1.33353341 0.442701429 0.932621539][0.273552626 -0.127842799 0.27346909 -0.319498509 -0.0727986172 -0.0516413748 0.0391494967 -0.0874201432 -0.183575317 -0.610419214]\n",
      "[cp 1][4 0][1.3062166 1.55526018 0.420765132 0.0941316187 0.0941316187 0.874063909 0.257852584 0.874063909 0.630856693 1.50497472][0.288305491 -0.127842799 0.034173619 -0.371683598 -0.0514750555 -0.0986411497 -0.0940676555 -0.192271531 0.035956 -0.565962911]\n",
      "[cp 1][4 0][1.48415673 0.257852584 1.55526018 0.874063909 0.120450944 1.50497472 0.279621243 0.420765132 0.48885119 1.48415673][0.256732672 -0.0225404408 0.0766318813 -0.264866799 0.0594670177 0.0101900809 -0.15556781 -0.0865307 0.0187575966 -0.557938337]\n",
      "[cp 1][2 0][0.417753518 0.257852584 0.48885119 0.48885119 0.417753518 0.417753518 0.727421522 0.120450944 0.120450944 0.630856693][0.291668743 -0.0225404408 0.0284835137 -0.44273895 -0.101463944 -0.0808091834 -0.0742821395 -0.0954581052 -0.0447219759 -0.583875895]\n",
      "[cp 1][2 0][0.0941316187 0.417753518 1.3062166 0.630856693 0.420765132 0.630856693 0.877203047 1.50497472 1.55526018 0.877203047][0.162986249 -0.159097478 0.120814845 -0.360665619 -0.0727986172 -0.0981551409 0.0112379137 -0.19048436 -0.063670367 -0.501606226]\n",
      "[cp 1][2 0][1.3062166 0.442701429 1.50497472 1.3062166 1.33353341 0.932621539 1.48415673 0.0941316187 0.874063909 0.0941316187][0.288305491 0.0415045582 0.193262622 -0.354790151 -0.0733218193 0.0669444725 -0.0197007935 -0.118207105 0.015807448 -0.561082721]\n",
      "[cp 1][2 0][0.257852584 0.727421522 0.0941316187 0.417753518 0.48885119 0.420765132 0.0941316187 0.0941316187 0.727421522 1.55526018][0.2311147 -0.164572611 0.256312102 -0.356183589 -0.0587680787 -0.0557534918 -0.0527584516 -0.1144844 -0.0400505401 -0.741371512]\n",
      "[cp 1][8 0][0.630856693 1.45061719 0.120450944 0.279621243 0.877203047 1.45061719 0.120450944 0.874063909 1.33353341 0.417753518][0.220970526 -0.0854593441 0.136050925 -0.281090826 0.03052 -0.130965814 0.00975359697 -0.184966832 0.068545945 -0.428195149]\n",
      "[cp 1][2 0][0.48885119 0.120450944 0.442701429 0.120450944 0.442701429 0.630856693 0.727421522 0.877203047 0.630856693 0.420765132][0.144111216 0.0113326367 0.0924143046 -0.328137338 -0.0511172116 -0.100640431 -0.0884505585 -0.167192355 0.0385268852 -0.552471519]\n",
      "[cp 1][2 0][1.45061719 0.48885119 0.120450944 0.932621539 1.33353341 0.630856693 0.0941316187 0.420765132 1.50497472 0.877203047][0.28384608 -0.251015812 0.136050925 -0.365668863 -0.0665759817 -0.100640431 -0.0527584516 -0.0895450711 -0.0760925189 -0.521015763]\n",
      "[cp 1][2 0][1.33353341 0.48885119 0.257852584 1.48415673 0.630856693 1.50497472 0.877203047 0.322619021 0.279621243 0.932621539][0.243669689 -0.242680684 0.131292984 -0.418666095 -0.0643095225 0.0139266476 -0.00378778111 -0.154004872 0.0471931845 -0.626487672]\n",
      "[cp 1][2 0][0.279621243 1.48415673 0.874063909 0.120450944 0.322619021 0.877203047 0.630856693 0.420765132 0.48885119 1.33353341][0.172607854 -0.133938566 0.0806111246 -0.325665325 -0.0242329389 -0.0507156849 -0.0181963984 -0.0917694345 0.0183893554 -0.598862052]\n",
      "[cp 1][8 0][0.120450944 1.97674763 0.442701429 0.630856693 0.48885119 1.97674763 0.630856693 0.322619021 1.33353341 1.97674763][0.247126117 -0.0396802872 0.0876241475 -0.341219097 -0.0597343259 -0.0686906129 -0.0189034883 -0.117738575 0.0817766562 -0.606230259]\n",
      "[cp 1][2 0][0.442701429 1.55526018 0.932621539 0.727421522 0.48885119 0.322619021 1.48415673 0.120450944 0.48885119 1.55526018][0.268736541 -0.116188228 0.0287166797 -0.327467 -0.0597343259 -0.0295790657 -0.0376055837 -0.0712841153 -0.00537588447 -0.736871958]\n",
      "[cp 1][2 0][0.0941316187 0.0941316187 0.120450944 0.417753518 0.420765132 0.257852584 0.257852584 0.322619021 0.877203047 0.420765132][0.161041647 -0.0479893051 0.127936542 -0.356052935 -0.074344866 -0.143858597 -0.109999016 -0.117738575 -0.214829385 -0.548065782]\n",
      "[cp 1][5 0][0.257852584 1.55526018 0.279621243 0.417753518 0.932621539 0.932621539 0.630856693 0.420765132 0.417753518 0.0941316187][0.227368683 -0.116188228 0.115931407 -0.356052935 -0.0375664756 0.081343025 -0.0189034883 -0.0717099309 -0.0808335394 -0.583384275]\n",
      "[cp 1][4 0][1.16930592 0.0941316187 0.48885119 0.123087429 0.120450944 0.630856693 0.120450944 0.420765132 0.417753518 0.322619021][0.151177734 -0.057309024 0.0320568569 -0.352327675 0.0485698804 -0.0969035104 0.0137807857 -0.0679774284 -0.0701126605 -0.469497204]\n",
      "[cp 1][2 0][0.420765132 0.120450944 0.279621243 0.417753518 0.120450944 0.0941316187 0.442701429 0.279621243 0.120450944 1.55526018][0.0896886 0.0335100517 0.0953918397 -0.349584788 0.0485698804 -0.131281242 -0.13041006 -0.0899092257 -0.0433092564 -0.747875]\n",
      "[cp 1][2 0][0.420765132 0.420765132 0.123087429 1.55526018 1.33353341 0.120450944 0.123087429 0.932621539 0.417753518 0.0941316187][0.0896886 -0.068577446 0.121051416 -0.312874615 -0.088068679 0.000997589 -0.104029603 -0.0454783663 -0.0701126605 -0.593387604]\n",
      "[cp 1][2 0][1.16930592 1.48415673 0.0941316187 0.420765132 0.932621539 0.0537801236 0.0941316187 0.120450944 1.55526018 0.442701429][0.151012823 -0.150100321 0.245741978 -0.348917723 -0.0357143432 -0.15350689 -0.0553117953 -0.0679508597 -0.0469225273 -0.565990329]\n",
      "[cp 1][2 0][1.97674763 0.932621539 1.54116368 0.120450944 0.727421522 0.420765132 1.33353341 0.417753518 0.932621539 0.932621539][0.214091271 0.021298673 0.117628023 -0.315994322 -0.109613918 -0.0680710897 -0.113883279 -0.08126387 0.0239615105 -0.629844248]\n",
      "[cp 1][2 0][0.727421522 0.962290168 0.279621243 0.322619021 0.932621539 1.55526018 0.877203047 0.0941316187 1.55526018 0.630856693][0.232882112 -0.0577908456 0.0934262872 -0.1564105 -0.00973543525 0.0502172559 -0.00367158651 -0.106958359 -0.0562595725 -0.598494887]\n",
      "[cp 1][2 0][0.630856693 0.932621539 0.322619021 1.50497472 0.442701429 0.120450944 0.48885119 0.962290168 0.962290168 0.932621539][0.211272389 0.0213054251 0.059226986 -0.174658909 -0.0685845315 -0.00960205402 -0.159066603 -0.179113254 0.0300276522 -0.629862428]\n",
      "[cp 1][2 0][0.962290168 0.727421522 0.877203047 0.727421522 0.442701429 1.97690988 1.50497472 1.48415673 0.120450944 1.55526018][0.145717248 -0.16304031 0.132079661 -0.328415692 -0.0685845315 -0.0914637074 0.00344142853 -0.0389270112 -0.0269868299 -0.764000058]\n",
      "[cp 1][2 0][0.962290168 0.962290168 0.120450944 0.630856693 0.0941316187 1.97690988 0.0537801236 0.279621243 0.442701429 0.120450944][0.145717248 -0.0577908456 0.125521317 -0.324311823 -0.0511899218 -0.0914637074 -0.0980350748 -0.104752958 -0.13699384 -0.597388387]\n",
      "[cp 1][2 0][0.630856693 0.442701429 1.33353341 0.48885119 0.120450944 0.279621243 0.877203047 1.50497472 1.97690988 0.120450944][0.211272389 0.0475441515 0.268019468 -0.426383555 0.0716867372 -0.0383658409 -0.00367158651 -0.173551485 0.0788901225 -0.597388387]\n",
      "[cp 1][2 0][0.442701429 0.932621539 0.120450944 1.97690988 0.322619021 0.442701429 0.279621243 0.0941316187 0.0537801236 0.322619021][0.247709066 0.0213054251 0.125521317 -0.303959966 -0.0317441896 -0.0183229018 -0.170209438 -0.106958359 0.127460152 -0.482743263]\n",
      "[cp 1][2 0][1.54116368 1.54116368 0.877203047 1.55526018 0.48885119 0.417753518 0.962290168 0.877203047 0.420765132 1.48415673][0.284739047 -0.079826057 0.132079661 -0.328504145 -0.062123768 -0.0748465806 0.0280904155 -0.152786851 -0.0617329814 -0.571427]\n",
      "[cp 1][2 0][0.279621243 1.54116368 0.0941316187 1.54116368 0.420765132 1.48415673 0.727421522 1.48415673 0.279621243 0.279621243][0.1768668 -0.079826057 0.248694673 -0.346655309 -0.0699156746 -0.0427033603 -0.0841987 -0.0389270112 0.0687532872 -0.601541758]\n",
      "[cp 1][2 0][0.279621243 0.630856693 0.962290168 1.54116368 1.50497472 0.417753518 0.630856693 0.0941316187 0.442701429 0.442701429][0.1768668 -0.126721159 0.0627939627 -0.346655309 -0.0683081299 -0.0748465806 -0.0177814346 -0.106958359 -0.13699384 -0.565625846]\n",
      "[cp 1][2 0][0.48885119 1.33353341 0.932621539 0.932621539 0.48885119 0.0537801236 1.50497472 0.0537801236 0.727421522 0.120450944][0.141175687 -0.080072023 0.0292152017 -0.353131831 -0.062123768 -0.147209108 0.00344142853 -0.091388151 -0.0360141881 -0.597388387]\n",
      "[cp 1][2 0][1.50497472 0.0537801236 0.120450944 0.877203047 0.322619021 0.962290168 1.55526018 0.417753518 0.630856693 0.877203047][0.272825718 0.00413949043 0.140541032 -0.515654564 -0.0287260655 -0.106182873 0.0562019721 -0.0562335923 0.0559758209 -0.502551556]\n",
      "[cp 1][2 0][0.417753518 1.54116368 0.877203047 0.420765132 0.962290168 0.0537801236 1.54116368 1.97690988 1.55526018 1.33353341][0.314809084 -0.0705457181 0.144774422 -0.441873521 -0.0401215404 -0.13640894 0.0274176877 -0.0880842954 -0.0345790759 -0.582506418]\n",
      "[cp 1][2 0][0.0941316187 0.0941316187 1.33353341 1.57848966 0.279621243 0.962290168 0.322619021 1.48415673 1.97690988 0.630856693][0.170904323 -0.0824827254 0.25941363 -0.257380128 -0.0477492064 -0.111557744 0.0165604744 -0.00399935059 0.09754242 -0.591140032]\n",
      "[cp 1][2 0][0.727421522 0.630856693 1.33353341 0.0537801236 0.120450944 0.279621243 0.279621243 1.97690988 1.97690988 0.962290168][0.292325169 -0.139424905 0.25941363 -0.428415328 0.0663332492 -0.0367847905 -0.167242169 -0.0880842954 0.09754242 -0.48276186]\n",
      "[cp 1][8 0][0.420765132 0.0537801236 0.420765132 0.877203047 0.279621243 1.33353341 0.442701429 1.97690988 0.322619021 1.55526018][0.143320397 -0.00984157436 0.0614201799 -0.555568278 -0.0796759278 -0.0395549648 -0.10634318 -0.0738349855 0.0963266268 -0.733818233]\n",
      "[cp 1][2 0][0.279621243 1.48415673 0.279621243 1.23125958 1.55526018 0.420765132 0.630856693 1.57848966 1.55526018 0.279621243][0.203000128 -0.182010144 0.117804043 -0.45612365 0.0389733277 -0.0628373697 0.0154674947 -0.131138816 -0.0485109761 -0.615488112]\n",
      "[cp 1][2 0][0.420765132 0.120450944 0.322619021 0.449711233 1.33353341 0.417753518 0.0537801236 0.0537801236 0.0941316187 0.322619021][0.143320397 -0.0150138177 0.0689121 -0.451852381 -0.0966193 -0.0917097777 -0.057978183 -0.0490443967 0.0112293884 -0.491785824]\n",
      "[cp 1][2 0][0.442701429 0.877203047 1.57848966 0.48885119 0.322619021 1.48415673 0.0941316187 0.120450944 0.962290168 0.279621243][0.27898407 -0.0405708849 0.230187967 -0.519240499 -0.0535949394 -0.0523846075 -0.0140733141 -0.0435415953 0.0729238391 -0.615488112]\n"
     ]
    },
    {
     "name": "stderr",
     "output_type": "stream",
     "text": [
      "[cp 1][8 2][0.0941316187 1.33353341 0.120450944 0.449711233 0.449711233 0.877203047 0.420765132 0.120450944 1.97690988 0.442701429][0.160625666 -0.10293439 0.155955926 -0.451852381 -0.131164 -0.0594336241 -0.0515692681 -0.0435415953 0.0848132446 -0.578714132]\n",
      "[cp 1][2 0][0.120450944 0.322619021 1.48415673 0.120450944 1.33353341 0.630856693 0.279621243 1.54116368 0.120450944 0.442701429][0.284241557 -0.0775070488 0.264349133 -0.432138473 -0.0966193 -0.132970855 -0.136321366 -0.0523219816 -0.0410649404 -0.578714132]\n",
      "[cp 1][2 0][0.322619021 0.442701429 0.0941316187 0.322619021 0.420765132 0.279621243 0.48885119 0.417753518 1.57848966 0.449711233][0.286813349 0.0427558124 0.282763869 -0.277494252 -0.0877774209 -0.0510542654 -0.129388034 -0.0287852436 -0.00405856222 -0.473921657]\n",
      "[cp 1][2 0][1.55526018 0.48885119 0.962290168 0.48885119 0.0537801236 0.160272524 1.57848966 1.55526018 0.120450944 0.279621243][0.173998579 -0.281302482 0.0805169716 -0.533084 -0.0455191284 0.0344600715 0.0178560764 -0.162831366 -0.0517822 -0.6137923]\n",
      "[cp 1][2 0][0.48885119 1.57848966 0.877203047 0.279621243 0.962290168 0.0537801236 0.442701429 0.420765132 1.57848966 1.23125958][0.181380838 -0.197809055 0.159848794 -0.42566511 -0.0390358716 -0.135632724 -0.106876411 -0.0545107499 -0.0234780982 -0.638014]\n",
      "[cp 1][4 0][1.97690988 0.417753518 0.420765132 0.279621243 0.0941316187 1.23125958 0.48885119 0.877203047 0.120450944 0.48885119][0.249901801 -0.167222932 0.0666327253 -0.42566511 -0.0671967193 0.0253423881 -0.137055203 -0.140781984 -0.0524849296 -0.636048377]\n",
      "[cp 1][8 0][1.23125958 0.48885119 0.962290168 1.61459827 1.56398499 0.630856693 1.97706985 0.0941316187 0.0941316187 0.0941316187][0.262027055 -0.283368289 0.0760088563 -0.481982946 -0.0853530839 -0.119765162 -0.0562207066 -0.0814005584 -0.00294886529 -0.637138546]\n",
      "[cp 1][2 0][0.420765132 0.0537801236 1.97706985 0.279621243 0.962290168 0.0537801236 0.420765132 0.962290168 0.0537801236 0.442701429][0.12108326 -0.0218641572 0.167250752 -0.385250121 -0.0385263488 -0.145809621 -0.0682035834 -0.164077714 0.103128411 -0.586481035]\n",
      "[cp 1][2 0][0.449711233 1.56398499 0.630856693 0.120450944 1.61459827 0.120450944 0.877203047 0.120450944 0.442701429 0.120450944][0.280151516 -0.149131 0.188055709 -0.410312504 0.0380942449 0.00187267177 0.00256648567 -0.0760920346 -0.185090482 -0.625501931]\n",
      "[cp 1][2 0][0.160272524 1.05397105 1.61459827 0.371736735 0.449711233 1.33353341 0.0537801236 0.962290168 0.449711233 0.420765132][0.287243068 0.0189269893 0.123924285 -0.417880267 -0.121542864 -0.0516065 -0.0788788721 -0.138722837 -0.024261564 -0.581240177]\n",
      "[cp 1][2 0][0.417753518 1.56398499 1.97722757 0.442701429 0.449711233 0.449711233 0.371736735 1.97722757 1.57848966 0.0537801236][0.296939135 -0.14492552 0.167538837 -0.373277307 -0.121542864 -0.139468506 0.0111823529 -0.0961142 -0.039004989 -0.690138102]\n",
      "[cp 1][2 0][0.449711233 0.449711233 0.962290168 0.877203047 0.962290168 0.962290168 1.97738314 1.61459827 1.56398499 0.877203047][0.255811334 -0.147545055 0.097798638 -0.521121502 -0.0459656641 -0.14714697 -0.0539112501 -0.166964024 0.0629007369 -0.553826034]\n",
      "[cp 1][2 0][0.0537801236 1.97738314 1.61459827 0.877203047 0.371736735 0.0537801236 0.371736735 0.442701429 0.449711233 1.33353341][0.26021564 -0.0530762 0.123923413 -0.521121502 -0.110701784 -0.18732585 0.011181944 -0.0150737036 -0.0242612883 -0.624288]\n",
      "[cp 1][2 0][0.279621243 1.54116368 1.33353341 0.160272524 0.962290168 0.279621243 0.120450944 1.33353341 0.0941316187 1.33353341][0.195854455 -0.0849633962 0.263446063 -0.220340058 -0.0475479402 -0.0743585899 0.0340144634 -0.0488641933 -0.00385621935 -0.631144643]\n",
      "[cp 1][2 0][0.48885119 0.279621243 0.279621243 1.57848966 0.120450944 0.962290168 0.417753518 0.279621243 0.962290168 0.279621243][0.155385524 -0.00687788427 0.128098816 -0.244438425 0.0477323979 -0.148024336 -0.0874577463 -0.0701706409 0.0497135073 -0.628750801]\n",
      "[cp 1][2 0][1.57003796 0.442701429 0.877203047 1.54116368 1.05397105 0.0537801236 0.442701429 1.57848966 1.57003796 0.279621243][0.147356734 0.0447122082 0.160435274 -0.421808392 -0.0383633599 -0.192300677 -0.100965776 -0.132277414 -0.0776998177 -0.628750801]\n",
      "[cp 1][2 0][1.57848966 1.57848966 0.48885119 0.120450944 1.97738314 0.442701429 0.279621243 1.33353341 0.449711233 0.279621243][0.275838405 -0.169672295 0.058925353 -0.387828708 -0.0454694778 -0.0631842539 -0.144053698 -0.0488641933 -0.0192791149 -0.628750801]\n",
      "[cp 1][2 0][0.0537801236 0.279621243 0.120450944 1.05397105 1.97738314 0.0941316187 0.0941316187 1.97738314 0.371736735 0.877203047][0.267820388 -0.0100735147 0.178320184 -0.420083463 -0.0428948589 -0.160944656 -0.00391705753 -0.0908331424 0.0418034121 -0.56194]\n",
      "[cp 1][2 0][0.0941316187 0.160272524 0.417753518 1.05397105 0.0537801236 0.877203047 1.97738314 1.57003796 0.420765132 0.48885119][0.155345306 -0.084461771 0.0900974125 -0.420083463 -0.0221466478 -0.0943089426 -0.0469213389 -0.161517158 -0.0664276 -0.652632296]\n",
      "[cp 1][2 0][0.371736735 0.279621243 0.371736735 0.0941316187 0.371736735 0.449711233 0.449711233 0.0537801236 1.54116368 0.417753518][0.226772591 -0.0100735147 0.205694407 -0.439209849 -0.109816149 -0.139378726 -0.0559890643 -0.0591268316 0.0081666559 -0.447539866]\n",
      "[cp 1][2 0][0.120450944 1.56398499 0.442701429 0.962290168 1.05397105 0.48885119 0.449711233 0.0941316187 0.962290168 1.56398499][0.267281741 -0.14207612 0.119223274 -0.292497694 -0.0377323106 -0.165659577 -0.0559890643 -0.0886107385 0.0501674451 -0.582316875]\n",
      "[cp 1][6 0][0.120450944 0.279621243 0.0537801236 0.877203047 0.449711233 0.449711233 0.962290168 0.371736735 0.371736735 0.962290168][0.267281741 -0.0100735147 0.135646105 -0.523243189 -0.123195916 -0.139378726 0.0494844615 -0.00626385212 0.0418034121 -0.526588261]\n",
      "[cp 1][2 0][1.54116368 0.877203047 1.97738314 1.57003796 1.54116368 0.962290168 0.449711233 0.120450944 1.97738314 1.97738314][0.26832056 -0.0497059859 0.17112802 -0.401680678 0.00674287276 -0.150365 -0.0559890643 -0.0598753653 0.0751794875 -0.644098461]\n",
      "[cp 1][2 0][1.56398499 0.962290168 1.57003796 0.279621243 0.279621243 0.0941316187 0.877203047 0.449711233 0.449711233 0.962290168][0.315354347 -0.0490941815 0.12929368 -0.361024529 -0.0637998655 -0.160944656 0.0240905229 -0.0702225938 -0.0162531212 -0.526588261]\n",
      "[cp 1][2 0][0.877203047 0.962290168 0.160272524 0.877203047 1.631791 0.962290168 0.120450944 1.631791 0.962290168 0.420765132][0.263827145 -0.0490941815 0.0721522272 -0.523243189 -0.0876532 -0.150365 0.0341943838 -0.127971798 0.0501674451 -0.58370167]\n",
      "[cp 1][2 0][1.57003796 1.57003796 0.371736735 0.120450944 0.160272524 0.420765132 1.56398499 0.48885119 1.631791 0.48885119][0.15298216 -0.107057109 0.198687777 -0.388966322 -0.0497242212 -0.127498507 0.02768635 -0.113381393 -0.0499585047 -0.686535656]\n",
      "[cp 1][8 0][0.371736735 1.56398499 0.48885119 1.05397105 0.962290168 1.97738314 0.417753518 1.33353341 1.97738314 1.631791][0.232546031 -0.131816253 0.0563808829 -0.416140914 -0.0636237264 -0.139784276 -0.0927631482 -0.0622598976 0.0544877574 -0.665994287]\n",
      "[cp 1][2 0][0.48885119 1.33353341 0.449711233 1.631791 0.417753518 0.48885119 1.56398499 0.279621243 0.48885119 0.0941316187][0.176513746 -0.0564451441 0.107981198 -0.242960334 -0.0877580643 -0.178125724 0.0200964175 -0.105441704 0.00133755058 -0.694518745]\n",
      "[cp 1][2 0][1.05397105 0.417753518 0.449711233 0.420765132 0.160272524 0.0941316187 0.449711233 0.417753518 0.371736735 1.33353341][0.254344851 -0.111878648 0.107981198 -0.437263072 -0.0439046174 -0.179765299 -0.0482522286 -0.0571368448 0.0249461792 -0.671905696]\n",
      "[cp 1][2 0][0.442701429 1.56398499 0.0941316187 0.279621243 1.62549818 0.160272524 0.0941316187 0.371736735 0.420765132 0.160272524][0.269515306 -0.131816253 0.265588284 -0.338059306 0.0240489319 -0.0713156238 -0.0196578726 -0.033180289 -0.0945113599 -0.564628601]\n",
      "[cp 1][2 0][0.417753518 1.631791 1.62549818 0.0537801236 1.62549818 0.417753518 0.420765132 0.160272524 1.56398499 1.56398499][0.310305536 -0.158211738 0.122900799 -0.425189078 0.0221792944 -0.127668485 -0.0544499531 -0.137489706 0.0580521151 -0.635252237]\n",
      "[cp 1][2 0][0.420765132 0.449711233 1.97738314 1.97738314 0.160272524 0.120450944 0.449711233 0.449711233 0.417753518 0.120450944][0.130444229 -0.136832461 0.190215737 -0.412393212 -0.0389538631 -0.0400776826 -0.0526014194 -0.0991439074 -0.0739333 -0.68235445]\n",
      "[cp 1][4 0][1.54116368 0.279621243 0.962290168 0.160272524 0.120450944 0.420765132 0.449711233 0.120450944 0.58172673 1.05397105][0.27179572 0.0103978682 0.0960632637 -0.239017874 0.0557908937 -0.128621235 -0.0525998399 -0.100974694 -0.258485049 -0.706348717]\n",
      "[cp 1][2 0][0.160272524 1.05397105 1.56398499 0.449711233 0.0537801236 1.56398499 0.420765132 1.33353341 1.62549818 0.235875949][0.303668082 0.0533721745 0.281195343 -0.406721652 -0.0214575455 -0.122493535 -0.0563980788 -0.0677984208 -0.0835730284 -0.64059341]\n",
      "[cp 1][2 0][0.417753518 1.97753656 0.235875949 0.279621243 0.58172673 1.97753656 1.05397105 0.160272524 0.58172673 0.449711233][0.315963089 -0.037750423 0.123286799 -0.369709939 0.0125141554 -0.137335107 -0.0714382678 -0.1346 -0.251086026 -0.512052715]\n",
      "[cp 1][2 0][0.0537801236 0.48885119 0.962290168 0.0537801236 0.120450944 0.235875949 0.0537801236 1.05397105 0.235875949 1.62549818][0.285275072 -0.236763433 0.113391861 -0.434046268 0.050607726 -0.0944752246 -0.108663663 -0.0743142962 -0.221230507 -0.789135814]\n",
      "[cp 1][2 0][1.631791 1.97753656 0.0537801236 0.962290168 0.0537801236 0.48885119 0.449711233 0.0941316187 1.62549818 0.962290168][0.290849626 -0.037750423 0.118132278 -0.320369691 -0.020015005 -0.176754445 -0.0581167638 -0.111134335 -0.0887705386 -0.577527225]\n",
      "[cp 1][5 2][0.0537801236 1.97753656 0.0941316187 0.120450944 1.62549818 1.62549818 0.235875949 0.0537801236 0.58172673 1.67246437][0.28884396 -0.0399730913 0.282271951 -0.420484722 0.0258729123 0.0411467329 -0.101512864 -0.0706508458 -0.251018703 -0.682630956]\n",
      "[cp 1][2 0][1.95291889 0.393164724 1.64198649 0.276365906 0.194202557 0.393164724 0.393164724 0.0783755854 0.937302411 0.240393117][0.418458134 -0.241895884 0.368591964 -0.408766747 0.00820202753 -0.178379253 -0.151988491 -0.240008488 -0.101178825 -0.736292481]\n",
      "[cp 1][2 0][0.220750287 0.276365906 0.237455443 1.20969105 1.20969105 0.565613925 0.237455443 0.317939162 1.95352221 0.317939162][0.324175298 -0.0281216931 0.267641664 -0.312216729 -0.146894455 -0.187520444 -0.184154123 -0.192320094 0.0794296265 -0.806887627]\n",
      "[cp 1][2 0][1.47852719 0.276365906 0.237455443 0.317939162 0.393164724 1.31265914 1.67588985 0.393164724 1.31265914 0.220750287][0.419525206 -0.0281216931 0.267641664 -0.244268626 -0.0862767398 -0.146661177 -0.143242478 -0.181704894 -0.155533299 -0.793934464]\n",
      "[cp 1][2 0][0.0783755854 0.192196816 1.20969105 1.20969105 0.192196816 0.220750287 0.737450361 0.240393117 1.95358396 1.64198649][0.345771372 -0.141321883 0.445733726 -0.308364809 -0.112919457 -0.273847759 -0.0213809963 -0.224793941 -0.02078484 -0.736068726]\n",
      "[cp 1][2 0][1.64198649 0.565613925 1.64198649 0.393164724 1.67588985 0.276365906 0.937302411 0.393164724 0.393164724 1.67588985][0.349364907 -0.0612848401 0.36773783 -0.218833819 -0.0233032964 -0.120324343 0.0578096695 -0.178983375 -0.087157093 -0.850756884]\n",
      "[cp 1][2 0][0.237455443 1.95352221 0.317939162 0.737450361 0.0783755854 0.317939162 0.220750287 1.31265914 0.565613925 1.39694703][0.286248744 -0.199406385 0.254986316 -0.374328 -0.0179352928 -0.0541506931 -0.0141646583 -0.354985327 -0.0733113363 -0.628222]\n",
      "[cp 1][2 0][0.276365906 0.237455443 1.68043852 0.565613925 0.220750287 0.220750287 0.240393117 0.317939162 0.240393117 0.0783755854][0.464336365 -0.283158 0.367982954 -0.307771057 -0.0514492 -0.272193193 -0.191681311 -0.19056952 -0.00245668367 -0.662278891]\n",
      "[cp 1][2 0][1.67588985 0.737450361 0.317939162 0.937302411 0.393164724 0.0783755854 0.220750287 1.68043852 1.20969105 0.317939162][0.371063769 -0.251594037 0.254986316 -0.297753304 -0.0821148455 -0.129711986 -0.0141646583 -0.196755409 -0.0368906185 -0.809225559]\n",
      "[cp 1][2 0][0.237455443 0.220750287 1.20969105 0.240393117 0.565613925 1.67588985 1.95358396 0.237455443 0.393164724 0.565613925][0.286248744 -0.0939167067 0.444483429 -0.325161129 0.00281680189 -0.219321102 0.0186254382 -0.234810054 -0.0857217312 -0.834471405]\n",
      "[cp 1][2 0][0.194202557 1.20969105 0.237455443 0.565613925 0.276365906 0.737450361 0.240393117 0.276365906 0.937302411 0.276365906][0.416930556 -0.149909735 0.266915917 -0.307771057 -0.0900709853 -0.082837224 -0.191681311 -0.185299754 -0.1068215 -0.697103083]\n",
      "[cp 1][2 0][1.95352221 0.192196816 0.592280388 0.276365906 0.237455443 0.937302411 0.592280388 0.592280388 1.95358396 0.220750287][0.380213946 -0.148477197 0.315906137 -0.396384746 -0.0888052359 -0.227328569 -0.163946629 -0.273745894 -0.00798495114 -0.792532802]\n",
      "[cp 1][2 0][0.237455443 0.565613925 0.240393117 0.937302411 0.220750287 0.240393117 1.67588985 1.20969105 0.240393117 1.68043852][0.292195559 -0.0638807863 0.246215746 -0.295041 -0.042107895 -0.204922542 -0.152548432 -0.19658035 0.00394679233 -0.74589777]\n",
      "[cp 1][2 0][0.237455443 0.393164724 0.317939162 0.0783755854 1.31265914 1.67588985 0.192196816 0.0783755854 0.237455443 0.937302411][0.292195559 -0.229951054 0.246313632 -0.163175955 -0.0625371858 -0.230600268 -0.0597895943 -0.249642342 -0.0946030542 -0.801298618]\n",
      "[cp 1][2 0][1.68043852 1.20969105 0.240393117 0.276365906 0.737450361 0.237455443 0.237455443 1.39694703 0.565613925 1.68043852][0.352996677 -0.143652186 0.246215746 -0.396384746 0.0375966281 -0.260529786 -0.174289897 -0.199067041 -0.0640172362 -0.74589777]\n",
      "[cp 1][2 0][0.276365906 1.39694703 0.317939162 1.20969105 1.39694703 0.220750287 1.20969105 1.39694703 1.39694703 0.276365906][0.46418342 -0.170716122 0.247142866 -0.300997198 -0.059338443 -0.26520884 -0.1494243 -0.201284483 -0.0880237743 -0.700220525]\n",
      "[cp 1][2 0][0.393164724 0.737450361 0.937302411 0.737450361 1.95358396 0.220750287 0.937302411 1.39694703 0.565613925 1.31265914][0.442153 -0.253576547 0.352079242 -0.362530589 -0.0139655052 -0.26520884 0.0452393182 -0.201284483 -0.0602066368 -0.874653339]\n",
      "[cp 1][2 0][1.71107447 0.240393117 1.67588985 0.393164724 0.192196816 0.192196816 0.220750287 1.39694703 1.31265914 1.71107447][0.35407871 -0.113606118 0.431638658 -0.207216263 -0.114301771 -0.239361897 -0.0255220905 -0.201284483 -0.143372446 -0.748317957]\n",
      "[cp 1][2 0][0.565613925 0.737450361 0.737450361 1.95358396 1.31265914 0.088995412 0.276365906 0.317939162 0.220750287 0.240393117][0.372935236 -0.253279865 0.446838528 -0.423289925 -0.0645689294 -0.436957628 -0.0229062121 -0.201328278 0.127959907 -0.745866835]\n",
      "[cp 1][2 0][0.393164724 0.276365906 0.393164724 0.220750287 0.220750287 0.276365906 1.95358396 1.20969105 1.95352221 0.458130032][0.490233958 -0.0221464783 0.420701593 -0.0952619165 -0.0406623892 -0.109209344 0.0493217148 -0.186211169 0.0949543342 -0.771518409]\n"
     ]
    },
    {
     "name": "stderr",
     "output_type": "stream",
     "text": [
      "[cp 1][2 0][0.0783755854 1.95352221 0.203639433 0.237455443 0.0783755854 1.95352221 1.20969105 0.565613925 0.237455443 0.237455443][0.372820497 -0.224948809 0.430388153 -0.205299824 0.000404929975 -0.236651391 -0.103869714 -0.168734729 -0.115273118 -0.788357735]\n",
      "[cp 1][2 0][0.237455443 0.237455443 0.317939162 0.203639433 1.70740402 0.317939162 0.240393117 1.95352221 0.0783755854 0.937302411][0.288488388 -0.311037481 0.267811537 -0.182907164 -0.00801027939 -0.0869170651 -0.16915527 -0.244477883 -0.107042298 -0.826114416]\n",
      "[cp 1][2 0][0.240393117 0.237455443 0.317939162 1.71107447 1.95352221 1.39694703 0.203639433 0.240393117 0.317939162 1.20969105][0.285460711 -0.311037481 0.267811537 -0.322220922 -0.0563632883 -0.279566318 -0.123597182 -0.234199286 -0.24733685 -0.626371384]\n",
      "[cp 1][2 0][1.31265914 0.276365906 0.220750287 0.237455443 0.203639433 0.0783755854 1.95352221 0.317939162 0.937302411 1.31265914][0.374412417 -0.0333827548 0.407228768 -0.205299824 -0.0785127729 -0.173337653 -0.0670815706 -0.204760507 -0.101666391 -0.908594847]\n",
      "[cp 1][2 0][0.192196816 0.458130032 1.95358396 0.203639433 1.71107447 1.95352221 1.71107447 0.237455443 1.95358396 0.203639433][0.480732709 -0.265625328 0.503133476 -0.182907164 -0.0386849195 -0.236651391 -0.132433519 -0.254006624 -0.0174738616 -0.784348249]\n",
      "[cp 1][2 0][1.31265914 0.088995412 1.31265914 1.95352221 1.31265914 1.95352221 1.39694703 1.39694703 0.276365906 0.203639433][0.374412417 -0.0793125406 0.406573206 -0.313326657 -0.0324087925 -0.236651391 -0.12091589 -0.194729462 -0.0977908671 -0.784348249]\n",
      "[cp 1][2 0][0.458130032 0.088995412 0.237455443 0.592280388 0.237455443 1.71107447 0.240393117 0.0783755854 0.592280388 0.192196816][0.35364902 -0.0849792138 0.288073748 -0.306429237 -0.0678344518 -0.203719914 -0.16582799 -0.250227898 0.0144972987 -0.611943305]\n",
      "[cp 1][2 0][1.45439041 0.0783755854 0.592280388 0.458130032 0.458130032 0.088995412 0.237455443 1.39694703 0.203639433 1.45439041][0.373903185 -0.195557758 0.345092416 -0.320135325 0.0639350563 -0.476351 -0.15249911 -0.186274081 -0.107585065 -0.905056477]\n",
      "[cp 1][2 0][0.240393117 0.0783755854 0.192196816 0.592280388 0.276365906 0.220750287 1.70740402 1.70740402 0.240393117 0.203639433][0.295317471 -0.197766334 0.360898137 -0.297452122 -0.0524910092 -0.290910631 -0.0948777571 -0.168840617 -0.0154805034 -0.795569956]\n",
      "[cp 1][2 0][1.39694703 0.088995412 0.220750287 0.220750287 0.220750287 0.240393117 0.240393117 0.192196816 0.0783755854 1.20969105][0.441921443 -0.0883991793 0.42320016 -0.0758110508 -0.0277593099 -0.226039872 -0.162214264 -0.122463182 -0.110935673 -0.614151835]\n",
      "[cp 1][2 0][0.0783755854 0.0783755854 1.20969105 0.240393117 0.592280388 1.71107447 0.458130032 0.458130032 0.592280388 0.565613925][0.370893151 -0.203479052 0.471842617 -0.27814585 -0.0047406964 -0.195567 0.0065368088 -0.228631675 0.00715510361 -0.852289081]\n",
      "[cp 1][2 0][1.20969105 0.203639433 1.71107447 1.95352221 0.458130032 0.276365906 1.95352221 0.937302411 0.592280388 0.237455443][0.313658684 -0.265836418 0.374637365 -0.292562187 0.0523431376 -0.11280939 -0.0623608604 -0.265247583 0.00715510361 -0.797449887]\n",
      "[cp 1][2 0][0.203639433 0.317939162 1.50604892 0.592280388 0.0783755854 1.95352221 0.565613925 0.565613925 0.458130032 0.276365906][0.443175226 -0.154068083 0.366986841 -0.308869183 -0.0076651834 -0.223599166 -0.0532626398 -0.165694773 -0.0605301969 -0.710002124]\n",
      "[cp 1][2 0][0.565613925 0.192196816 0.240393117 0.276365906 0.937302411 0.192196816 0.937302411 0.317939162 0.565613925 0.088995412][0.413395315 -0.168086573 0.268078089 -0.358633816 0.055021394 -0.25515902 0.0637633726 -0.194867074 -0.108278655 -0.849949896]\n",
      "[cp 1][2 0][0.240393117 0.240393117 0.240393117 1.70740402 1.20969105 0.937302411 0.203639433 0.220750287 0.276365906 0.192196816][0.28712669 -0.147224411 0.268078089 -0.201985613 -0.126626849 -0.264312565 -0.12189687 -0.266336292 -0.0902369618 -0.625328064]\n",
      "[cp 1][2 0][0.592280388 1.95358396 0.237455443 0.220750287 1.95352221 0.458130032 0.0783755854 1.20969105 1.71107447 1.95352221][0.376108348 -0.276379108 0.297610611 -0.0864995569 -0.0697179809 -0.122843079 0.00890397746 -0.187408149 -0.14076452 -0.828428745]\n",
      "[cp 1][2 0][0.276365906 0.0783755854 0.317939162 0.592280388 1.54369736 1.95352221 1.54369736 0.276365906 0.317939162 0.276365906][0.500218 -0.206197143 0.281816 -0.31668961 -0.0525955968 -0.222883254 -0.0293154866 -0.184002817 -0.244213939 -0.709916711]\n",
      "[cp 1][2 0][1.57924521 1.20969105 1.95358396 0.192196816 0.237455443 0.937302411 0.220750287 0.937302411 1.20969105 0.592280388][0.44569248 -0.177940264 0.505137861 -0.283991545 -0.0806994885 -0.264312565 0.0310837217 -0.271024406 -0.0361741558 -0.807237387]\n",
      "[cp 1][2 0][0.276365906 1.95358396 0.088995412 0.565613925 0.088995412 0.240393117 1.95352221 1.71107447 0.088995412 0.088995412][0.501527667 -0.284044147 0.35915491 -0.261809766 0.0202902444 -0.226073384 -0.0755372792 -0.188698247 -0.000294532627 -0.849458814]\n",
      "[cp 1][2 0][0.203639433 1.95358396 0.088995412 0.0783755854 1.95358396 1.95352221 0.192196816 1.95352221 1.95352221 0.220750287][0.440621316 -0.273898423 0.369958818 -0.152798966 -0.0182204954 -0.221072316 -0.0637915879 -0.230907053 0.0544175766 -0.835338056]\n",
      "[cp 1][2 0][0.937302411 1.54369736 1.54369736 0.240393117 0.937302411 0.133459792 1.70740402 1.63235557 0.237455443 1.71107447][0.431229085 -0.277538508 0.419315547 -0.299425811 0.0574887581 -0.120628372 -0.113174006 -0.185836658 -0.109539866 -0.794474125]\n",
      "[cp 1][2 0][0.565613925 1.606161 1.63235557 0.592280388 1.71107447 1.20969105 0.565613925 1.70740402 0.565613925 0.0938964784][0.410859823 -0.28036952 0.386737913 -0.326246262 -0.0577426478 -0.201421127 -0.0650950447 -0.169093952 -0.118269116 -0.853491545]\n",
      "[cp 1][2 0][0.237455443 1.71107447 0.937302411 0.240393117 0.458130032 1.20969105 0.0938964784 1.70740402 1.606161 0.088995412][0.284503937 -0.226700619 0.395243168 -0.293951929 0.0485607833 -0.200327396 -0.13269788 -0.170002371 -0.150292039 -0.887227237]\n",
      "[cp 1][2 0][0.220750287 1.71107447 0.565613925 1.606161 1.606161 0.458130032 0.565613925 0.458130032 0.592280388 0.240393117][0.343340397 -0.207764208 0.47941944 -0.249664247 -0.0472779 -0.153700963 -0.072185047 -0.270350695 -0.00435362943 -0.865636587]\n",
      "[cp 1][2 0][0.317939162 0.592280388 1.95358396 1.67290425 1.95352221 0.638481677 0.088995412 1.95352221 1.606161 0.220750287][0.46021384 -0.0628059283 0.515299 -0.338512421 -0.0501777753 -0.30565539 -0.275011688 -0.256468654 -0.164218977 -0.900029182]\n",
      "[cp 1][2 0][0.237455443 0.0783755854 1.67290425 0.638481677 1.71107447 1.95352221 1.95352221 1.71107447 0.088995412 1.71107447][0.301338106 -0.186522633 0.377032876 -0.321471512 -0.0641947687 -0.269538909 -0.11887794 -0.203604192 -0.00986285135 -0.830868125]\n",
      "[cp 1][2 0][0.0938964784 0.0783755854 0.237455443 0.592280388 0.237455443 0.0783755854 1.606161 0.237455443 0.317939162 1.606161][0.425213575 -0.186522633 0.308288753 -0.356353849 -0.073614724 -0.194288731 -0.0510564484 -0.289530754 -0.267772913 -1.01238942]\n",
      "[cp 1][2 0][1.71107447 1.20969105 0.0783755854 0.0938964784 0.133459792 0.133459792 0.240393117 1.20969105 0.458130032 1.606161][0.390728116 -0.182818472 0.487995982 -0.179116249 -0.0464871079 -0.142926678 -0.205078542 -0.208373114 -0.060012389 -1.01238942]\n",
      "[cp 1][2 0][0.638481677 1.20969105 0.638481677 0.317939162 0.0783755854 1.95352221 0.565613925 0.0938964784 0.317939162 1.95352221][0.453747481 -0.182818472 0.396517068 -0.21679309 -0.021298185 -0.269538909 -0.072185047 -0.191631556 -0.267772913 -0.90161711]\n",
      "[cp 1][2 0][0.458130032 0.133459792 0.317939162 0.565613925 0.192196816 0.192196816 1.606161 0.592280388 0.0938964784 1.20969105][0.409206748 -0.0512142032 0.290814251 -0.292615801 -0.102540635 -0.303277791 -0.0609181412 -0.335732371 -0.0796976388 -0.794911742]\n",
      "[cp 1][2 0][1.67290425 0.0783755854 0.565613925 1.70740402 0.565613925 1.70740402 1.95358396 1.71107447 0.0938964784 0.0783755854][0.44366625 -0.158388764 0.473653883 -0.248958319 0.00128926337 -0.305856168 0.0187370032 -0.217142016 -0.0796976388 -0.803412437]\n",
      "[cp 1][2 0][0.088995412 1.70500183 1.606161 0.240393117 0.592280388 0.088995412 0.240393117 0.377690345 1.70500183 0.240393117][0.464584649 -0.251872808 0.398144156 -0.35722819 -0.0320057496 -0.562762797 -0.234685794 -0.315290332 -0.0923785269 -0.891121805]\n",
      "[cp 1][2 0][0.240393117 1.95358396 0.0783755854 0.0938964784 0.220750287 0.0938964784 1.606161 0.458130032 0.237455443 1.71107447][0.33189857 -0.299061328 0.482898623 -0.191956878 -0.061361786 -0.219377533 -0.0599682704 -0.307595938 -0.099638544 -0.863970339]\n",
      "[cp 1][2 0][0.377690345 0.317939162 0.592280388 0.240393117 0.565613925 0.592280388 0.377690345 1.606161 1.606161 0.220750287][0.474228919 -0.147495851 0.374875665 -0.35722819 -0.00059016794 -0.197668463 0.0206259154 -0.389422178 -0.18901898 -0.921211839]\n",
      "[cp 1][2 0][0.237455443 0.133459792 0.220750287 1.95352221 0.088995412 1.71107447 0.0938964784 0.0783755854 1.606161 0.0783755854][0.322959632 -0.0539380312 0.42377165 -0.357005477 0.0153420381 -0.258166105 -0.169932008 -0.26864478 -0.18901898 -0.80465287]\n",
      "[cp 1][2 0][0.377690345 1.606161 0.240393117 0.088995412 0.377690345 0.565613925 0.088995412 1.70740402 1.95358396 1.606161][0.462134689 -0.253511757 0.275047392 -0.321682662 0.0292947702 -0.252381533 -0.306894571 -0.212992847 -0.0821456 -1.03589559]\n",
      "[cp 1][2 0][0.0938964784 1.606161 0.458130032 0.565613925 1.20969105 0.458130032 0.317939162 1.95358396 0.565613925 0.592280388][0.426837474 -0.253511757 0.47339797 -0.281653643 -0.14705126 -0.188102365 -0.14222236 -0.246958911 -0.137191519 -0.91393882]\n",
      "[cp 1][2 0][0.458130032 0.377690345 0.565613925 1.95358396 0.458130032 1.70740402 0.377690345 1.20969105 1.70500183 0.133459792][0.40526861 -0.0707843 0.46251756 -0.419623852 0.0283493567 -0.311068565 0.00598490704 -0.224049 -0.0970419347 -0.819006383]\n",
      "[cp 1][2 0][1.20969105 0.377690345 1.95358396 0.317939162 0.088995412 1.71107447 0.317939162 1.95352221 0.377690345 0.317939162][0.351739377 -0.0707843 0.508129 -0.219098821 0.0102813318 -0.25551945 -0.14222236 -0.275889874 -0.148035824 -0.977547765]\n",
      "[cp 1][2 0][1.20969105 0.458130032 0.240393117 0.192196816 1.606161 0.377690345 1.606161 0.565613925 0.133459792 0.565613925][0.35171935 -0.306177169 0.275081038 -0.336421311 -0.0578047559 -0.328806281 -0.0733115301 -0.214010403 -0.0905362219 -0.960103393]\n",
      "[cp 1][2 0][0.133459792 1.71107447 1.70740402 1.95352221 1.71107447 0.458130032 0.592280388 0.363013178 0.220750287 0.133459792][0.485750794 -0.20202668 0.446276665 -0.343400419 -0.0686113909 -0.18822068 -0.173464537 -0.313866705 0.0432912596 -0.819145918]\n",
      "[cp 1][2 0][1.70740402 0.377690345 1.95352221 1.70500183 0.377690345 0.363013178 0.240393117 0.220750287 1.20969105 0.565613925][0.412725538 -0.0707617849 0.472562909 -0.364348203 0.0293395929 -0.343008548 -0.250880867 -0.305281192 -0.0915952176 -0.960103393]\n",
      "[cp 1][2 0][1.71107447 0.133459792 1.95352221 1.606161 0.377690345 0.0938964784 0.363013178 0.133459792 0.592280388 0.192196816][0.383813888 -0.0642455369 0.472562909 -0.253255635 0.0293395929 -0.216923147 -0.276701421 -0.258692145 0.0040663816 -0.724915922]\n",
      "[cp 1][2 0][1.95423031 0.0783755854 1.20969105 1.606161 1.70500183 0.220750287 0.088995412 1.70740402 0.317939162 0.192196816][0.520615399 -0.159136012 0.465673834 -0.250165105 -0.0295842532 -0.343530595 -0.308833212 -0.214889526 -0.287395477 -0.727223158]\n",
      "[cp 1][2 0][0.377690345 1.95352221 0.088995412 0.088995412 1.20969105 0.133459792 0.240393117 0.0783755854 0.133459792 0.0938964784][0.462823659 -0.263696045 0.35280931 -0.318905532 -0.147604585 -0.170553625 -0.252667516 -0.262340814 -0.0880403072 -0.933105648]\n",
      "[cp 1][2 0][1.606161 0.363013178 1.95352221 0.592280388 1.70740402 0.458130032 1.70740402 0.19387114 0.088995412 1.70740402][0.413353622 -0.325319648 0.470893115 -0.362280637 -0.0517416 -0.211961463 -0.140123621 -0.331763446 -0.0287482534 -1.01551116]\n",
      "[cp 1][2 0][0.458130032 1.70740402 1.70500183 0.0783755854 0.363013178 0.0783755854 0.458130032 0.363013178 1.70500183 0.192196816][0.418863922 -0.174023807 0.367383838 -0.182627201 -0.0951103717 -0.251995951 -0.0762758479 -0.328502804 -0.0918041 -0.741942883]\n",
      "[cp 1][2 0][0.240393117 0.565613925 1.606161 0.592280388 1.95417023 0.0938964784 1.73611784 1.95485866 0.088995412 0.0938964784][0.350620925 -0.0898515284 0.379341125 -0.362269133 -0.0469561368 -0.231118307 -0.171101 -0.262658775 -0.028759174 -0.956487417]\n",
      "[cp 1][2 0][1.95417023 0.363013178 0.458130032 0.192196816 0.240393117 0.088995412 0.192196816 0.317939162 1.70740402 1.73611784][0.423646837 -0.32535395 0.473157972 -0.340791404 -0.0296276864 -0.590537429 -0.129580572 -0.27715534 -0.104374804 -0.876943409]\n",
      "[cp 1][2 0][0.240393117 0.363013178 0.317939162 1.95485866 0.192196816 0.133459792 0.192196816 0.0938964784 0.240393117 0.0938964784][0.350620925 -0.32535395 0.282510877 -0.42961362 -0.115705758 -0.197903991 -0.129580572 -0.22831291 -0.000713618472 -0.956487417]\n",
      "[cp 1][2 0][0.565613925 0.19387114 1.73611784 1.95417023 0.565613925 0.19387114 0.192196816 0.363013178 1.606161 1.70740402][0.464875698 -0.0675945804 0.371397018 -0.353686422 -0.00790741108 -0.354096085 -0.129580572 -0.328502804 -0.187378645 -1.01554239]\n",
      "[cp 1][2 0][0.592280388 1.70500183 0.0783755854 0.317939162 1.70740402 0.192196816 1.70500183 1.70500183 0.240393117 0.363013178][0.414195567 -0.247053221 0.466671944 -0.23038657 -0.0517433 -0.327107579 -0.197669208 -0.256093949 -0.000713618472 -0.897000134]\n",
      "[cp 1][2 0][0.317939162 0.088995412 0.192196816 0.342151 0.363013178 0.0783755854 0.220750287 0.220750287 1.95485866 0.088995412][0.491088569 -0.0894446149 0.348915964 -0.339012295 -0.102359012 -0.263542086 -0.0270254407 -0.306138039 -0.106518917 -1.00138593]\n",
      "[cp 1][2 0][0.317939162 1.20969105 0.0938964784 0.342151 1.95417023 1.95485866 1.606161 0.220750287 0.317939162 0.458130032][0.491088569 -0.204253286 0.471325696 -0.339012295 -0.0653848946 -0.440160215 -0.0845806822 -0.306138039 -0.301075369 -0.92781657]\n",
      "[cp 1][2 0][0.19387114 1.606161 0.220750287 1.95485866 0.133459792 1.95417023 1.70740402 1.70500183 0.458130032 0.19387114][0.488497078 -0.229205787 0.398347169 -0.39687264 -0.0784045458 -0.328855336 -0.108162686 -0.282379746 -0.0798103 -0.99630338]\n"
     ]
    },
    {
     "name": "stderr",
     "output_type": "stream",
     "text": [
      "[cp 1][2 0][0.0938964784 0.342151 1.70500183 1.70740402 1.20969105 0.19387114 0.478377074 1.95417023 1.70500183 0.220750287][0.437064946 -0.0441971235 0.357518 -0.202591121 -0.159776628 -0.385947973 -0.147896603 -0.310196489 -0.103895009 -0.959291339]\n",
      "[cp 1][2 0][0.565613925 1.70500183 0.0783755854 0.192196816 0.342151 1.606161 0.133459792 0.240393117 0.192196816 0.565613925][0.454850137 -0.229982153 0.476350218 -0.316221267 -0.053145647 -0.276890188 -0.0704145581 -0.292299509 -0.137594953 -1.0448209]\n",
      "[cp 1][2 0][0.478377074 1.20969105 0.458130032 1.606161 0.458130032 0.220750287 0.192196816 1.73611784 0.322221309 1.70500183][0.503059268 -0.227608934 0.495262951 -0.219028443 -0.00153925084 -0.412899107 -0.0948664248 -0.241429135 -0.150388673 -0.900117278]\n",
      "[cp 1][2 0][0.192196816 0.0783755854 0.342151 0.322221309 0.342151 0.240393117 0.478377074 0.220750287 0.19387114 1.95417023][0.531717181 -0.155770287 0.36950767 -0.252372742 -0.055638466 -0.360439837 -0.115023732 -0.320638716 -0.183467031 -0.98231858]\n",
      "[cp 1][2 0][0.0938964784 1.95485866 1.70500183 0.512321353 0.19387114 0.19387114 1.70740402 1.70740402 0.322221309 0.088995412][0.431426883 -0.312175751 0.381391436 -0.332614124 0.00830150396 -0.38747552 -0.105349392 -0.260145783 -0.151826501 -0.99471581]\n",
      "[cp 1][2 0][1.95485866 1.70740402 1.95485866 1.95417023 0.322221309 1.70740402 0.363013178 0.192196816 0.478377074 1.73611784][0.520172358 -0.19001326 0.524262249 -0.326123267 -0.0111637134 -0.35549134 -0.251708597 -0.177980244 -0.2806651 -0.911327064]\n",
      "[cp 1][2 0][0.478377074 0.192196816 0.322221309 0.220750287 0.512321353 0.478377074 1.70740402 0.133459792 0.512321353 1.73611784][0.509552956 -0.181778193 0.475247443 -0.0911569074 -0.0461587347 -0.215123132 -0.105389044 -0.288075686 0.0279915035 -0.911419392]\n",
      "[cp 1][2 0][0.478377074 0.322221309 0.192196816 0.088995412 0.088995412 0.512321353 1.95547009 0.512321353 1.20969105 0.192196816][0.509552956 -0.109168828 0.367518365 -0.302748799 0.000952053815 -0.224390462 -0.00491296779 -0.356415808 -0.120975852 -0.776338]\n",
      "[cp 1][2 0][1.95547009 0.363013178 1.70740402 0.458130032 1.95417023 0.0783755854 1.70740402 0.322221309 0.458130032 0.322221309][0.518592238 -0.329477668 0.439901084 -0.28952235 -0.042583853 -0.25762254 -0.134227648 -0.22926487 -0.0780301243 -1.01409113]\n",
      "[cp 1][2 0][0.458130032 0.088995412 0.088995412 1.73611784 0.088995412 0.512321353 1.20969105 0.133459792 0.192196816 1.20969105][0.423203647 -0.0957142487 0.364453465 -0.316563278 0.00944523141 -0.207557708 -0.117906019 -0.283671 -0.124775589 -0.814069927]\n",
      "[cp 1][2 0][0.192196816 0.0938964784 0.363013178 0.192196816 0.322221309 0.192196816 0.0938964784 0.322221309 1.73611784 1.70740402][0.514639676 -0.345703185 0.280914545 -0.294494838 -0.00682076346 -0.352040142 -0.18886061 -0.22926487 -0.220850646 -1.03436697]\n",
      "[cp 1][2 0][1.70500183 0.0783755854 0.260004222 1.95417023 1.95547009 0.322221309 0.088995412 0.260004222 0.260004222 1.95417023][0.427420348 -0.146440282 0.291964412 -0.321526349 -0.0320289657 -0.295458227 -0.30663982 -0.288183719 -0.307175577 -0.960905969]\n",
      "[cp 1][2 0][1.606161 0.19387114 0.512321353 0.0938964784 0.133459792 0.458130032 0.458130032 0.458130032 0.458130032 0.363013178][0.387544096 -0.0806573331 0.376111448 -0.173149601 -0.0566416197 -0.231778547 -0.0660742074 -0.342939436 -0.0763929561 -0.902502954]\n",
      "[cp 1][2 0][1.7311089 1.95547009 0.088995412 0.260004222 0.0783755854 0.512321353 0.0938964784 0.458130032 0.0938964784 0.192196816][0.427688569 -0.308389962 0.367864817 -0.180931225 -0.0377907939 -0.208946481 -0.187545434 -0.338736743 -0.121636666 -0.76147151]\n",
      "[cp 1][2 0][0.220750287 0.0783755854 1.73611784 0.260004222 0.512321353 1.95547009 0.240393117 0.133459792 0.363013178 1.65269375][0.370575935 -0.15191707 0.380417824 -0.180931225 -0.0450370684 -0.448749721 -0.25908 -0.279007703 -0.131443024 -1.08513987]\n",
      "[cp 1][2 0][1.65269375 0.19387114 0.220750287 0.220750287 0.220750287 1.95547009 1.73611784 0.458130032 1.70740402 0.512321353][0.386623919 -0.080798462 0.407539457 -0.0834032297 -0.0828716755 -0.448749721 -0.159877136 -0.338736743 -0.116371408 -0.954529285]\n",
      "[cp 1][2 0][0.260004222 0.0938964784 0.0783755854 0.0783755854 0.512321353 0.192196816 0.0783755854 1.20969105 0.0783755854 1.95547009][0.493523121 -0.348064452 0.488095224 -0.139580637 -0.0450370684 -0.354128122 0.0092396969 -0.237637907 -0.172370613 -1.00170195]\n",
      "[cp 1][2 0][0.0783755854 1.7311089 1.20969105 0.0783755854 0.322221309 0.088995412 0.220750287 0.458130032 0.458130032 0.0938964784][0.41829437 -0.257644117 0.473551214 -0.139580637 -0.010087396 -0.598622084 -0.0259148367 -0.338736743 -0.0814810097 -0.983653784]\n",
      "[cp 1][2 0][0.512321353 0.240393117 1.70740402 0.192196816 1.39706755 0.0938964784 0.088995412 1.39706755 0.220750287 1.7311089][0.413992703 -0.109753162 0.448653162 -0.283155769 -0.156107679 -0.257287264 -0.323811412 -0.235734344 0.0181161519 -0.861124933]\n",
      "[cp 1][2 0][1.95547009 0.0938964784 0.240393117 1.65269375 0.0783755854 0.240393117 0.512321353 0.088995412 0.19387114 0.363013178][0.518248 -0.347832173 0.298407376 -0.217423841 -0.0244646 -0.324335605 -0.18781808 -0.321831226 -0.207439423 -0.887640893]\n",
      "[cp 1][2 0][0.578812182 0.26359573 0.578812182 0.82852596 1.04649615 0.82852596 1.04649615 0.0402150936 0.187881023 0.530779][0.324138135 -0.104633279 0.133781716 -0.238358781 0.00980822835 0.00895381 -0.0549899973 -0.158193856 0.186004817 -0.470428884]\n",
      "[cp 1][2 0][1.3849442 0.82852596 1.15189302 0.578812182 0.635966361 0.366382718 0.187881023 0.82852596 1.65788007 0.530779][0.509177148 0.0597755723 0.23433058 -0.308926821 -0.0797808319 -0.120925114 -0.118301511 -0.177039549 0.07295385 -0.470428884]\n",
      "[cp 1][2 0][1.3849442 1.3849442 1.17302585 0.63713789 1.04649615 1.3849442 1.33482075 0.0402150936 1.43265438 0.187881023][0.507056296 0.132353604 0.266812056 -0.441904962 -0.00129341753 0.15000686 0.0238208063 -0.155382901 0.120487854 -0.297133029]\n",
      "[cp 1][8 0][0.530779 0.366382718 0.635966361 0.366382718 1.3849442 1.36767864 0.0402150936 0.96786 0.578812182 1.33482075][0.355443656 0.0569281206 0.0459878258 -0.210482433 -0.0681281239 0.0126465354 -0.0842033699 -0.068981044 0.172513604 -0.398282886]\n",
      "[cp 1][2 0][1.85859239 1.85859239 0.00939095207 0.63713789 0.187881023 0.530779 0.00939095207 1.13320291 1.04649615 0.635966361][0.516414404 0.00491771335 0.199564263 -0.407003015 -0.0673740283 0.174591213 -0.0362041965 -0.209169477 0.101835661 -0.350406855]\n",
      "[cp 1][2 0][0.366382718 1.36767864 1.36767864 1.04649615 1.85859239 0.96786 1.43265438 0.578812182 0.530779 0.82852596][0.447507143 -0.00344190886 0.269026518 -0.357553899 -0.076768823 -0.0501261055 -0.00539222034 -0.200833157 0.158443302 -0.396849]\n",
      "[cp 1][2 0][0.530779 0.82852596 0.187881023 0.96786 1.85859239 0.63713789 1.33482075 1.04649615 0.128294989 1.43265438][0.355443656 0.0547850616 0.195439279 -0.316756248 -0.076768823 -0.114121184 0.0318889134 -0.136992037 0.0963936523 -0.310262799]\n",
      "[cp 1][8 2][0.0402150936 0.366382718 0.187881023 0.0402150936 0.26359573 1.36767864 0.0402150936 1.43265438 0.96786 0.82852596][0.252563894 0.0569281206 0.195439279 -0.268014699 -0.0664362907 0.0126465354 -0.0842033699 -0.118989475 0.114492305 -0.396849]\n",
      "[cp 1][2 0][0.530779 0.635966361 1.04649615 1.85859239 0.366382718 0.128294989 0.82852596 1.3849442 0.128294989 1.43265438][0.335957348 0.0295704789 0.226487085 -0.401604384 0.0161939543 0.0228396505 -0.0601900443 -0.0931220353 0.0574979037 -0.319054961]\n",
      "[cp 1][1 0][1.36767864 0.00939095207 0.0402150936 0.00939095207 0.366382718 1.33482075 1.65788007 0.366382718 1.33482075 0.578812182][0.296256185 -0.000350099523 0.0734849 -0.384973526 -0.005712613 0.0395030156 -0.0514125451 -0.16399534 -0.0515496954 -0.458437562]\n",
      "[cp 1][2 0][0.26359573 0.366382718 1.3849442 0.578812182 1.43265438 0.26359573 1.65788007 0.578812182 0.82852596 0.26359573][0.333132952 0.031099055 0.216602266 -0.358195186 0.0468698181 -0.0184153728 -0.0662816539 -0.12036 0.15112412 -0.378044099]\n",
      "[cp 1][2 0][0.635966361 0.63713789 1.33482075 0.128294989 0.128294989 0.296829492 0.128294989 0.26359573 0.82852596 0.578812182][0.555413842 0.013440269 0.208015233 -0.397737682 0.00947397389 0.20174405 0.0897737145 -0.1635236 0.15112412 -0.459140271]\n",
      "[cp 1][2 0][0.00939095207 0.00939095207 1.26755011 1.65788007 0.635966361 1.33482075 0.296829492 1.04649615 1.65788007 1.65788007][0.360012352 -0.00276715821 0.29340753 -0.342162758 -0.0858108699 0.0607619584 -0.0602704547 -0.108900994 0.0573402196 -0.422832787]\n",
      "[cp 1][2 0][0.635966361 1.3849442 0.296829492 1.3849442 1.3849442 1.85859239 0.296829492 0.63713789 0.187881023 0.578812182][0.555413842 0.160362825 0.228473708 -0.447688609 -0.0630211383 0.117764696 -0.0602704547 -0.0822097063 0.163028643 -0.459140271]\n",
      "[cp 1][5 2][0.00939095207 0.187881023 1.33482075 1.43265438 0.128294989 1.85859239 1.33482075 1.26755011 0.26359573 1.48762774][0.355968803 0.0937087163 0.22101593 -0.365622491 0.0236179344 0.122861929 0.0406860784 -0.0222192556 0.0856857151 -0.489873379]\n",
      "[cp 1][2 0][1.26755011 1.04649615 1.04649615 0.366382718 0.63713789 0.63713789 0.26359573 0.128294989 1.46755981 1.85859239][0.421678334 0.114229031 0.263541341 -0.257824093 -0.0414685495 -0.024047479 -0.193085566 -0.154180467 -0.0382611454 -0.479069]\n",
      "[cp 1][5 0][0.63713789 0.63713789 1.85859239 1.46755981 0.00939095207 1.65788007 0.578812182 1.31924701 0.128294989 0.896210194][0.434611559 0.00679947436 0.202133387 -0.341616541 -0.0840983242 0.273584366 -0.0887325853 -0.100143619 0.0362470224 -0.439325]\n"
     ]
    },
    {
     "name": "stderr",
     "output_type": "stream",
     "text": [
      "[cp 1][2 0][0.82852596 1.13320291 1.26755011 0.26359573 0.00939095207 1.13320291 0.187881023 1.13320291 0.896210194 1.85859239][0.402017117 -0.00606299751 0.299306542 -0.435979515 -0.0840983242 0.102298036 -0.029500911 -0.1501351 -0.00746713 -0.472424269]\n",
      "[cp 1][2 0][1.31924701 1.3849442 1.46755981 0.0402150936 0.128294989 1.43265438 0.63713789 1.31924701 1.31924701 1.46755981][0.4740403 0.161303386 0.189055249 -0.360586762 0.0540967 -0.026199542 0.134418488 -0.085612908 0.0487026684 -0.474644572]\n",
      "[cp 1][2 0][0.63713789 0.296829492 1.85859239 1.65788007 0.128294989 1.38251197 0.128294989 0.296829492 0.0402150936 0.187881023][0.431337595 0.0128229642 0.19032146 -0.383865178 0.0573640317 0.0913203135 0.116505027 -0.0983413607 0.0296772756 -0.429418206]\n",
      "[cp 1][4 0][0.26359573 0.82852596 0.00939095207 1.31924701 0.296829492 0.82852596 1.42849493 0.187881023 0.00939095207 0.578812182][0.335160226 0.093375273 0.183446035 -0.440431923 0.184648961 0.0685627609 -0.0215818025 -0.06471809 0.0133434469 -0.494246036]\n",
      "[cp 1][2 0][1.3849442 1.48762774 0.187881023 0.296829492 1.65788007 0.26359573 0.82852596 0.296829492 0.26359573 1.38251197][0.559111357 0.0279961228 0.169640258 -0.363607794 -0.0227565728 0.0204487778 -0.0349708237 -0.0983413607 0.0575546809 -0.466235161]\n",
      "[cp 1][6 0][1.3849442 0.366382718 0.366382718 1.31924701 0.296829492 1.42849493 0.00939095207 1.65788007 0.0402150936 0.26359573][0.559111357 0.0138909006 0.0967647508 -0.440431923 0.184648961 0.0294740759 -0.0298625082 -0.0295110662 0.0296772756 -0.395103604]\n",
      "[cp 1][2 0][0.82852596 1.38251197 1.48762774 0.128294989 1.48762774 1.43265438 0.366382718 1.42849493 1.31924701 1.65788007][0.382253349 -0.0331397876 0.270068079 -0.434634566 -0.110299379 -0.0427836217 0.0292047 0.00593424402 0.0538424253 -0.452166885]\n",
      "[cp 1][4 0][0.296829492 0.578812182 0.82852596 1.31924701 1.38251197 1.4088701 1.85859239 0.366382718 0.296829492 1.13320291][0.424156487 -0.040970102 0.157007158 -0.430943936 0.194569826 0.0502298251 0.0937707871 -0.147963628 0.0401485264 -0.423814476]\n",
      "[cp 1][2 0][0.578812182 1.43265438 1.42849493 0.63713789 1.31924701 1.13320291 0.0402150936 0.26359573 0.63713789 1.65788007][0.407875389 0.114612013 0.291970342 -0.470007062 0.0167650953 0.0813618153 -0.0669895932 -0.14379102 0.111292154 -0.444602966]\n",
      "[cp 1][2 0][1.31924701 1.4088701 1.13320291 0.578812182 1.4088701 0.896210194 0.00939095207 1.65788007 0.128294989 1.13320291][0.474018931 0.01885226 0.207190618 -0.377496362 -0.105411336 0.192490652 -0.0275581758 -0.0144684222 0.0197306164 -0.438930303]\n",
      "[cp 1][2 0][0.26359573 1.13320291 0.578812182 1.18021965 0.63713789 1.4088701 1.4088701 1.65788007 1.65788007 1.65788007][0.303680927 -0.00846249517 0.158808425 -0.442171723 -0.0156282373 0.0450191051 -0.0375378691 -0.021431651 0.0421034731 -0.43328467]\n",
      "[cp 1][2 0][1.38251197 0.82852596 1.43265438 0.00939095207 0.00939095207 1.13320291 1.65788007 1.18021965 1.13320291 1.65788007][0.437668025 0.0847699493 0.236908734 -0.448569596 -0.0514225513 0.0726440847 -0.0405573584 -0.0751359314 0.0770113617 -0.43328467]\n",
      "[cp 1][2 0][0.896210194 0.366382718 1.52648032 0.26359573 0.366382718 0.187881023 0.578812182 0.82852596 1.18021965 1.85859239][0.554849 -0.00358996959 0.291020662 -0.458441138 0.0333550945 -0.00227932632 -0.107251629 -0.140001327 0.0489195 -0.445754766]\n",
      "[cp 1][5 2][0.187881023 0.296829492 0.63713789 0.63713789 1.65788007 0.896210194 1.85859239 0.82852596 0.128294989 1.18021965][0.485341311 0.00314241881 0.249051064 -0.478460371 -0.0118675381 0.185267776 0.0745130852 -0.140001327 0.0199403018 -0.481456161]\n",
      "[cp 1][6 0][1.85859239 1.85859239 1.13320291 1.4088701 1.85859239 0.366382718 0.0402150936 0.128294989 1.18021965 0.26359573][0.54543978 -0.00410371739 0.181236729 -0.451244205 -0.0477669165 0.00888133422 -0.0915561616 -0.136723518 0.0435176641 -0.401299775]\n",
      "[cp 1][2 0][1.43265438 0.128294989 0.128294989 1.18021965 0.26359573 1.18021965 0.82852596 1.85859239 1.4088701 1.4088701][0.4583233 -0.0700313225 0.135791346 -0.43397072 -0.0244428068 0.168367743 -0.0529021621 -0.0373235 0.0628263354 -0.509062886]\n",
      "[cp 1][5 0][0.376638561 1.52648032 0.376638561 1.43265438 0.578812182 0.896210194 1.13320291 1.4088701 0.82852596 1.4088701][0.466862589 0.0224781837 0.216088161 -0.408219 0.027657304 0.231748 -0.00542788394 -0.0311520901 0.0929127187 -0.509062886]\n",
      "[cp 1][5 0][1.13320291 0.578812182 1.65788007 1.38251197 0.0402150936 0.00939095207 1.43265438 1.38251197 1.13320291 0.896210194][0.530085504 -0.0417908281 0.190569595 -0.360868275 0.0484529883 0.0718819946 0.0559668317 -0.132421 0.066261135 -0.426732302]\n",
      "[cp 1][2 0][0.376638561 0.26359573 1.65788007 0.0402150936 0.376638561 0.00939095207 0.00939095207 1.65788007 1.85859239 1.49843228][0.466862589 -0.144422248 0.190569595 -0.357659727 -0.00501529593 0.0718819946 -0.0728715062 -0.0153859 0.0129137505 -0.375710249]\n",
      "[cp 1][2 0][1.18021965 1.85859239 0.187881023 0.0402150936 1.65788007 0.366382718 1.4088701 1.49843228 0.896210194 0.26359573][0.481027901 -0.00410371739 0.134924501 -0.357659727 -0.0145316944 0.00888133422 -0.0498378165 -0.0831444785 -0.07687103 -0.401299775]\n",
      "[cp 1][2 0][1.43265438 0.26359573 0.26359573 1.43265438 0.896210194 1.4088701 0.82852596 0.376638561 1.43265438 1.49843228][0.435024887 -0.14732714 0.125221342 -0.412847549 -0.0637667477 0.102535151 -0.0672027916 -0.0559402257 0.0688350126 -0.368558198]\n",
      "[cp 1][5 0][0.128294989 1.38251197 0.128294989 0.376638561 1.13320291 1.85859239 0.187881023 0.187881023 0.82852596 0.578812182][0.250887841 -0.0404486321 0.146445394 -0.457847416 0.00585219637 0.210846886 -0.127093852 -0.0662179217 0.0992806926 -0.472922862]\n",
      "[cp 1][2 0][1.43265438 0.978607655 1.4088701 0.0402150936 0.366382718 0.128294989 0.296829492 0.187881023 1.65788007 0.0402150936][0.435024887 0.0615598895 0.242878079 -0.348360479 0.021381123 0.0900200456 -0.0649736747 -0.0662179217 0.0203083511 -0.47747454]\n",
      "[cp 1][4 2][0.128294989 0.296829492 1.49843228 0.296829492 1.38251197 0.296829492 1.85859239 0.00939095207 0.187881023 0.978607655][0.253753275 -0.0247237384 0.204917341 -0.367609084 0.212962896 0.248865366 0.0415809825 -0.0605999343 0.12821117 -0.494111151]\n",
      "[cp 1][5 0][0.978607655 1.85859239 0.187881023 0.896210194 1.13320291 0.00939095207 1.85859239 0.366382718 1.65788007 0.296829492][0.451356381 -0.00202804315 0.139379203 -0.280352354 0.011249315 0.0381652266 0.0439394563 -0.135832518 0.0209812112 -0.52998203]\n",
      "[cp 1][6 0][0.187881023 0.00939095207 0.187881023 1.65788007 0.376638561 0.128294989 0.376638561 0.896210194 1.85859239 1.57390332][0.480905056 -0.0580741465 0.135998383 -0.360864758 -0.0250370279 0.0919915959 0.0953782424 -0.144416809 -0.00391254388 -0.349609077]\n",
      "[cp 1][2 0][0.376638561 0.82852596 0.26359573 1.57390332 0.678745 1.52648032 1.85859239 0.296829492 0.296829492 0.00939095207][0.416258365 0.0123957554 0.129603803 -0.438252032 0.00144442078 0.0213666521 0.013878827 -0.105572626 0.0764121562 -0.447772175]\n",
      "[cp 1][4 0][1.4088701 1.52921867 0.296829492 0.678745 1.38251197 0.128294989 1.4088701 0.00939095207 0.187881023 0.82852596][0.341795236 0.0868931 0.154845282 -0.393236756 0.215010911 0.141759068 -0.0977253 -0.0708733201 0.127654642 -0.388929963]\n",
      "[cp 1][5 0][0.578812182 1.52921867 0.896210194 0.19321242 1.57390332 0.82852596 1.4088701 0.82852596 1.52648032 0.128294989][0.375881165 0.0758053735 0.023156032 -0.424328446 -0.0651988387 0.158561856 -0.0915509164 -0.154139057 0.0564595908 -0.547006071]\n",
      "[cp 1][4 0][0.366382718 0.00939095207 0.296829492 1.52648032 1.49689949 0.0402150936 1.49689949 0.128294989 1.65788007 1.52921867][0.486313224 -0.0883145928 0.172429159 -0.318386853 0.211156964 0.119140446 -0.0138288 -0.123981401 0.0133576272 -0.36377877]\n",
      "[cp 1][2 0][0.678745 1.4088701 1.52648032 0.82852596 0.00939095207 0.187881023 1.4088701 0.678745 0.128294989 1.52648032][0.488585651 -0.0339859761 0.298607618 -0.253886819 -0.0590461083 0.140887812 -0.117666215 -0.0781119317 -0.00276513258 -0.491875112]\n",
      "[cp 1][4 2][0.00939095207 0.366382718 0.19321242 0.0402150936 1.52921867 0.26359573 1.52648032 0.82852596 1.85859239 0.187881023][0.440132707 -0.0742812827 0.196157202 -0.31929332 0.0779683217 0.084238641 -0.107315272 -0.150274247 -0.0280509815 -0.402043521]\n",
      "[cp 1][2 0][0.296829492 0.19321242 0.128294989 0.678745 0.00939095207 0.0402150936 1.57390332 1.65788007 0.678745 1.85859239][0.410921067 -0.0187719464 0.175726131 -0.380894303 -0.0568114892 0.111166984 0.00277094753 -0.0209064763 0.0524484441 -0.483347237]\n",
      "[cp 1][2 0][1.57390332 0.19321242 1.52648032 0.896210194 1.49689949 0.366382718 1.4088701 0.187881023 1.13320291 0.366382718][0.636179507 -0.0187719464 0.305239916 -0.229571596 0.212510437 0.100242205 -0.105692752 -0.0490336791 0.0850071609 -0.331402302]\n",
      "[cp 1][2 0][1.49689949 1.5957092 1.51943588 1.85859239 1.4088701 1.4088701 0.296829492 1.13320291 0.332031935 0.00939095207][0.502812862 0.10090787 0.210859448 -0.330712825 -0.127435237 0.149492204 -0.102775894 -0.147985935 0.0557175539 -0.491047084]\n",
      "[cp 1][2 0][0.187881023 0.678745 1.49689949 1.65788007 0.366382718 0.00939095207 0.187881023 0.187881023 0.332031935 0.678745][0.578632057 -0.00297121936 0.184833795 -0.339122 -0.00220812112 0.09226273 -0.147261009 -0.0470111072 0.0557175539 -0.49004814]\n",
      "[cp 1][8 0][0.296829492 0.896210194 0.0402150936 1.4088701 0.26359573 0.19321242 1.52648032 1.65788007 0.187881023 1.51943588][0.412273467 -0.0208359119 0.0691248775 -0.406842768 -0.0942224786 0.0793866813 -0.103292309 -0.0181239359 0.115276605 -0.397844017]\n"
     ]
    },
    {
     "name": "stdout",
     "output_type": "stream",
     "text": [
      "INFO:tensorflow:eval_file: ./results/decomp_q/eval_5/returns_862\n"
     ]
    },
    {
     "name": "stderr",
     "output_type": "stream",
     "text": [
      "[cp 1][2 0][0.332031935 0.366382718 1.52648032 1.4088701 1.5957092 0.82852596 1.85859239 1.52648032 1.65788007 0.896210194][0.41989693 -0.0748277828 0.307727188 -0.406842768 0.0727265924 0.16679056 -0.016212903 0.015569061 0.0225359276 -0.4325746]\n",
      "[cp 1][2 0][0.0402150936 1.57283247 1.85859239 1.85859239 0.19321242 0.366382718 0.82852596 0.26359573 0.19321242 1.65788007][0.370292246 -0.0345138907 0.177264869 -0.331580877 -0.0375355184 0.113421425 -0.120420806 -0.139503479 0.106563397 -0.461891979]\n",
      "[cp 1][4 0][0.678745 0.82852596 1.13320291 0.19321242 1.57283247 0.19321242 0.296829492 0.128294989 0.678745 1.13320291][0.488579303 -0.0148891583 0.18447946 -0.415952384 0.203433052 0.0774956271 -0.100202285 -0.118092269 0.0486485437 -0.445409447]\n",
      "[cp 1][9 0][1.51943588 1.52648032 0.366382718 1.51943588 1.13320291 0.26359573 0.296829492 0.678745 0.19321242 0.0165712126][0.639477074 -0.0194480084 0.0525973886 -0.396265149 -0.027146928 0.0882388428 -0.100202285 -0.0800961182 0.107737526 -0.480254978]\n",
      "[cp 1][2 0][0.26359573 1.57283247 0.678745 0.82852596 0.187881023 0.187881023 0.19321242 1.65788007 0.19321242 1.65788007][0.334577441 -0.0345772 0.201055065 -0.254538625 -0.100646734 0.149453938 0.0669480786 -0.0147564337 0.103992507 -0.453958839]\n",
      "[cp 1][5 4][0.00939095207 1.57283247 0.00939095207 0.128294989 1.5957092 1.5957092 0.0165712126 1.65788007 1.65788007 0.26359573][0.452875674 -0.0345772 0.12297447 -0.349964082 0.0746473074 0.0952172875 -0.121090882 -0.0147564337 0.0166611746 -0.40315336]\n",
      "[cp 1][2 0][0.19321242 1.4088701 1.65788007 0.896210194 0.366382718 0.332031935 1.64474452 1.57283247 1.85859239 1.58871841][0.5095644 -0.0309396 0.184018865 -0.224147469 -0.00473871734 0.200052828 -0.0193715263 -0.0827885941 -0.0165905487 -0.386618286]\n",
      "[cp 1][5 0][1.13320291 1.64474452 0.332031935 1.4088701 0.82852596 1.69299388 1.58871841 1.13320291 0.187881023 0.187881023][0.561731875 0.0891434923 0.142022565 -0.417203933 0.0473988615 0.345623285 0.00323002436 -0.144173115 0.114012584 -0.407776237]\n",
      "[cp 1][5 0][0.332031935 1.4088701 0.19321242 0.0165712126 1.72126973 0.678745 1.57283247 1.57283247 0.332031935 1.4088701][0.431121588 -0.0317789763 0.202677041 -0.326616496 -0.0227239132 0.226066291 -0.00193194137 -0.0807999596 0.066466406 -0.504737079]\n",
      "[cp 1][2 0][1.57283247 0.366382718 0.366382718 1.52648032 1.4088701 1.4088701 1.52648032 1.13320291 1.13320291 0.94778353][0.550262451 -0.0602246672 0.0611556359 -0.336030155 -0.113032393 0.169790804 -0.0823439807 -0.125903174 0.0747289509 -0.514031172]\n",
      "[cp 1][7 0][1.62757409 1.85859239 0.128294989 0.366382718 1.4088701 1.64474452 0.187881023 0.00939095207 0.128294989 1.13320291][0.551213861 -0.0199243389 0.171267584 -0.249850929 -0.116107695 0.0916922912 -0.119738728 -0.0306056701 0.00138983689 -0.465469629]\n",
      "[cp 1][4 0][0.332031935 0.366382718 1.85859239 0.187881023 1.66918445 1.52648032 0.332031935 1.85859239 1.66918445 1.58871841][0.479906291 -0.0750787184 0.189789668 -0.384784728 0.209367946 0.122092895 -0.176481932 -0.0168072246 -0.0648432225 -0.411235034]\n",
      "[cp 1][2 0][1.66918445 0.19321242 1.52648032 1.85859239 1.66918445 1.13320291 0.94778353 1.4088701 0.94778353 0.00939095207][0.55195123 -0.00899489131 0.304309398 -0.373985261 0.209367946 0.161090255 -0.109002411 -0.0099675972 0.0321506634 -0.533164203]\n",
      "[cp 1][5 2][0.0165712126 1.66918445 0.26359573 1.72126973 0.187881023 0.332031935 1.66918445 1.72126973 0.366382718 0.896210194][0.412776649 -0.0402482823 0.136287138 -0.369608641 -0.0701720864 0.201629192 0.00739204371 0.0153504126 0.0198507756 -0.454620957]\n",
      "[cp 1][5 0][0.187881023 0.187881023 0.366382718 1.13320291 0.128294989 1.58871841 0.896210194 1.13320291 0.82852596 1.59374666][0.650425911 0.0162599646 0.0697696134 -0.313276887 0.0503163449 0.292845219 -0.0677630231 -0.11160668 0.0697580576 -0.52157259]\n",
      "[cp 1][2 0][1.58871841 0.296829492 0.187881023 1.64474452 0.94778353 0.26359573 1.59374666 0.366382718 0.366382718 1.4088701][0.711860836 -0.0500373319 0.124226071 -0.396802127 0.0176359192 0.111548267 -0.0836881623 -0.143312097 0.0198507756 -0.526504397]\n",
      "[cp 1][5 0][0.00939095207 1.72126973 0.332031935 0.94778353 0.332031935 1.72126973 0.128294989 1.58871841 0.0165712126 0.366382718][0.502654 0.110598028 0.143924177 -0.411229551 0.039845489 0.356851816 0.0729136318 -0.0537632257 -0.0036017634 -0.353410423]\n",
      "[cp 1][5 0][0.296829492 0.19321242 0.00939095207 0.366382718 0.94778353 1.58871841 0.00939095207 0.896210194 1.59374666 1.72126973][0.502542078 -0.00904713292 0.149284646 -0.249262348 0.0176359192 0.292845219 -0.0919032842 -0.106559128 0.035028778 -0.478767067]\n",
      "[cp 1][4 0][1.85859239 0.19321242 1.64474452 0.94778353 0.128294989 0.26359573 0.896210194 0.448494852 0.19321242 1.13320291][0.630780458 -0.0206711702 0.19549866 -0.409060925 0.0652666092 0.104759842 -0.088775672 -0.0623212829 0.0923690796 -0.435269892]\n",
      "[cp 1][5 0][1.72126973 0.448494852 1.72126973 0.366382718 0.00939095207 0.332031935 0.332031935 1.66918445 0.448494852 0.332031935][0.422897428 -0.0616379045 0.179380715 -0.234187678 -0.0353261866 0.191861749 -0.19106108 -0.075178 0.0211672969 -0.492280424]\n",
      "[cp 1][2 0][1.59374666 1.85859239 1.59374666 1.58871841 0.128294989 0.94778353 0.0165712126 1.74457693 1.74457693 0.366382718][0.510101736 -0.0393108502 0.301518172 -0.420374155 0.066525504 0.223372877 -0.128032655 0.00320499204 0.0121837463 -0.317433834]\n",
      "[cp 1][1 0][1.59374666 0.00939095207 1.13320291 0.00939095207 0.0165712126 0.19321242 0.82852596 1.58871841 0.19321242 0.00939095207][0.510101736 -0.0803685114 0.171395376 -0.4194749 0.0472941175 0.0859993324 -0.125243351 -0.0536988154 0.0945453718 -0.515040278]\n",
      "[cp 1][5 0][1.85859239 0.128294989 1.66918445 0.128294989 0.94778353 0.0165712126 1.13320291 0.187881023 0.94778353 0.00939095207][0.633461058 -0.11930225 0.191529274 -0.368071705 0.0209516361 0.122905567 -0.0479077548 -0.0352758616 0.0304592829 -0.517733097]\n",
      "[cp 1][6 0][1.86459124 0.187881023 0.896210194 0.187881023 1.58871841 1.64325917 0.19321242 1.64474452 1.13320291 1.74457693][0.633183599 -0.00437440164 0.0683010444 -0.400165319 -0.0276047252 0.133476511 0.0780375451 -0.0533366948 0.0537063926 -0.442454845]\n",
      "[cp 1][6 0][1.87009192 0.187881023 0.82852596 0.187881023 0.366382718 0.26359573 0.00939095207 0.128294989 0.332031935 1.64325917][0.633002818 -0.00421504257 0.168172687 -0.400088638 0.0365024395 0.103728481 -0.108013876 -0.086396046 0.0372616239 -0.486908495]\n",
      "[cp 1][5 0][1.74457693 1.87009192 1.13320291 0.128294989 1.4088701 0.19321242 1.87009192 0.94778353 0.448494852 0.26359573][0.421739519 -0.0394942351 0.172226667 -0.368426263 -0.105275095 0.0826251507 -0.014542155 -0.0740283057 0.0163075402 -0.39772886]\n",
      "[cp 1][2 0][1.76414919 0.0165712126 1.64325917 0.94778353 0.82852596 0.94778353 0.00939095207 0.0165712126 1.13320291 0.0165712126][0.424374163 0.0686190501 0.304055899 -0.424811721 0.067259416 0.218637824 -0.109841958 -0.0739599317 0.0575888976 -0.487419486]\n",
      "[cp 1][5 2][0.0165712126 0.19321242 1.4088701 0.332031935 0.332031935 0.187881023 1.13320291 0.19321242 0.0165712126 0.19321242][0.409189403 -0.0192157403 0.256465405 -0.320963174 0.0575378537 0.177053094 -0.0506510958 -0.019216707 -0.00732117519 -0.555769205]\n",
      "INFO:tensorflow:eval_file: ./results/decomp_q/eval_5/returns_862\n"
     ]
    }
   ],
   "source": [
    "# evaluating\n",
    "\n",
    "runner = runner_lib.EvalRunner(\n",
    "      base_dir=tmp_decomp_q_dir,\n",
    "      create_agent_fn=create_decomp_q_agent,\n",
    "      env=interest_evolution.create_environment(env_config),\n",
    "      max_eval_episodes=5,\n",
    "      test_mode=True)\n",
    "runner.run_experiment()\n",
    "     \n"
   ]
  },
  {
   "cell_type": "code",
   "execution_count": 15,
   "metadata": {},
   "outputs": [
    {
     "data": {
      "text/html": [
       "\n",
       "      <iframe id=\"tensorboard-frame-d467ff10bf50f856\" width=\"100%\" height=\"800\" frameborder=\"0\">\n",
       "      </iframe>\n",
       "      <script>\n",
       "        (function() {\n",
       "          const frame = document.getElementById(\"tensorboard-frame-d467ff10bf50f856\");\n",
       "          const url = new URL(\"/\", window.location);\n",
       "          const port = 8001;\n",
       "          if (port) {\n",
       "            url.port = port;\n",
       "          }\n",
       "          frame.src = url;\n",
       "        })();\n",
       "      </script>\n",
       "    "
      ],
      "text/plain": [
       "<IPython.core.display.HTML object>"
      ]
     },
     "metadata": {},
     "output_type": "display_data"
    },
    {
     "data": {
      "text/html": [
       "\n",
       "      <iframe id=\"tensorboard-frame-3b8002a22b4a23e0\" width=\"100%\" height=\"800\" frameborder=\"0\">\n",
       "      </iframe>\n",
       "      <script>\n",
       "        (function() {\n",
       "          const frame = document.getElementById(\"tensorboard-frame-3b8002a22b4a23e0\");\n",
       "          const url = new URL(\"/\", window.location);\n",
       "          const port = 8002;\n",
       "          if (port) {\n",
       "            url.port = port;\n",
       "          }\n",
       "          frame.src = url;\n",
       "        })();\n",
       "      </script>\n",
       "    "
      ],
      "text/plain": [
       "<IPython.core.display.HTML object>"
      ]
     },
     "metadata": {},
     "output_type": "display_data"
    }
   ],
   "source": [
    "%load_ext tensorboard\n",
    "%tensorboard --logdir=./results/fullslate_q/ --port=8001\n",
    "%tensorboard --logdir=./results/decomp_q/  --port=8002"
   ]
  },
  {
   "cell_type": "code",
   "execution_count": null,
   "metadata": {},
   "outputs": [],
   "source": []
  }
 ],
 "metadata": {
  "colab": {
   "provenance": []
  },
  "kernelspec": {
   "display_name": "Python 3 (ipykernel)",
   "language": "python",
   "name": "python3"
  },
  "language_info": {
   "codemirror_mode": {
    "name": "ipython",
    "version": 3
   },
   "file_extension": ".py",
   "mimetype": "text/x-python",
   "name": "python",
   "nbconvert_exporter": "python",
   "pygments_lexer": "ipython3",
   "version": "3.8.10"
  }
 },
 "nbformat": 4,
 "nbformat_minor": 1
}
