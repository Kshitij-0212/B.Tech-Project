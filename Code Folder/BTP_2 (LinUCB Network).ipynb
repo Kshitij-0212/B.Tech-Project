{
 "cells": [
  {
   "cell_type": "code",
   "execution_count": 1,
   "id": "a9f22eb8",
   "metadata": {},
   "outputs": [
    {
     "name": "stderr",
     "output_type": "stream",
     "text": [
      "/usr/lib/python3/dist-packages/requests/__init__.py:89: RequestsDependencyWarning: urllib3 (1.26.12) or chardet (3.0.4) doesn't match a supported version!\n",
      "  warnings.warn(\"urllib3 ({}) or chardet ({}) doesn't match a supported \"\n"
     ]
    }
   ],
   "source": [
    "import argparse\n",
    "from matplotlib import pyplot as plt\n",
    "import pandas as pd\n",
    "import time\n",
    "\n",
    "import ray\n",
    "from ray import air, tune\n",
    "from ray.rllib.algorithms.bandit import BanditLinUCBConfig\n",
    "ignore_reinit_error=True"
   ]
  },
  {
   "cell_type": "code",
   "execution_count": 2,
   "id": "d18acaed",
   "metadata": {},
   "outputs": [],
   "source": [
    "from recsim import choice_model\n",
    "from recsim.environments import (\n",
    "    long_term_satisfaction as lts,\n",
    "    interest_evolution as iev,\n",
    "    interest_exploration as iex,\n",
    ")\n",
    "\n",
    "from ray.rllib.env.wrappers.recsim import make_recsim_env\n",
    "from ray.tune import register_env\n",
    "\n",
    "\n",
    "\n",
    "# Long-term satisfaction env: User has to pick from items that are either\n",
    "# a) unhealthy, but taste good, or b) healthy, but have bad taste.\n",
    "# Best strategy is to pick a mix of both to ensure long-term\n",
    "# engagement.\n",
    "\n",
    "\n",
    "def lts_user_model_creator(env_ctx):\n",
    "    return lts.LTSUserModel(\n",
    "        env_ctx[\"slate_size\"],\n",
    "        user_state_ctor=lts.LTSUserState,\n",
    "        response_model_ctor=lts.LTSResponse,\n",
    "    )\n",
    "\n",
    "\n",
    "def lts_document_sampler_creator(env_ctx):\n",
    "    return lts.LTSDocumentSampler()\n",
    "\n",
    "\n",
    "LongTermSatisfactionRecSimEnv = make_recsim_env(\n",
    "    recsim_user_model_creator=lts_user_model_creator,\n",
    "    recsim_document_sampler_creator=lts_document_sampler_creator,\n",
    "    reward_aggregator=lts.clicked_engagement_reward,\n",
    ")\n",
    "\n",
    "\n",
    "# Interest exploration env: Models the problem of active exploration\n",
    "# of user interests. It is meant to illustrate popularity bias in\n",
    "# recommender systems, where myopic maximization of engagement leads\n",
    "# to bias towards documents that have wider appeal,\n",
    "# whereas niche user interests remain unexplored.\n",
    "def iex_user_model_creator(env_ctx):\n",
    "    return iex.IEUserModel(\n",
    "        env_ctx[\"slate_size\"],\n",
    "        user_state_ctor=iex.IEUserState,\n",
    "        response_model_ctor=iex.IEResponse,\n",
    "        seed=env_ctx[\"seed\"],\n",
    "    )\n",
    "\n",
    "\n",
    "def iex_document_sampler_creator(env_ctx):\n",
    "    return iex.IETopicDocumentSampler(seed=env_ctx[\"seed\"])\n",
    "\n",
    "\n",
    "InterestExplorationRecSimEnv = make_recsim_env(\n",
    "    recsim_user_model_creator=iex_user_model_creator,\n",
    "    recsim_document_sampler_creator=iex_document_sampler_creator,\n",
    "    reward_aggregator=iex.total_clicks_reward,\n",
    ")\n",
    "\n",
    "\n",
    "def iev_user_model_creator(env_ctx):\n",
    "    return iev.IEvUserModel(\n",
    "        env_ctx[\"slate_size\"],\n",
    "        choice_model_ctor=choice_model.MultinomialProportionalChoiceModel,\n",
    "        response_model_ctor=iev.IEvResponse,\n",
    "        user_state_ctor=iev.IEvUserState,\n",
    "        seed=env_ctx[\"seed\"],\n",
    "    )\n",
    "\n",
    "\n",
    "# Extend IEvVideo to fix a bug caused by None cluster_ids.\n",
    "class SingleClusterIEvVideo(iev.IEvVideo):\n",
    "    def __init__(self, doc_id, features, video_length=None, quality=None):\n",
    "        super(SingleClusterIEvVideo, self).__init__(\n",
    "            doc_id=doc_id,\n",
    "            features=features,\n",
    "            cluster_id=0,  # single cluster.\n",
    "            video_length=video_length,\n",
    "            quality=quality,\n",
    "        )\n",
    "\n",
    "\n",
    "def iev_document_sampler_creator(env_ctx):\n",
    "    return iev.UtilityModelVideoSampler(doc_ctor=iev.IEvVideo, seed=env_ctx[\"seed\"])\n",
    "\n",
    "\n",
    "InterestEvolutionRecSimEnv = make_recsim_env(\n",
    "    recsim_user_model_creator=iev_user_model_creator,\n",
    "    recsim_document_sampler_creator=iev_document_sampler_creator,\n",
    "    reward_aggregator=iev.clicked_watchtime_reward,\n",
    ")\n",
    "\n",
    "\n",
    "# Backward compatibility.\n",
    "register_env(\n",
    "    name=\"RecSim-v1\", env_creator=lambda env_ctx: InterestEvolutionRecSimEnv(env_ctx)\n",
    ")"
   ]
  },
  {
   "cell_type": "code",
   "execution_count": 3,
   "id": "10554686",
   "metadata": {},
   "outputs": [
    {
     "name": "stderr",
     "output_type": "stream",
     "text": [
      "E0330 10:55:01.254946493   29252 fork_posix.cc:70]           Fork support is only compatible with the epoll1 and poll polling strategies\n",
      "E0330 10:55:01.307065151   29252 fork_posix.cc:70]           Fork support is only compatible with the epoll1 and poll polling strategies\n",
      "E0330 10:55:02.142307348   29252 fork_posix.cc:70]           Fork support is only compatible with the epoll1 and poll polling strategies\n",
      "E0330 10:55:02.167078959   29252 fork_posix.cc:70]           Fork support is only compatible with the epoll1 and poll polling strategies\n",
      "2023-03-30 10:55:02,206\tINFO worker.py:1553 -- Started a local Ray instance.\n"
     ]
    },
    {
     "data": {
      "text/html": [
       "<div>\n",
       "    <div style=\"margin-left: 50px;display: flex;flex-direction: row;align-items: center\">\n",
       "        <h3 style=\"color: var(--jp-ui-font-color0)\">Ray</h3>\n",
       "        <svg version=\"1.1\" id=\"ray\" width=\"3em\" viewBox=\"0 0 144.5 144.6\" style=\"margin-left: 3em;margin-right: 3em\">\n",
       "            <g id=\"layer-1\">\n",
       "                <path fill=\"#00a2e9\" class=\"st0\" d=\"M97.3,77.2c-3.8-1.1-6.2,0.9-8.3,5.1c-3.5,6.8-9.9,9.9-17.4,9.6S58,88.1,54.8,81.2c-1.4-3-3-4-6.3-4.1\n",
       "                    c-5.6-0.1-9.9,0.1-13.1,6.4c-3.8,7.6-13.6,10.2-21.8,7.6C5.2,88.4-0.4,80.5,0,71.7c0.1-8.4,5.7-15.8,13.8-18.2\n",
       "                    c8.4-2.6,17.5,0.7,22.3,8c1.3,1.9,1.3,5.2,3.6,5.6c3.9,0.6,8,0.2,12,0.2c1.8,0,1.9-1.6,2.4-2.8c3.5-7.8,9.7-11.8,18-11.9\n",
       "                    c8.2-0.1,14.4,3.9,17.8,11.4c1.3,2.8,2.9,3.6,5.7,3.3c1-0.1,2,0.1,3,0c2.8-0.5,6.4,1.7,8.1-2.7s-2.3-5.5-4.1-7.5\n",
       "                    c-5.1-5.7-10.9-10.8-16.1-16.3C84,38,81.9,37.1,78,38.3C66.7,42,56.2,35.7,53,24.1C50.3,14,57.3,2.8,67.7,0.5\n",
       "                    C78.4-2,89,4.7,91.5,15.3c0.1,0.3,0.1,0.5,0.2,0.8c0.7,3.4,0.7,6.9-0.8,9.8c-1.7,3.2-0.8,5,1.5,7.2c6.7,6.5,13.3,13,19.8,19.7\n",
       "                    c1.8,1.8,3,2.1,5.5,1.2c9.1-3.4,17.9-0.6,23.4,7c4.8,6.9,4.6,16.1-0.4,22.9c-5.4,7.2-14.2,9.9-23.1,6.5c-2.3-0.9-3.5-0.6-5.1,1.1\n",
       "                    c-6.7,6.9-13.6,13.7-20.5,20.4c-1.8,1.8-2.5,3.2-1.4,5.9c3.5,8.7,0.3,18.6-7.7,23.6c-7.9,5-18.2,3.8-24.8-2.9\n",
       "                    c-6.4-6.4-7.4-16.2-2.5-24.3c4.9-7.8,14.5-11,23.1-7.8c3,1.1,4.7,0.5,6.9-1.7C91.7,98.4,98,92.3,104.2,86c1.6-1.6,4.1-2.7,2.6-6.2\n",
       "                    c-1.4-3.3-3.8-2.5-6.2-2.6C99.8,77.2,98.9,77.2,97.3,77.2z M72.1,29.7c5.5,0.1,9.9-4.3,10-9.8c0-0.1,0-0.2,0-0.3\n",
       "                    C81.8,14,77,9.8,71.5,10.2c-5,0.3-9,4.2-9.3,9.2c-0.2,5.5,4,10.1,9.5,10.3C71.8,29.7,72,29.7,72.1,29.7z M72.3,62.3\n",
       "                    c-5.4-0.1-9.9,4.2-10.1,9.7c0,0.2,0,0.3,0,0.5c0.2,5.4,4.5,9.7,9.9,10c5.1,0.1,9.9-4.7,10.1-9.8c0.2-5.5-4-10-9.5-10.3\n",
       "                    C72.6,62.3,72.4,62.3,72.3,62.3z M115,72.5c0.1,5.4,4.5,9.7,9.8,9.9c5.6-0.2,10-4.8,10-10.4c-0.2-5.4-4.6-9.7-10-9.7\n",
       "                    c-5.3-0.1-9.8,4.2-9.9,9.5C115,72.1,115,72.3,115,72.5z M19.5,62.3c-5.4,0.1-9.8,4.4-10,9.8c-0.1,5.1,5.2,10.4,10.2,10.3\n",
       "                    c5.6-0.2,10-4.9,9.8-10.5c-0.1-5.4-4.5-9.7-9.9-9.6C19.6,62.3,19.5,62.3,19.5,62.3z M71.8,134.6c5.9,0.2,10.3-3.9,10.4-9.6\n",
       "                    c0.5-5.5-3.6-10.4-9.1-10.8c-5.5-0.5-10.4,3.6-10.8,9.1c0,0.5,0,0.9,0,1.4c-0.2,5.3,4,9.8,9.3,10\n",
       "                    C71.6,134.6,71.7,134.6,71.8,134.6z\"/>\n",
       "            </g>\n",
       "        </svg>\n",
       "        <table>\n",
       "            <tr>\n",
       "                <td style=\"text-align: left\"><b>Python version:</b></td>\n",
       "                <td style=\"text-align: left\"><b>3.8.10</b></td>\n",
       "            </tr>\n",
       "            <tr>\n",
       "                <td style=\"text-align: left\"><b>Ray version:</b></td>\n",
       "                <td style=\"text-align: left\"><b> 2.3.1</b></td>\n",
       "            </tr>\n",
       "            \n",
       "        </table>\n",
       "    </div>\n",
       "</div>\n"
      ],
      "text/plain": [
       "RayContext(dashboard_url='', python_version='3.8.10', ray_version='2.3.1', ray_commit='5f14cee8dfc6d61ec4fd3bc2c440f9944e92b33a', address_info={'node_ip_address': '192.168.223.125', 'raylet_ip_address': '192.168.223.125', 'redis_address': None, 'object_store_address': '/tmp/ray/session_2023-03-30_10-55-00_140596_29252/sockets/plasma_store', 'raylet_socket_name': '/tmp/ray/session_2023-03-30_10-55-00_140596_29252/sockets/raylet', 'webui_url': '', 'session_dir': '/tmp/ray/session_2023-03-30_10-55-00_140596_29252', 'metrics_export_port': 57977, 'gcs_address': '192.168.223.125:57971', 'address': '192.168.223.125:57971', 'dashboard_agent_listen_port': 52365, 'node_id': '0ad902d6d3902c0a24690f5c93f7d31160e5a9bf40a8c61a1a3e0b32'})"
      ]
     },
     "execution_count": 3,
     "metadata": {},
     "output_type": "execute_result"
    }
   ],
   "source": [
    "ray.init()"
   ]
  },
  {
   "cell_type": "code",
   "execution_count": 4,
   "id": "86b0f7dc",
   "metadata": {
    "scrolled": false
   },
   "outputs": [
    {
     "name": "stdout",
     "output_type": "stream",
     "text": [
      "Running training for 50 time steps\n"
     ]
    },
    {
     "data": {
      "text/html": [
       "<div class=\"tuneStatus\">\n",
       "  <div style=\"display: flex;flex-direction: row\">\n",
       "    <div style=\"display: flex;flex-direction: column;\">\n",
       "      <h3>Tune Status</h3>\n",
       "      <table>\n",
       "<tbody>\n",
       "<tr><td>Current time:</td><td>2023-03-30 10:55:27</td></tr>\n",
       "<tr><td>Running for: </td><td>00:00:23.02        </td></tr>\n",
       "<tr><td>Memory:      </td><td>7.8/11.6 GiB       </td></tr>\n",
       "</tbody>\n",
       "</table>\n",
       "    </div>\n",
       "    <div class=\"vDivider\"></div>\n",
       "    <div class=\"systemInfo\">\n",
       "      <h3>System Info</h3>\n",
       "      Using FIFO scheduling algorithm.<br>Resources requested: 0/8 CPUs, 0/0 GPUs, 0.0/2.09 GiB heap, 0.0/1.05 GiB objects\n",
       "    </div>\n",
       "    \n",
       "  </div>\n",
       "  <div class=\"hDivider\"></div>\n",
       "  <div class=\"trialStatus\">\n",
       "    <h3>Trial Status</h3>\n",
       "    <table>\n",
       "<thead>\n",
       "<tr><th>Trial name                        </th><th>status    </th><th>loc                  </th><th style=\"text-align: right;\">  iter</th><th style=\"text-align: right;\">  total time (s)</th><th style=\"text-align: right;\">  ts</th><th style=\"text-align: right;\">  reward</th><th style=\"text-align: right;\">  episode_reward_max</th><th style=\"text-align: right;\">  episode_reward_min</th><th style=\"text-align: right;\">  episode_len_mean</th></tr>\n",
       "</thead>\n",
       "<tbody>\n",
       "<tr><td>BanditLinUCB_RecSim-v1_39ae5_00000</td><td>TERMINATED</td><td>192.168.223.125:29714</td><td style=\"text-align: right;\">    50</td><td style=\"text-align: right;\">         16.9739</td><td style=\"text-align: right;\">5000</td><td style=\"text-align: right;\"> 155.208</td><td style=\"text-align: right;\">             199.429</td><td style=\"text-align: right;\">                 116</td><td style=\"text-align: right;\">           86.7719</td></tr>\n",
       "</tbody>\n",
       "</table>\n",
       "  </div>\n",
       "</div>\n",
       "<style>\n",
       ".tuneStatus {\n",
       "  color: var(--jp-ui-font-color1);\n",
       "}\n",
       ".tuneStatus .systemInfo {\n",
       "  display: flex;\n",
       "  flex-direction: column;\n",
       "}\n",
       ".tuneStatus td {\n",
       "  white-space: nowrap;\n",
       "}\n",
       ".tuneStatus .trialStatus {\n",
       "  display: flex;\n",
       "  flex-direction: column;\n",
       "}\n",
       ".tuneStatus h3 {\n",
       "  font-weight: bold;\n",
       "}\n",
       ".tuneStatus .hDivider {\n",
       "  border-bottom-width: var(--jp-border-width);\n",
       "  border-bottom-color: var(--jp-border-color0);\n",
       "  border-bottom-style: solid;\n",
       "}\n",
       ".tuneStatus .vDivider {\n",
       "  border-left-width: var(--jp-border-width);\n",
       "  border-left-color: var(--jp-border-color0);\n",
       "  border-left-style: solid;\n",
       "  margin: 0.5em 1em 0.5em 1em;\n",
       "}\n",
       "</style>\n"
      ],
      "text/plain": [
       "<IPython.core.display.HTML object>"
      ]
     },
     "metadata": {},
     "output_type": "display_data"
    },
    {
     "name": "stderr",
     "output_type": "stream",
     "text": [
      "\u001b[2m\u001b[33m(raylet)\u001b[0m /usr/lib/python3/dist-packages/requests/__init__.py:89: RequestsDependencyWarning: urllib3 (1.26.12) or chardet (3.0.4) doesn't match a supported version!\n",
      "\u001b[2m\u001b[33m(raylet)\u001b[0m   warnings.warn(\"urllib3 ({}) or chardet ({}) doesn't match a supported \"\n",
      "\u001b[2m\u001b[36m(BanditLinUCB pid=29714)\u001b[0m 2023-03-30 10:55:08,830\tWARNING algorithm_config.py:596 -- Cannot create BanditLinUCBConfig from given `config_dict`! Property __stdout_file__ not supported.\n",
      "\u001b[2m\u001b[36m(BanditLinUCB pid=29714)\u001b[0m 2023-03-30 10:55:09,031\tINFO algorithm.py:506 -- Current log_level is WARN. For more information, set 'log_level': 'INFO' / 'DEBUG' or use the -v and -vv flags.\n",
      "\u001b[2m\u001b[36m(BanditLinUCB pid=29714)\u001b[0m /home/kshitij/.local/lib/python3.8/site-packages/gymnasium/wrappers/compatibility.py:67: DeprecationWarning: \u001b[33mWARN: The `gymnasium.make(..., apply_api_compatibility=...)` parameter is deprecated and will be removed in v0.29. Instead use `gym.make('GymV21Environment-v0', env_name=...)` or `from shimmy import GymV21CompatibilityV0`\u001b[0m\n",
      "\u001b[2m\u001b[36m(BanditLinUCB pid=29714)\u001b[0m   logger.deprecation(\n",
      "\u001b[2m\u001b[36m(BanditLinUCB pid=29714)\u001b[0m 2023-03-30 10:55:09,056\tWARNING env.py:156 -- Your env doesn't have a .spec.max_episode_steps attribute. Your horizon will default to infinity, and your environment will not be reset.\n",
      "\u001b[2m\u001b[36m(BanditLinUCB pid=29714)\u001b[0m 2023-03-30 10:55:09,057\tWARNING env.py:166 -- Your env reset() method appears to take 'seed' or 'return_info' arguments. Note that these are not yet supported in RLlib. Seeding will take place using 'env.seed()' and the info dict will not be returned from reset.\n",
      "\u001b[2m\u001b[36m(BanditLinUCB pid=29714)\u001b[0m 2023-03-30 10:55:09,096\tWARNING util.py:67 -- Install gputil for GPU system monitoring.\n",
      "\u001b[2m\u001b[36m(BanditLinUCB pid=29714)\u001b[0m 2023-03-30 10:55:09,270\tWARNING bandit_torch_policy.py:103 -- The env did not report `regret` values in its `info` return, ignoring.\n"
     ]
    },
    {
     "data": {
      "text/html": [
       "<div class=\"trialProgress\">\n",
       "  <h3>Trial Progress</h3>\n",
       "  <table>\n",
       "<thead>\n",
       "<tr><th>Trial name                        </th><th style=\"text-align: right;\">  agent_timesteps_total</th><th>connector_metrics                                                                                                                                               </th><th>counters                                                                                                                        </th><th>custom_metrics  </th><th>date               </th><th>done  </th><th style=\"text-align: right;\">  episode_len_mean</th><th>episode_media  </th><th style=\"text-align: right;\">  episode_reward_max</th><th style=\"text-align: right;\">  episode_reward_mean</th><th style=\"text-align: right;\">  episode_reward_min</th><th style=\"text-align: right;\">  episodes_this_iter</th><th style=\"text-align: right;\">  episodes_total</th><th>experiment_id                   </th><th>hostname             </th><th>info                                                                                                                                                                                                                         </th><th style=\"text-align: right;\">  iterations_since_restore</th><th>node_ip        </th><th style=\"text-align: right;\">  num_agent_steps_sampled</th><th style=\"text-align: right;\">  num_agent_steps_trained</th><th style=\"text-align: right;\">  num_env_steps_sampled</th><th style=\"text-align: right;\">  num_env_steps_sampled_this_iter</th><th style=\"text-align: right;\">  num_env_steps_trained</th><th style=\"text-align: right;\">  num_env_steps_trained_this_iter</th><th style=\"text-align: right;\">  num_faulty_episodes</th><th style=\"text-align: right;\">  num_healthy_workers</th><th style=\"text-align: right;\">  num_in_flight_async_reqs</th><th style=\"text-align: right;\">  num_remote_worker_restarts</th><th style=\"text-align: right;\">  num_steps_trained_this_iter</th><th>perf                                                </th><th style=\"text-align: right;\">  pid</th><th>policy_reward_max  </th><th>policy_reward_mean  </th><th>policy_reward_min  </th><th>sampler_perf                                                                                                                                                                                                  </th><th>sampler_results                                                                                                                                                                                                                                                                                                                                                                                                                                                                                                                                                                                                                                                                                                                                                                                                                                                                                                                                                                                                                                                                                                                                                                                                                                                                                                                                                                                                                                                                                                                                                                                                                                                                                                                                                                                                                                                                                                                                                                 </th><th style=\"text-align: right;\">  time_since_restore</th><th style=\"text-align: right;\">  time_this_iter_s</th><th style=\"text-align: right;\">  time_total_s</th><th>timers                                                                                                                                                                       </th><th style=\"text-align: right;\">  timestamp</th><th style=\"text-align: right;\">  timesteps_since_restore</th><th style=\"text-align: right;\">  timesteps_total</th><th style=\"text-align: right;\">  training_iteration</th><th>trial_id   </th><th style=\"text-align: right;\">  warmup_time</th></tr>\n",
       "</thead>\n",
       "<tbody>\n",
       "<tr><td>BanditLinUCB_RecSim-v1_39ae5_00000</td><td style=\"text-align: right;\">                   5000</td><td>{&#x27;ObsPreprocessorConnector_ms&#x27;: 0.017602820145456416, &#x27;StateBufferConnector_ms&#x27;: 0.0038887325086091693, &#x27;ViewRequirementAgentConnector_ms&#x27;: 0.24856182566860266}</td><td>{&#x27;num_env_steps_sampled&#x27;: 5000, &#x27;num_env_steps_trained&#x27;: 5000, &#x27;num_agent_steps_sampled&#x27;: 5000, &#x27;num_agent_steps_trained&#x27;: 5000}</td><td>{}              </td><td>2023-03-30_10-55-27</td><td>True  </td><td style=\"text-align: right;\">           86.7719</td><td>{}             </td><td style=\"text-align: right;\">             199.429</td><td style=\"text-align: right;\">              155.208</td><td style=\"text-align: right;\">                 116</td><td style=\"text-align: right;\">                   1</td><td style=\"text-align: right;\">              57</td><td>f0a9e58195394270a9e3900613345cfe</td><td>kshitij-Inspiron-5570</td><td>{&#x27;learner&#x27;: {&#x27;default_policy&#x27;: {&#x27;learner_stats&#x27;: {&#x27;update_latency&#x27;: 0.0005545616149902344}}}, &#x27;num_env_steps_sampled&#x27;: 5000, &#x27;num_env_steps_trained&#x27;: 5000, &#x27;num_agent_steps_sampled&#x27;: 5000, &#x27;num_agent_steps_trained&#x27;: 5000}</td><td style=\"text-align: right;\">                        50</td><td>192.168.223.125</td><td style=\"text-align: right;\">                     5000</td><td style=\"text-align: right;\">                     5000</td><td style=\"text-align: right;\">                   5000</td><td style=\"text-align: right;\">                              100</td><td style=\"text-align: right;\">                   5000</td><td style=\"text-align: right;\">                              100</td><td style=\"text-align: right;\">                    0</td><td style=\"text-align: right;\">                    0</td><td style=\"text-align: right;\">                         0</td><td style=\"text-align: right;\">                           0</td><td style=\"text-align: right;\">                          100</td><td>{&#x27;cpu_util_percent&#x27;: 23.6, &#x27;ram_util_percent&#x27;: 67.3}</td><td style=\"text-align: right;\">29714</td><td>{}                 </td><td>{}                  </td><td>{}                 </td><td>{&#x27;mean_raw_obs_processing_ms&#x27;: 0.877096407239162, &#x27;mean_inference_ms&#x27;: 0.617393617662609, &#x27;mean_action_processing_ms&#x27;: 0.11241692166195733, &#x27;mean_env_wait_ms&#x27;: 0.6494790027413037, &#x27;mean_env_render_ms&#x27;: 0.0}</td><td>{&#x27;episode_reward_max&#x27;: 199.4290802344897, &#x27;episode_reward_min&#x27;: 116.0, &#x27;episode_reward_mean&#x27;: 155.20770604227926, &#x27;episode_len_mean&#x27;: 86.7719298245614, &#x27;episode_media&#x27;: {}, &#x27;episodes_this_iter&#x27;: 1, &#x27;policy_reward_min&#x27;: {}, &#x27;policy_reward_max&#x27;: {}, &#x27;policy_reward_mean&#x27;: {}, &#x27;custom_metrics&#x27;: {}, &#x27;hist_stats&#x27;: {&#x27;episode_reward&#x27;: [141.13122623574142, 136.0, 136.62156382987592, 150.02202608496754, 144.69723167993462, 144.0, 144.0, 155.67337416308922, 140.0, 160.0, 160.0, 160.84792865846728, 196.81957626665658, 188.0, 148.88921619850808, 147.1715742926611, 136.0, 116.0, 156.0, 160.341055605909, 169.25616574539228, 161.2662718035141, 166.80136258046616, 160.0, 145.14721402638128, 140.0, 158.08076584184903, 164.0, 155.40264684292606, 166.85530950338932, 168.0, 149.48685067666915, 138.44897769213466, 152.82955032744414, 141.12652159594876, 172.0, 161.28346987346143, 148.0, 158.3701068520367, 156.23987304362427, 148.64553552623738, 156.0, 140.7144065698567, 148.6905696994657, 199.4290802344897, 174.4691244716009, 145.78386542611045, 152.69265301345095, 147.7723188058236, 156.97536508885807, 191.7445026659789, 156.0, 154.0271798046958, 147.73290578786754, 156.0, 176.96345755486576, 138.3884203395668], &#x27;episode_lengths&#x27;: [85, 65, 57, 76, 75, 68, 93, 96, 93, 78, 63, 92, 118, 103, 109, 93, 82, 96, 104, 88, 82, 78, 79, 119, 77, 66, 110, 87, 60, 99, 84, 98, 139, 79, 106, 74, 87, 109, 84, 65, 85, 71, 74, 75, 110, 80, 64, 84, 74, 81, 134, 92, 72, 68, 92, 97, 77]}, &#x27;sampler_perf&#x27;: {&#x27;mean_raw_obs_processing_ms&#x27;: 0.877096407239162, &#x27;mean_inference_ms&#x27;: 0.617393617662609, &#x27;mean_action_processing_ms&#x27;: 0.11241692166195733, &#x27;mean_env_wait_ms&#x27;: 0.6494790027413037, &#x27;mean_env_render_ms&#x27;: 0.0}, &#x27;num_faulty_episodes&#x27;: 0, &#x27;connector_metrics&#x27;: {&#x27;ObsPreprocessorConnector_ms&#x27;: 0.017602820145456416, &#x27;StateBufferConnector_ms&#x27;: 0.0038887325086091693, &#x27;ViewRequirementAgentConnector_ms&#x27;: 0.24856182566860266}}</td><td style=\"text-align: right;\">             16.9739</td><td style=\"text-align: right;\">           0.40763</td><td style=\"text-align: right;\">       16.9739</td><td>{&#x27;training_iteration_time_ms&#x27;: 4.597, &#x27;load_time_ms&#x27;: 0.199, &#x27;load_throughput&#x27;: 5027.936, &#x27;learn_time_ms&#x27;: 1.104, &#x27;learn_throughput&#x27;: 906.093, &#x27;synch_weights_time_ms&#x27;: 0.03}</td><td style=\"text-align: right;\"> 1680153927</td><td style=\"text-align: right;\">                        0</td><td style=\"text-align: right;\">             5000</td><td style=\"text-align: right;\">                  50</td><td>39ae5_00000</td><td style=\"text-align: right;\">    0.0704014</td></tr>\n",
       "</tbody>\n",
       "</table>\n",
       "</div>\n",
       "<style>\n",
       ".trialProgress {\n",
       "  display: flex;\n",
       "  flex-direction: column;\n",
       "  color: var(--jp-ui-font-color1);\n",
       "}\n",
       ".trialProgress h3 {\n",
       "  font-weight: bold;\n",
       "}\n",
       ".trialProgress td {\n",
       "  white-space: nowrap;\n",
       "}\n",
       "</style>\n"
      ],
      "text/plain": [
       "<IPython.core.display.HTML object>"
      ]
     },
     "metadata": {},
     "output_type": "display_data"
    },
    {
     "name": "stderr",
     "output_type": "stream",
     "text": [
      "2023-03-30 10:55:27,398\tINFO tune.py:798 -- Total run time: 23.48 seconds (23.00 seconds for the tuning loop).\n"
     ]
    },
    {
     "name": "stdout",
     "output_type": "stream",
     "text": [
      "The trials took 23.508825540542603 seconds\n",
      "\n"
     ]
    },
    {
     "name": "stderr",
     "output_type": "stream",
     "text": [
      "/tmp/ipykernel_29252/3034082031.py:42: FutureWarning: The frame.append method is deprecated and will be removed from pandas in a future version. Use pandas.concat instead.\n",
      "  frame = frame.append(result.metrics_dataframe, ignore_index=True)\n"
     ]
    },
    {
     "data": {
      "image/png": "[encoded data removed]",
      "text/plain": [
       "<Figure size 432x288 with 1 Axes>"
      ]
     },
     "metadata": {
      "needs_background": "light"
     },
     "output_type": "display_data"
    }
   ],
   "source": [
    "\n",
    "config = (\n",
    "    BanditLinUCBConfig()\n",
    "    .environment(\n",
    "        \"RecSim-v1\",\n",
    "        env_config={\n",
    "            \"num_candidates\": 10,\n",
    "            \"slate_size\": 2,\n",
    "            \"convert_to_discrete_action_space\": True,\n",
    "            \"wrap_for_bandits\": True,\n",
    "        },\n",
    "    ).framework(\"torch\", eager_tracing=\"torch\"==\"tf2\")\n",
    ")\n",
    "\n",
    "# Actual env timesteps per `train()` call will be\n",
    "# 10 * min_sample_timesteps_per_iteration (100 by default) = 1000\n",
    "training_iterations = 50\n",
    "min_sample_timesteps_per_iteration=1000\n",
    "\n",
    "print(\"Running training for %s time steps\" % training_iterations)\n",
    "\n",
    "start_time = time.time()\n",
    "tuner = tune.Tuner(\n",
    "    \"BanditLinUCB\",\n",
    "    param_space=config.to_dict(),\n",
    "    run_config=air.RunConfig(\n",
    "        stop={\"training_iteration\": training_iterations},\n",
    "        checkpoint_config=air.CheckpointConfig(\n",
    "            checkpoint_at_end=False,\n",
    "        ),\n",
    "    ),\n",
    "    tune_config=tune.TuneConfig(\n",
    "        num_samples=1,\n",
    "    ),\n",
    ")\n",
    "results = tuner.fit()\n",
    "\n",
    "print(\"The trials took\", time.time() - start_time, \"seconds\\n\")\n",
    "\n",
    "# Analyze cumulative regrets of the trials\n",
    "frame = pd.DataFrame()\n",
    "for result in results:\n",
    "    frame = frame.append(result.metrics_dataframe, ignore_index=True)\n",
    "x = frame.groupby(\"agent_timesteps_total\")[\"episode_reward_mean\"].aggregate(\n",
    "    [\"mean\", \"max\", \"min\", \"std\"]\n",
    ")\n",
    "\n",
    "plt.plot(x[\"mean\"])\n",
    "plt.fill_between(\n",
    "    x.index, x[\"mean\"] - x[\"std\"], x[\"mean\"] + x[\"std\"], color=\"b\", alpha=0.2\n",
    ")\n",
    "plt.title(\"Episode reward mean\")\n",
    "plt.xlabel(\"Training steps\")\n",
    "plt.show()"
   ]
  },
  {
   "cell_type": "code",
   "execution_count": 5,
   "id": "156fb28a",
   "metadata": {},
   "outputs": [],
   "source": [
    "ray.shutdown()"
   ]
  }
 ],
 "metadata": {
  "kernelspec": {
   "display_name": "Python 3 (ipykernel)",
   "language": "python",
   "name": "python3"
  },
  "language_info": {
   "codemirror_mode": {
    "name": "ipython",
    "version": 3
   },
   "file_extension": ".py",
   "mimetype": "text/x-python",
   "name": "python",
   "nbconvert_exporter": "python",
   "pygments_lexer": "ipython3",
   "version": "3.8.10"
  }
 },
 "nbformat": 4,
 "nbformat_minor": 5
}
